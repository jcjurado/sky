{
 "cells": [
  {
   "cell_type": "code",
   "execution_count": 2,
   "id": "d41af9ce",
   "metadata": {},
   "outputs": [],
   "source": [
    "class Persona:\n",
    "    def __init__(self,nombre,edad,dni):\n",
    "        self.nombre = nombre\n",
    "        self.edad = edad\n",
    "        self.dni = dni\n",
    "        \n",
    "class Auto:\n",
    "    def __init__(self,precio,modelo,color):\n",
    "        self.precio = precio\n",
    "        self.modelo = modelo\n",
    "        self.color = color\n",
    "\n",
    "class Acciones:\n",
    "    def __init__(self,tocker,precio,rubro):\n",
    "        self.tocker = tocker\n",
    "        self.precio = precio\n",
    "        self.rubro = rubro\n"
   ]
  },
  {
   "cell_type": "code",
   "execution_count": 12,
   "id": "e9a3d99e",
   "metadata": {},
   "outputs": [
    {
     "name": "stdout",
     "output_type": "stream",
     "text": [
      "<class '__main__.Persona'>\n",
      "juan\n",
      "1\n",
      "123\n"
     ]
    }
   ],
   "source": [
    "persona1 = Persona(\"juan\",1,123)\n",
    "print(type(persona1))\n",
    "print(persona1.nombre)\n",
    "print(persona1.edad)\n",
    "print(persona1.dni)"
   ]
  },
  {
   "cell_type": "code",
   "execution_count": null,
   "id": "7d75c4bb",
   "metadata": {},
   "outputs": [],
   "source": [
    "class Criptos:\n",
    "    def __init__(self,precio,proyecto):\n",
    "        self.precio = precio\n",
    "        self.proyecto = proyecto\n",
    "        self.holdear = False\n",
    "\n",
    "class Computadoras:\n",
    "    def __init__(self,procesador,ram,disco,tamaño_disco):\n",
    "        self.procesador = procesador\n",
    "        self.ram = ram\n",
    "        self.disco = disco\n",
    "        self.tamaño_disco = tamaño_disco"
   ]
  },
  {
   "cell_type": "code",
   "execution_count": 2,
   "id": "14b730f6",
   "metadata": {},
   "outputs": [
    {
     "name": "stdout",
     "output_type": "stream",
     "text": [
      "Ingrese el nombre: juan\n",
      "Ingrese la edad: 12\n",
      "Nombre:  juan\n",
      "Edad:  12\n"
     ]
    },
    {
     "ename": "AttributeError",
     "evalue": "'super' object has no attribute '_init_'",
     "output_type": "error",
     "traceback": [
      "\u001b[1;31m---------------------------------------------------------------------------\u001b[0m",
      "\u001b[1;31mAttributeError\u001b[0m                            Traceback (most recent call last)",
      "\u001b[1;32m<ipython-input-2-b3416bcb2677>\u001b[0m in \u001b[0;36m<module>\u001b[1;34m\u001b[0m\n\u001b[0;32m     32\u001b[0m \u001b[0mpersona1\u001b[0m\u001b[1;33m=\u001b[0m\u001b[0mPersona\u001b[0m\u001b[1;33m(\u001b[0m\u001b[1;33m)\u001b[0m\u001b[1;33m\u001b[0m\u001b[1;33m\u001b[0m\u001b[0m\n\u001b[0;32m     33\u001b[0m \u001b[0mpersona1\u001b[0m\u001b[1;33m.\u001b[0m\u001b[0mmostrar\u001b[0m\u001b[1;33m(\u001b[0m\u001b[1;33m)\u001b[0m\u001b[1;33m\u001b[0m\u001b[1;33m\u001b[0m\u001b[0m\n\u001b[1;32m---> 34\u001b[1;33m \u001b[0mempleado1\u001b[0m\u001b[1;33m=\u001b[0m\u001b[0mEmpleado\u001b[0m\u001b[1;33m(\u001b[0m\u001b[1;33m)\u001b[0m\u001b[1;33m\u001b[0m\u001b[1;33m\u001b[0m\u001b[0m\n\u001b[0m\u001b[0;32m     35\u001b[0m \u001b[0mempleado1\u001b[0m\u001b[1;33m.\u001b[0m\u001b[0mmostrar\u001b[0m\u001b[1;33m(\u001b[0m\u001b[1;33m)\u001b[0m\u001b[1;33m\u001b[0m\u001b[1;33m\u001b[0m\u001b[0m\n\u001b[0;32m     36\u001b[0m \u001b[0mempleado1\u001b[0m\u001b[1;33m.\u001b[0m\u001b[0mpagar_impuestos\u001b[0m\u001b[1;33m(\u001b[0m\u001b[1;33m)\u001b[0m\u001b[1;33m\u001b[0m\u001b[1;33m\u001b[0m\u001b[0m\n",
      "\u001b[1;32m<ipython-input-2-b3416bcb2677>\u001b[0m in \u001b[0;36m__init__\u001b[1;34m(self)\u001b[0m\n\u001b[0;32m     15\u001b[0m         \u001b[1;31m# llamamos al metodo init de la clase padre\u001b[0m\u001b[1;33m\u001b[0m\u001b[1;33m\u001b[0m\u001b[1;33m\u001b[0m\u001b[0m\n\u001b[0;32m     16\u001b[0m         \u001b[1;31m# utilizamos la funcion super() para hacer referencia al padre\u001b[0m\u001b[1;33m\u001b[0m\u001b[1;33m\u001b[0m\u001b[1;33m\u001b[0m\u001b[0m\n\u001b[1;32m---> 17\u001b[1;33m         \u001b[0msuper\u001b[0m\u001b[1;33m(\u001b[0m\u001b[1;33m)\u001b[0m\u001b[1;33m.\u001b[0m\u001b[0m_init_\u001b[0m\u001b[1;33m(\u001b[0m\u001b[1;33m)\u001b[0m\u001b[1;33m\u001b[0m\u001b[1;33m\u001b[0m\u001b[0m\n\u001b[0m\u001b[0;32m     18\u001b[0m         \u001b[0mself\u001b[0m\u001b[1;33m.\u001b[0m\u001b[0msueldo\u001b[0m\u001b[1;33m=\u001b[0m\u001b[0mfloat\u001b[0m\u001b[1;33m(\u001b[0m\u001b[0minput\u001b[0m\u001b[1;33m(\u001b[0m\u001b[1;34m\"Ingrese el sueldo: \"\u001b[0m\u001b[1;33m)\u001b[0m\u001b[1;33m)\u001b[0m\u001b[1;33m\u001b[0m\u001b[1;33m\u001b[0m\u001b[0m\n\u001b[0;32m     19\u001b[0m     \u001b[1;31m# declaramos el metodo mostrar\u001b[0m\u001b[1;33m\u001b[0m\u001b[1;33m\u001b[0m\u001b[1;33m\u001b[0m\u001b[0m\n",
      "\u001b[1;31mAttributeError\u001b[0m: 'super' object has no attribute '_init_'"
     ]
    }
   ],
   "source": [
    "class Persona:\n",
    "    # declaramos el metodo _init_\n",
    "    def __init__(self):\n",
    "        self.nombre = input(\"Ingrese el nombre: \")\n",
    "        self.edad = int(input(\"Ingrese la edad: \"))\n",
    "    # declaramos el metodo mostrar\n",
    "    def mostrar(self):\n",
    "        print(\"Nombre: \",self.nombre)\n",
    "        print(\"Edad: \",self.edad)\n",
    "# declaramos la clase empleado\n",
    "# la clase empleado hereda los atributos y metodos de la clase Persona\n",
    "class Empleado(Persona):\n",
    "    # declaramos el metodo _init_\n",
    "    def __init__(self):\n",
    "        # llamamos al metodo init de la clase padre\n",
    "        # utilizamos la funcion super() para hacer referencia al padre\n",
    "        super().__init__()\n",
    "        self.sueldo=float(input(\"Ingrese el sueldo: \"))\n",
    "    # declaramos el metodo mostrar\n",
    "    def mostrar(self):\n",
    "        super().mostrar()\n",
    "        print(\"Sueldo: \",self.sueldo)\n",
    "    # declaramos el metodo pagar_impuestos\n",
    "    # comprobara si el empleado debe pagar o no\n",
    "    def pagar_impuestos(self):\n",
    "        if self.sueldo > 3000:\n",
    "            print(\"El empleado debe pagar impuestos.\")\n",
    "        else:\n",
    "            print(\"El empleado no paga impuestos.\")\n",
    "# bloque principal\n",
    "\n",
    "persona1=Persona()\n",
    "persona1.mostrar()\n",
    "empleado1=Empleado()\n",
    "empleado1.mostrar()\n",
    "empleado1.pagar_impuestos()"
   ]
  },
  {
   "cell_type": "code",
   "execution_count": null,
   "id": "3c331674",
   "metadata": {},
   "outputs": [],
   "source": [
    "class Alumno:\n",
    "    def __init__(self):\n",
    "        self.nombre = input(\"Nombre del Alumno: \")\n",
    "        self.nota = int(input(\"Nota del Alumno: \"))\n",
    "    \n",
    "    def mostrarAlumno(self):\n",
    "        print(\"Nombre: \",self.nombre)\n",
    "        print(\"Nota: \",self.nota)\n",
    "        \n",
    "    def mostrarNota(self):\n",
    "        if self.nota >= 7:\n",
    "            print(\"Aprobado\")\n",
    "        else:\n",
    "            print(\"Reprobado\")\n",
    "\n",
    "a = Alumno()\n",
    "a.mostrarAlumno()\n",
    "a.mostrarNota()"
   ]
  },
  {
   "cell_type": "code",
   "execution_count": 6,
   "id": "9f8d3fa5",
   "metadata": {},
   "outputs": [],
   "source": [
    "class Persona:\n",
    "    def __init__(self,nombre,edad):\n",
    "        self.nombre = nombre\n",
    "        self.edad = edad\n",
    "    \n",
    "    def mostrarPersona(self):\n",
    "        print(\"Nombre: \",self.nombre)\n",
    "        print(\"Nota: \",self.edad)\n",
    "        \n",
    "    def mostrarEdad(self):\n",
    "        if self.edad >= 18:\n",
    "            print(\"Es mayor de edad\")\n",
    "        else:\n",
    "            print(\"No es mayor de edad\")"
   ]
  },
  {
   "cell_type": "code",
   "execution_count": 7,
   "id": "cc37bacc",
   "metadata": {},
   "outputs": [
    {
     "name": "stdout",
     "output_type": "stream",
     "text": [
      "Nombre de la persona: juan\n",
      "Edad: 12\n"
     ]
    }
   ],
   "source": [
    "nombre = input(\"Nombre de la persona: \")\n",
    "edad = int(input(\"Edad: \"))\n",
    "\n",
    "p = Persona(nombre,edad)"
   ]
  },
  {
   "cell_type": "code",
   "execution_count": 8,
   "id": "3b4b02e2",
   "metadata": {},
   "outputs": [
    {
     "name": "stdout",
     "output_type": "stream",
     "text": [
      "Nombre:  juan\n",
      "Nota:  12\n",
      "No es mayor de edad\n"
     ]
    }
   ],
   "source": [
    "p.mostrarPersona()\n",
    "p.mostrarEdad()"
   ]
  },
  {
   "cell_type": "code",
   "execution_count": 20,
   "id": "5830bb6e",
   "metadata": {},
   "outputs": [
    {
     "name": "stdout",
     "output_type": "stream",
     "text": [
      "El titulas es  juan\n",
      "La cantidad es  100\n"
     ]
    }
   ],
   "source": [
    "class Cuenta:\n",
    "    def __init__(self,titular,cantidad):\n",
    "        self.titular = titular\n",
    "        self.cantidad = cantidad\n",
    "    \n",
    "    def mostrarCuenta(self):\n",
    "        print(\"El titulas es \", self.titular)\n",
    "        print(\"La cantidad es \", self.cantidad)\n",
    "    \n",
    "    def mostrarCantidad(self):\n",
    "        return self.cantidad\n",
    "\n",
    "        \n",
    "class CajaAhorro(Cuenta):\n",
    "    def __init__(self,titular,cantidad):\n",
    "        super().__init__(titular,cantidad)\n",
    "        \n",
    "    def mostrarCuenta(self): \n",
    "        super().mostrarCuenta()\n",
    "        \n",
    "\n",
    "c = CajaAhorro(\"juan\",100)\n",
    "c.mostrarCuenta()"
   ]
  },
  {
   "cell_type": "code",
   "execution_count": 25,
   "id": "e7cd4659",
   "metadata": {},
   "outputs": [
    {
     "name": "stdout",
     "output_type": "stream",
     "text": [
      "El titulas es  juan\n",
      "La cantidad es  100\n",
      "El monto calculado es  10.0\n"
     ]
    }
   ],
   "source": [
    "class PlazoFijo(Cuenta):\n",
    "    def __init__(self,titular,cantidad,plazo,interes):\n",
    "        super().__init__(titular,cantidad)\n",
    "        self.plazo = plazo\n",
    "        self.interes = interes\n",
    "    \n",
    "    def calcularPlazo(self):\n",
    "        montoPlazo = super().mostrarCantidad() * (self.interes/100)\n",
    "        print(\"El monto calculado es \",montoPlazo)\n",
    "\n",
    "p = PlazoFijo(\"juan\",100,40,10)\n",
    "p.mostrarCuenta()\n",
    "p.calcularPlazo()"
   ]
  },
  {
   "cell_type": "code",
   "execution_count": null,
   "id": "847d3d60",
   "metadata": {},
   "outputs": [],
   "source": []
  }
 ],
 "metadata": {
  "kernelspec": {
   "display_name": "Python 3",
   "language": "python",
   "name": "python3"
  },
  "language_info": {
   "codemirror_mode": {
    "name": "ipython",
    "version": 3
   },
   "file_extension": ".py",
   "mimetype": "text/x-python",
   "name": "python",
   "nbconvert_exporter": "python",
   "pygments_lexer": "ipython3",
   "version": "3.8.8"
  }
 },
 "nbformat": 4,
 "nbformat_minor": 5
}
