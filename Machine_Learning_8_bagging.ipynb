{
 "cells": [
  {
   "cell_type": "markdown",
   "metadata": {
    "id": "UdTEF8c0s98b"
   },
   "source": [
    "# Bagging\n",
    "\n",
    "Vamos a utilizar el siguiente dataset: https://www.kaggle.com/jsphyg/weather-dataset-rattle-package\n",
    "\n",
    "Las siguientes celdas lo descargan e importan:"
   ]
  },
  {
   "cell_type": "code",
   "execution_count": 1,
   "metadata": {
    "id": "IA4ODblEsGQd"
   },
   "outputs": [],
   "source": [
    "import pandas as pd\n",
    "import numpy as np\n",
    "import seaborn as sns\n",
    "import matplotlib.pyplot as plt"
   ]
  },
  {
   "cell_type": "code",
   "execution_count": 4,
   "metadata": {
    "colab": {
     "base_uri": "https://localhost:8080/"
    },
    "executionInfo": {
     "elapsed": 422,
     "status": "ok",
     "timestamp": 1634417301309,
     "user": {
      "displayName": "Federico Baiocco",
      "photoUrl": "https://lh3.googleusercontent.com/a-/AOh14Ghf2wyATB48QBNVeVnR-1Y2rw_O5uZLAvphY2Otz9c=s64",
      "userId": "14260194928165318342"
     },
     "user_tz": 180
    },
    "id": "28Y0QXqYveF6",
    "outputId": "98445c80-4b67-472e-fe05-cb54b82953f2"
   },
   "outputs": [
    {
     "name": "stderr",
     "output_type": "stream",
     "text": [
      "'https://docs.google.com/uc?export=download: Scheme missing.\n",
      "\"id\" no se reconoce como un comando interno o externo,\n",
      "programa o archivo por lotes ejecutable.\n"
     ]
    }
   ],
   "source": [
    "!wget --no-check-certificate 'https://docs.google.com/uc?export=download&id=1X0MT5YFVOduVogJ9cZKjCJ7fs-OdVuAT' -O weatherAUS.csv"
   ]
  },
  {
   "cell_type": "code",
   "execution_count": 5,
   "metadata": {
    "id": "TN3sDPrBveIX"
   },
   "outputs": [],
   "source": [
    "df = pd.read_csv(\"E:\\Mis Carpetas\\Documentos\\Data Science/weather.csv\")"
   ]
  },
  {
   "cell_type": "code",
   "execution_count": 6,
   "metadata": {
    "colab": {
     "base_uri": "https://localhost:8080/",
     "height": 313
    },
    "executionInfo": {
     "elapsed": 13,
     "status": "ok",
     "timestamp": 1634417302044,
     "user": {
      "displayName": "Federico Baiocco",
      "photoUrl": "https://lh3.googleusercontent.com/a-/AOh14Ghf2wyATB48QBNVeVnR-1Y2rw_O5uZLAvphY2Otz9c=s64",
      "userId": "14260194928165318342"
     },
     "user_tz": 180
    },
    "id": "QdYkK-fqwx5Z",
    "outputId": "821c55d7-1e33-44e2-89d0-6e727c15b8d4"
   },
   "outputs": [
    {
     "data": {
      "text/html": [
       "<div>\n",
       "<style scoped>\n",
       "    .dataframe tbody tr th:only-of-type {\n",
       "        vertical-align: middle;\n",
       "    }\n",
       "\n",
       "    .dataframe tbody tr th {\n",
       "        vertical-align: top;\n",
       "    }\n",
       "\n",
       "    .dataframe thead th {\n",
       "        text-align: right;\n",
       "    }\n",
       "</style>\n",
       "<table border=\"1\" class=\"dataframe\">\n",
       "  <thead>\n",
       "    <tr style=\"text-align: right;\">\n",
       "      <th></th>\n",
       "      <th>Date</th>\n",
       "      <th>Location</th>\n",
       "      <th>MinTemp</th>\n",
       "      <th>MaxTemp</th>\n",
       "      <th>Rainfall</th>\n",
       "      <th>Evaporation</th>\n",
       "      <th>Sunshine</th>\n",
       "      <th>WindGustDir</th>\n",
       "      <th>WindGustSpeed</th>\n",
       "      <th>WindDir9am</th>\n",
       "      <th>WindDir3pm</th>\n",
       "      <th>WindSpeed9am</th>\n",
       "      <th>WindSpeed3pm</th>\n",
       "      <th>Humidity9am</th>\n",
       "      <th>Humidity3pm</th>\n",
       "      <th>Pressure9am</th>\n",
       "      <th>Pressure3pm</th>\n",
       "      <th>Cloud9am</th>\n",
       "      <th>Cloud3pm</th>\n",
       "      <th>Temp9am</th>\n",
       "      <th>Temp3pm</th>\n",
       "      <th>RainToday</th>\n",
       "      <th>RainTomorrow</th>\n",
       "    </tr>\n",
       "  </thead>\n",
       "  <tbody>\n",
       "    <tr>\n",
       "      <th>0</th>\n",
       "      <td>2008-12-01</td>\n",
       "      <td>Albury</td>\n",
       "      <td>13.4</td>\n",
       "      <td>22.9</td>\n",
       "      <td>0.6</td>\n",
       "      <td>NaN</td>\n",
       "      <td>NaN</td>\n",
       "      <td>W</td>\n",
       "      <td>44.0</td>\n",
       "      <td>W</td>\n",
       "      <td>WNW</td>\n",
       "      <td>20.0</td>\n",
       "      <td>24.0</td>\n",
       "      <td>71.0</td>\n",
       "      <td>22.0</td>\n",
       "      <td>1007.7</td>\n",
       "      <td>1007.1</td>\n",
       "      <td>8.0</td>\n",
       "      <td>NaN</td>\n",
       "      <td>16.9</td>\n",
       "      <td>21.8</td>\n",
       "      <td>No</td>\n",
       "      <td>No</td>\n",
       "    </tr>\n",
       "    <tr>\n",
       "      <th>1</th>\n",
       "      <td>2008-12-02</td>\n",
       "      <td>Albury</td>\n",
       "      <td>7.4</td>\n",
       "      <td>25.1</td>\n",
       "      <td>0.0</td>\n",
       "      <td>NaN</td>\n",
       "      <td>NaN</td>\n",
       "      <td>WNW</td>\n",
       "      <td>44.0</td>\n",
       "      <td>NNW</td>\n",
       "      <td>WSW</td>\n",
       "      <td>4.0</td>\n",
       "      <td>22.0</td>\n",
       "      <td>44.0</td>\n",
       "      <td>25.0</td>\n",
       "      <td>1010.6</td>\n",
       "      <td>1007.8</td>\n",
       "      <td>NaN</td>\n",
       "      <td>NaN</td>\n",
       "      <td>17.2</td>\n",
       "      <td>24.3</td>\n",
       "      <td>No</td>\n",
       "      <td>No</td>\n",
       "    </tr>\n",
       "    <tr>\n",
       "      <th>2</th>\n",
       "      <td>2008-12-03</td>\n",
       "      <td>Albury</td>\n",
       "      <td>12.9</td>\n",
       "      <td>25.7</td>\n",
       "      <td>0.0</td>\n",
       "      <td>NaN</td>\n",
       "      <td>NaN</td>\n",
       "      <td>WSW</td>\n",
       "      <td>46.0</td>\n",
       "      <td>W</td>\n",
       "      <td>WSW</td>\n",
       "      <td>19.0</td>\n",
       "      <td>26.0</td>\n",
       "      <td>38.0</td>\n",
       "      <td>30.0</td>\n",
       "      <td>1007.6</td>\n",
       "      <td>1008.7</td>\n",
       "      <td>NaN</td>\n",
       "      <td>2.0</td>\n",
       "      <td>21.0</td>\n",
       "      <td>23.2</td>\n",
       "      <td>No</td>\n",
       "      <td>No</td>\n",
       "    </tr>\n",
       "    <tr>\n",
       "      <th>3</th>\n",
       "      <td>2008-12-04</td>\n",
       "      <td>Albury</td>\n",
       "      <td>9.2</td>\n",
       "      <td>28.0</td>\n",
       "      <td>0.0</td>\n",
       "      <td>NaN</td>\n",
       "      <td>NaN</td>\n",
       "      <td>NE</td>\n",
       "      <td>24.0</td>\n",
       "      <td>SE</td>\n",
       "      <td>E</td>\n",
       "      <td>11.0</td>\n",
       "      <td>9.0</td>\n",
       "      <td>45.0</td>\n",
       "      <td>16.0</td>\n",
       "      <td>1017.6</td>\n",
       "      <td>1012.8</td>\n",
       "      <td>NaN</td>\n",
       "      <td>NaN</td>\n",
       "      <td>18.1</td>\n",
       "      <td>26.5</td>\n",
       "      <td>No</td>\n",
       "      <td>No</td>\n",
       "    </tr>\n",
       "    <tr>\n",
       "      <th>4</th>\n",
       "      <td>2008-12-05</td>\n",
       "      <td>Albury</td>\n",
       "      <td>17.5</td>\n",
       "      <td>32.3</td>\n",
       "      <td>1.0</td>\n",
       "      <td>NaN</td>\n",
       "      <td>NaN</td>\n",
       "      <td>W</td>\n",
       "      <td>41.0</td>\n",
       "      <td>ENE</td>\n",
       "      <td>NW</td>\n",
       "      <td>7.0</td>\n",
       "      <td>20.0</td>\n",
       "      <td>82.0</td>\n",
       "      <td>33.0</td>\n",
       "      <td>1010.8</td>\n",
       "      <td>1006.0</td>\n",
       "      <td>7.0</td>\n",
       "      <td>8.0</td>\n",
       "      <td>17.8</td>\n",
       "      <td>29.7</td>\n",
       "      <td>No</td>\n",
       "      <td>No</td>\n",
       "    </tr>\n",
       "  </tbody>\n",
       "</table>\n",
       "</div>"
      ],
      "text/plain": [
       "         Date Location  MinTemp  ...  Temp3pm  RainToday  RainTomorrow\n",
       "0  2008-12-01   Albury     13.4  ...     21.8         No            No\n",
       "1  2008-12-02   Albury      7.4  ...     24.3         No            No\n",
       "2  2008-12-03   Albury     12.9  ...     23.2         No            No\n",
       "3  2008-12-04   Albury      9.2  ...     26.5         No            No\n",
       "4  2008-12-05   Albury     17.5  ...     29.7         No            No\n",
       "\n",
       "[5 rows x 23 columns]"
      ]
     },
     "execution_count": 6,
     "metadata": {},
     "output_type": "execute_result"
    }
   ],
   "source": [
    "df.head()"
   ]
  },
  {
   "cell_type": "markdown",
   "metadata": {
    "id": "peV7w-Ruva8E"
   },
   "source": [
    "Vamos a descartar las columnas:\n",
    "\n",
    "- Sunshine          \n",
    "- Evaporation       \n",
    "- Cloud3pm          \n",
    "- Cloud9am  \n",
    "- Location\n",
    "- Date       \n",
    "- WindGustDir\n",
    "- WindDir9am "
   ]
  },
  {
   "cell_type": "code",
   "execution_count": 7,
   "metadata": {
    "executionInfo": {
     "elapsed": 5,
     "status": "ok",
     "timestamp": 1634419786100,
     "user": {
      "displayName": "Federico Baiocco",
      "photoUrl": "https://lh3.googleusercontent.com/a-/AOh14Ghf2wyATB48QBNVeVnR-1Y2rw_O5uZLAvphY2Otz9c=s64",
      "userId": "14260194928165318342"
     },
     "user_tz": 180
    },
    "id": "ETsN25nkvbEQ"
   },
   "outputs": [],
   "source": [
    "df.drop(columns=[\"Sunshine\",\"Evaporation\",\"Cloud3pm\",\"Cloud9am\",\"Location\",\"Date\",\"WindGustDir\",\"WindDir9am\"],axis=1,inplace=True)"
   ]
  },
  {
   "cell_type": "code",
   "execution_count": 8,
   "metadata": {
    "colab": {
     "base_uri": "https://localhost:8080/"
    },
    "executionInfo": {
     "elapsed": 12,
     "status": "ok",
     "timestamp": 1634417302046,
     "user": {
      "displayName": "Federico Baiocco",
      "photoUrl": "https://lh3.googleusercontent.com/a-/AOh14Ghf2wyATB48QBNVeVnR-1Y2rw_O5uZLAvphY2Otz9c=s64",
      "userId": "14260194928165318342"
     },
     "user_tz": 180
    },
    "id": "Adjx6kDP0btk",
    "outputId": "02ae749f-58ba-480b-8227-e13368a100e9"
   },
   "outputs": [
    {
     "data": {
      "text/plain": [
       "(145460, 15)"
      ]
     },
     "execution_count": 8,
     "metadata": {},
     "output_type": "execute_result"
    }
   ],
   "source": [
    "df.shape"
   ]
  },
  {
   "cell_type": "markdown",
   "metadata": {
    "id": "_NfAg7W5y8sZ"
   },
   "source": [
    "Descartar todas las filas que tengan nulos:"
   ]
  },
  {
   "cell_type": "code",
   "execution_count": 11,
   "metadata": {
    "executionInfo": {
     "elapsed": 4,
     "status": "ok",
     "timestamp": 1634419786100,
     "user": {
      "displayName": "Federico Baiocco",
      "photoUrl": "https://lh3.googleusercontent.com/a-/AOh14Ghf2wyATB48QBNVeVnR-1Y2rw_O5uZLAvphY2Otz9c=s64",
      "userId": "14260194928165318342"
     },
     "user_tz": 180
    },
    "id": "kM48U2kVy6gU"
   },
   "outputs": [],
   "source": [
    "df.dropna(inplace=True)"
   ]
  },
  {
   "cell_type": "code",
   "execution_count": 12,
   "metadata": {
    "colab": {
     "base_uri": "https://localhost:8080/"
    },
    "executionInfo": {
     "elapsed": 11,
     "status": "ok",
     "timestamp": 1634417302047,
     "user": {
      "displayName": "Federico Baiocco",
      "photoUrl": "https://lh3.googleusercontent.com/a-/AOh14Ghf2wyATB48QBNVeVnR-1Y2rw_O5uZLAvphY2Otz9c=s64",
      "userId": "14260194928165318342"
     },
     "user_tz": 180
    },
    "id": "eG4NRJq60dPh",
    "outputId": "bd1560e2-3c46-4a33-f91c-7f5f0f58fc00"
   },
   "outputs": [
    {
     "data": {
      "text/plain": [
       "(119016, 15)"
      ]
     },
     "execution_count": 12,
     "metadata": {},
     "output_type": "execute_result"
    }
   ],
   "source": [
    "df.shape"
   ]
  },
  {
   "cell_type": "code",
   "execution_count": 15,
   "metadata": {},
   "outputs": [
    {
     "data": {
      "text/html": [
       "<div>\n",
       "<style scoped>\n",
       "    .dataframe tbody tr th:only-of-type {\n",
       "        vertical-align: middle;\n",
       "    }\n",
       "\n",
       "    .dataframe tbody tr th {\n",
       "        vertical-align: top;\n",
       "    }\n",
       "\n",
       "    .dataframe thead th {\n",
       "        text-align: right;\n",
       "    }\n",
       "</style>\n",
       "<table border=\"1\" class=\"dataframe\">\n",
       "  <thead>\n",
       "    <tr style=\"text-align: right;\">\n",
       "      <th></th>\n",
       "      <th>MinTemp</th>\n",
       "      <th>MaxTemp</th>\n",
       "      <th>Rainfall</th>\n",
       "      <th>WindGustSpeed</th>\n",
       "      <th>WindDir3pm</th>\n",
       "      <th>WindSpeed9am</th>\n",
       "      <th>WindSpeed3pm</th>\n",
       "      <th>Humidity9am</th>\n",
       "      <th>Humidity3pm</th>\n",
       "      <th>Pressure9am</th>\n",
       "      <th>Pressure3pm</th>\n",
       "      <th>Temp9am</th>\n",
       "      <th>Temp3pm</th>\n",
       "      <th>RainToday</th>\n",
       "      <th>RainTomorrow</th>\n",
       "    </tr>\n",
       "  </thead>\n",
       "  <tbody>\n",
       "    <tr>\n",
       "      <th>0</th>\n",
       "      <td>13.4</td>\n",
       "      <td>22.9</td>\n",
       "      <td>0.6</td>\n",
       "      <td>44.0</td>\n",
       "      <td>WNW</td>\n",
       "      <td>20.0</td>\n",
       "      <td>24.0</td>\n",
       "      <td>71.0</td>\n",
       "      <td>22.0</td>\n",
       "      <td>1007.7</td>\n",
       "      <td>1007.1</td>\n",
       "      <td>16.9</td>\n",
       "      <td>21.8</td>\n",
       "      <td>No</td>\n",
       "      <td>No</td>\n",
       "    </tr>\n",
       "    <tr>\n",
       "      <th>1</th>\n",
       "      <td>7.4</td>\n",
       "      <td>25.1</td>\n",
       "      <td>0.0</td>\n",
       "      <td>44.0</td>\n",
       "      <td>WSW</td>\n",
       "      <td>4.0</td>\n",
       "      <td>22.0</td>\n",
       "      <td>44.0</td>\n",
       "      <td>25.0</td>\n",
       "      <td>1010.6</td>\n",
       "      <td>1007.8</td>\n",
       "      <td>17.2</td>\n",
       "      <td>24.3</td>\n",
       "      <td>No</td>\n",
       "      <td>No</td>\n",
       "    </tr>\n",
       "    <tr>\n",
       "      <th>2</th>\n",
       "      <td>12.9</td>\n",
       "      <td>25.7</td>\n",
       "      <td>0.0</td>\n",
       "      <td>46.0</td>\n",
       "      <td>WSW</td>\n",
       "      <td>19.0</td>\n",
       "      <td>26.0</td>\n",
       "      <td>38.0</td>\n",
       "      <td>30.0</td>\n",
       "      <td>1007.6</td>\n",
       "      <td>1008.7</td>\n",
       "      <td>21.0</td>\n",
       "      <td>23.2</td>\n",
       "      <td>No</td>\n",
       "      <td>No</td>\n",
       "    </tr>\n",
       "    <tr>\n",
       "      <th>3</th>\n",
       "      <td>9.2</td>\n",
       "      <td>28.0</td>\n",
       "      <td>0.0</td>\n",
       "      <td>24.0</td>\n",
       "      <td>E</td>\n",
       "      <td>11.0</td>\n",
       "      <td>9.0</td>\n",
       "      <td>45.0</td>\n",
       "      <td>16.0</td>\n",
       "      <td>1017.6</td>\n",
       "      <td>1012.8</td>\n",
       "      <td>18.1</td>\n",
       "      <td>26.5</td>\n",
       "      <td>No</td>\n",
       "      <td>No</td>\n",
       "    </tr>\n",
       "    <tr>\n",
       "      <th>4</th>\n",
       "      <td>17.5</td>\n",
       "      <td>32.3</td>\n",
       "      <td>1.0</td>\n",
       "      <td>41.0</td>\n",
       "      <td>NW</td>\n",
       "      <td>7.0</td>\n",
       "      <td>20.0</td>\n",
       "      <td>82.0</td>\n",
       "      <td>33.0</td>\n",
       "      <td>1010.8</td>\n",
       "      <td>1006.0</td>\n",
       "      <td>17.8</td>\n",
       "      <td>29.7</td>\n",
       "      <td>No</td>\n",
       "      <td>No</td>\n",
       "    </tr>\n",
       "  </tbody>\n",
       "</table>\n",
       "</div>"
      ],
      "text/plain": [
       "   MinTemp  MaxTemp  Rainfall  ...  Temp3pm RainToday  RainTomorrow\n",
       "0     13.4     22.9       0.6  ...     21.8        No            No\n",
       "1      7.4     25.1       0.0  ...     24.3        No            No\n",
       "2     12.9     25.7       0.0  ...     23.2        No            No\n",
       "3      9.2     28.0       0.0  ...     26.5        No            No\n",
       "4     17.5     32.3       1.0  ...     29.7        No            No\n",
       "\n",
       "[5 rows x 15 columns]"
      ]
     },
     "execution_count": 15,
     "metadata": {},
     "output_type": "execute_result"
    }
   ],
   "source": [
    "df.head(5)"
   ]
  },
  {
   "cell_type": "markdown",
   "metadata": {
    "id": "wuCbQHIx0Cto"
   },
   "source": [
    "Separamos en X e y. Nuestro objetivo es predecir si va a llover mañana."
   ]
  },
  {
   "cell_type": "code",
   "execution_count": 32,
   "metadata": {
    "executionInfo": {
     "elapsed": 4,
     "status": "ok",
     "timestamp": 1634419786101,
     "user": {
      "displayName": "Federico Baiocco",
      "photoUrl": "https://lh3.googleusercontent.com/a-/AOh14Ghf2wyATB48QBNVeVnR-1Y2rw_O5uZLAvphY2Otz9c=s64",
      "userId": "14260194928165318342"
     },
     "user_tz": 180
    },
    "id": "cEy2cO030HOP"
   },
   "outputs": [],
   "source": [
    "X = df.drop(\"RainTomorrow\", axis=1).copy()\n",
    "y = df.RainTomorrow.copy()"
   ]
  },
  {
   "cell_type": "markdown",
   "metadata": {
    "id": "pI4FcCgk0MVP"
   },
   "source": [
    "Aplicamos train test split. El set de test tendrá un 20% de los datos con un random state de 42 y stratify."
   ]
  },
  {
   "cell_type": "code",
   "execution_count": 91,
   "metadata": {
    "executionInfo": {
     "elapsed": 330,
     "status": "ok",
     "timestamp": 1634419791377,
     "user": {
      "displayName": "Federico Baiocco",
      "photoUrl": "https://lh3.googleusercontent.com/a-/AOh14Ghf2wyATB48QBNVeVnR-1Y2rw_O5uZLAvphY2Otz9c=s64",
      "userId": "14260194928165318342"
     },
     "user_tz": 180
    },
    "id": "RLSgIp0V0gpI"
   },
   "outputs": [],
   "source": [
    "from sklearn.model_selection import train_test_split\n",
    "from sklearn.preprocessing import OneHotEncoder\n",
    "\n",
    "X_train, X_test, y_train, y_test = train_test_split(X, y, test_size=0.2, random_state=42, stratify=y)"
   ]
  },
  {
   "cell_type": "markdown",
   "metadata": {
    "id": "7caaR3hmzgM3"
   },
   "source": [
    "Aplicar one hot encoder a las variables categóricas.\n",
    "\n",
    "Recuerden hacer fit en train y luego en test solo transform."
   ]
  },
  {
   "cell_type": "code",
   "execution_count": 92,
   "metadata": {
    "executionInfo": {
     "elapsed": 349,
     "status": "ok",
     "timestamp": 1634419793924,
     "user": {
      "displayName": "Federico Baiocco",
      "photoUrl": "https://lh3.googleusercontent.com/a-/AOh14Ghf2wyATB48QBNVeVnR-1Y2rw_O5uZLAvphY2Otz9c=s64",
      "userId": "14260194928165318342"
     },
     "user_tz": 180
    },
    "id": "pR0ti_CKzGe6"
   },
   "outputs": [],
   "source": [
    "from sklearn.preprocessing import OneHotEncoder\n",
    "\n",
    "enc = OneHotEncoder(sparse=False)\n",
    "enc.fit(X_train[[\"WindDir3pm\", \"RainToday\"]])\n",
    "\n",
    "encoded = enc.transform(X_train[[\"WindDir3pm\", \"RainToday\"]])\n",
    "df_encoded = pd.DataFrame(columns=enc.get_feature_names(), data= encoded, index=X_train.index)\n",
    "\n",
    "X_train = pd.concat([X_train, df_encoded],axis=1)\n",
    "\n",
    "\n",
    "encoded = enc.transform(X_test[[\"WindDir3pm\", \"RainToday\"]])\n",
    "df_encoded = pd.DataFrame(columns=enc.get_feature_names(), data= encoded, index=X_test.index)\n",
    "\n",
    "X_test = pd.concat([X_test, df_encoded], axis=1)"
   ]
  },
  {
   "cell_type": "markdown",
   "metadata": {
    "id": "cAn60UY836E3"
   },
   "source": [
    "Dropear las columnas originales:"
   ]
  },
  {
   "cell_type": "code",
   "execution_count": 93,
   "metadata": {
    "executionInfo": {
     "elapsed": 313,
     "status": "ok",
     "timestamp": 1634419796634,
     "user": {
      "displayName": "Federico Baiocco",
      "photoUrl": "https://lh3.googleusercontent.com/a-/AOh14Ghf2wyATB48QBNVeVnR-1Y2rw_O5uZLAvphY2Otz9c=s64",
      "userId": "14260194928165318342"
     },
     "user_tz": 180
    },
    "id": "psxJ2f5j3yyE"
   },
   "outputs": [],
   "source": [
    "X_train.drop(columns=[\"WindDir3pm\", \"RainToday\"],axis=1, inplace=True)\n",
    "X_test.drop(columns=[\"WindDir3pm\", \"RainToday\"],axis=1, inplace=True)"
   ]
  },
  {
   "cell_type": "markdown",
   "metadata": {
    "id": "mwLP3oWz4O_X"
   },
   "source": [
    "Llevar el target a una variable numérica:\n",
    "\n",
    "- 1 si va a llover mañana\n",
    "- 0 si no va a llover mañana"
   ]
  },
  {
   "cell_type": "code",
   "execution_count": 94,
   "metadata": {
    "executionInfo": {
     "elapsed": 3,
     "status": "ok",
     "timestamp": 1634419798501,
     "user": {
      "displayName": "Federico Baiocco",
      "photoUrl": "https://lh3.googleusercontent.com/a-/AOh14Ghf2wyATB48QBNVeVnR-1Y2rw_O5uZLAvphY2Otz9c=s64",
      "userId": "14260194928165318342"
     },
     "user_tz": 180
    },
    "id": "dGaynYDy4FQm"
   },
   "outputs": [],
   "source": [
    "y_train = y_train.map({'Yes':1,'No':0})\n",
    "y_test = y_test.map({'Yes':1, 'No':0})"
   ]
  },
  {
   "cell_type": "markdown",
   "metadata": {
    "id": "U2BxhFGD4owN"
   },
   "source": [
    "Entrenar un arbol de decision con:\n",
    "- max_depth=10\n",
    "- random_state=0\n",
    "\n",
    "y obtener el classification report para train y test."
   ]
  },
  {
   "cell_type": "code",
   "execution_count": 102,
   "metadata": {
    "executionInfo": {
     "elapsed": 407,
     "status": "ok",
     "timestamp": 1634419801399,
     "user": {
      "displayName": "Federico Baiocco",
      "photoUrl": "https://lh3.googleusercontent.com/a-/AOh14Ghf2wyATB48QBNVeVnR-1Y2rw_O5uZLAvphY2Otz9c=s64",
      "userId": "14260194928165318342"
     },
     "user_tz": 180
    },
    "id": "B38wQkmd5cvQ"
   },
   "outputs": [
    {
     "name": "stdout",
     "output_type": "stream",
     "text": [
      "              precision    recall  f1-score   support\n",
      "\n",
      "           0       0.89      0.96      0.92     74409\n",
      "           1       0.79      0.56      0.65     20803\n",
      "\n",
      "    accuracy                           0.87     95212\n",
      "   macro avg       0.84      0.76      0.79     95212\n",
      "weighted avg       0.86      0.87      0.86     95212\n",
      "\n",
      "              precision    recall  f1-score   support\n",
      "\n",
      "           0       0.87      0.94      0.90     18603\n",
      "           1       0.70      0.49      0.58      5201\n",
      "\n",
      "    accuracy                           0.84     23804\n",
      "   macro avg       0.78      0.72      0.74     23804\n",
      "weighted avg       0.83      0.84      0.83     23804\n",
      "\n"
     ]
    }
   ],
   "source": [
    "from sklearn.tree import DecisionTreeClassifier\n",
    "\n",
    "tree = DecisionTreeClassifier(max_depth=10, random_state=0).fit(X_train,y_train)\n",
    "\n",
    "\n",
    "y_train_pred = tree.predict(X_train)\n",
    "y_test_pred = tree.predict(X_test)\n",
    "\n",
    "from sklearn.metrics import classification_report\n",
    "\n",
    "print(classification_report(y_train, y_train_pred))\n",
    "print(classification_report(y_test, y_test_pred))"
   ]
  },
  {
   "cell_type": "markdown",
   "metadata": {
    "id": "Wddvfxu-6V4k"
   },
   "source": [
    "Ahora, usar un Bagging Classifier armado con árboles de decisión: \n",
    "https://scikit-learn.org/stable/modules/generated/sklearn.ensemble.BaggingClassifier.html\n",
    "\n",
    "Los árboles que usemos en este clasificador, deberán tener la misma profundidad máxima (max_depth) que el árbol que entrenamos recién.\n",
    "\n",
    "Además usar: \n",
    "\n",
    "- n_estimators = 200\n",
    "- n_jobs = -1 -> ¿Qué pasa si sacamos esto?\n",
    "- random_state = 0 -> En el arbol y en el BaggingClassifier"
   ]
  },
  {
   "cell_type": "code",
   "execution_count": 103,
   "metadata": {
    "executionInfo": {
     "elapsed": 346,
     "status": "ok",
     "timestamp": 1634419804266,
     "user": {
      "displayName": "Federico Baiocco",
      "photoUrl": "https://lh3.googleusercontent.com/a-/AOh14Ghf2wyATB48QBNVeVnR-1Y2rw_O5uZLAvphY2Otz9c=s64",
      "userId": "14260194928165318342"
     },
     "user_tz": 180
    },
    "id": "wN7aU8ut6FmM"
   },
   "outputs": [
    {
     "name": "stdout",
     "output_type": "stream",
     "text": [
      "              precision    recall  f1-score   support\n",
      "\n",
      "           0       0.89      0.97      0.93     74409\n",
      "           1       0.85      0.56      0.67     20803\n",
      "\n",
      "    accuracy                           0.88     95212\n",
      "   macro avg       0.87      0.76      0.80     95212\n",
      "weighted avg       0.88      0.88      0.87     95212\n",
      "\n",
      "              precision    recall  f1-score   support\n",
      "\n",
      "           0       0.87      0.96      0.91     18603\n",
      "           1       0.76      0.50      0.60      5201\n",
      "\n",
      "    accuracy                           0.86     23804\n",
      "   macro avg       0.82      0.73      0.76     23804\n",
      "weighted avg       0.85      0.86      0.85     23804\n",
      "\n",
      "Wall time: 3min 26s\n"
     ]
    }
   ],
   "source": [
    "%%time\n",
    "from sklearn.ensemble import BaggingClassifier\n",
    "clf = BaggingClassifier(base_estimator=DecisionTreeClassifier(max_depth=10, random_state=0), n_estimators=200,n_jobs=-1,random_state=0)\n",
    "\n",
    "clf.fit(X_train, y_train)\n",
    "\n",
    "y_train_pred = clf.predict(X_train)\n",
    "y_test_pred =  clf.predict(X_test)\n",
    "\n",
    "print(classification_report(y_train, y_train_pred))\n",
    "print(classification_report(y_test,y_test_pred))"
   ]
  },
  {
   "cell_type": "markdown",
   "metadata": {
    "id": "HRuIFiB354t_"
   },
   "source": [
    "Ahora, probar con un RandomForestClassifier. \n",
    "\n",
    "Los hiperparámetros serán igual que los anteriores:\n",
    "\n",
    "- max_depth=10\n",
    "- n_estimators=200\n",
    "- n_jobs=-1\n",
    "- random_state=0"
   ]
  },
  {
   "cell_type": "code",
   "execution_count": 105,
   "metadata": {
    "executionInfo": {
     "elapsed": 3,
     "status": "ok",
     "timestamp": 1634419806609,
     "user": {
      "displayName": "Federico Baiocco",
      "photoUrl": "https://lh3.googleusercontent.com/a-/AOh14Ghf2wyATB48QBNVeVnR-1Y2rw_O5uZLAvphY2Otz9c=s64",
      "userId": "14260194928165318342"
     },
     "user_tz": 180
    },
    "id": "ZE2HuDmM5cxy"
   },
   "outputs": [
    {
     "name": "stdout",
     "output_type": "stream",
     "text": [
      "              precision    recall  f1-score   support\n",
      "\n",
      "           0       0.87      0.97      0.92     74409\n",
      "           1       0.84      0.49      0.62     20803\n",
      "\n",
      "    accuracy                           0.87     95212\n",
      "   macro avg       0.85      0.73      0.77     95212\n",
      "weighted avg       0.86      0.87      0.85     95212\n",
      "\n",
      "              precision    recall  f1-score   support\n",
      "\n",
      "           0       0.86      0.96      0.91     18603\n",
      "           1       0.78      0.46      0.58      5201\n",
      "\n",
      "    accuracy                           0.85     23804\n",
      "   macro avg       0.82      0.71      0.74     23804\n",
      "weighted avg       0.85      0.85      0.84     23804\n",
      "\n",
      "Wall time: 10.3 s\n"
     ]
    }
   ],
   "source": [
    "%%time\n",
    "from sklearn.ensemble import RandomForestClassifier\n",
    "\n",
    "clf = RandomForestClassifier(max_depth=10, n_estimators = 200, n_jobs = -1, random_state=0)\n",
    "clf.fit(X_train, y_train)\n",
    "\n",
    "y_train_pred = clf.predict(X_train)\n",
    "y_test_pred = clf.predict(X_test)\n",
    "\n",
    "print(classification_report(y_train, y_train_pred))\n",
    "print(classification_report(y_test,y_test_pred))"
   ]
  },
  {
   "cell_type": "markdown",
   "metadata": {
    "id": "iVRvC0Rs98oz"
   },
   "source": [
    "Ahora, en el random forest, imprimir la importancia de las features:"
   ]
  },
  {
   "cell_type": "code",
   "execution_count": 106,
   "metadata": {
    "executionInfo": {
     "elapsed": 292,
     "status": "ok",
     "timestamp": 1634419810410,
     "user": {
      "displayName": "Federico Baiocco",
      "photoUrl": "https://lh3.googleusercontent.com/a-/AOh14Ghf2wyATB48QBNVeVnR-1Y2rw_O5uZLAvphY2Otz9c=s64",
      "userId": "14260194928165318342"
     },
     "user_tz": 180
    },
    "id": "aYGP-ibZ5c0z"
   },
   "outputs": [
    {
     "data": {
      "text/plain": [
       "array([0.02881054, 0.02850598, 0.09102755, 0.06873099, 0.01320222,\n",
       "       0.01649553, 0.0752408 , 0.36632465, 0.05386588, 0.07170833,\n",
       "       0.02159009, 0.04216529, 0.00063554, 0.00066353, 0.00059856,\n",
       "       0.00303354, 0.00157787, 0.00178885, 0.00224139, 0.0018103 ,\n",
       "       0.00123713, 0.00080913, 0.00097969, 0.00115743, 0.00114065,\n",
       "       0.00120665, 0.00156089, 0.00092983, 0.04669038, 0.0542708 ])"
      ]
     },
     "execution_count": 106,
     "metadata": {},
     "output_type": "execute_result"
    }
   ],
   "source": [
    "clf.feature_importances_"
   ]
  },
  {
   "cell_type": "markdown",
   "metadata": {
    "id": "cvQo3em8Ay1n"
   },
   "source": [
    "Correr el siguiente código para obtener sus feature importances:"
   ]
  },
  {
   "cell_type": "code",
   "execution_count": 107,
   "metadata": {
    "id": "p0Q2MklH-3K5"
   },
   "outputs": [],
   "source": [
    "fi = pd.DataFrame(columns=[\"FEATURE\", \"IMPORTANCE\"])\n",
    "fi[\"FEATURE\"] = X_train.columns\n",
    "fi[\"IMPORTANCE\"] = clf.feature_importances_\n",
    "fi = fi.sort_values(\"IMPORTANCE\", ascending=False)"
   ]
  },
  {
   "cell_type": "code",
   "execution_count": 108,
   "metadata": {
    "id": "eKGff94uvbG4"
   },
   "outputs": [
    {
     "data": {
      "image/png": "[encoded data removed]",
      "text/plain": [
       "<Figure size 360x1080 with 1 Axes>"
      ]
     },
     "metadata": {
      "needs_background": "light"
     },
     "output_type": "display_data"
    }
   ],
   "source": [
    "plt.figure(figsize=(5, 15))\n",
    "sns.barplot(y=fi.FEATURE, x=fi.IMPORTANCE)\n",
    "plt.show()"
   ]
  },
  {
   "cell_type": "markdown",
   "metadata": {
    "id": "cELEcpTsAIm5"
   },
   "source": [
    "Ahora, aplicar random forest en su proyecto del primer sprint.\n",
    "\n",
    "Buscar los mejores hiperparámetros con grid search y finalmente imprimir el feature importance de las variables que utilizaron para entrenar."
   ]
  }
 ],
 "metadata": {
  "colab": {
   "authorship_tag": "ABX9TyPQnxW9S0YJ79et43KsZzpd",
   "collapsed_sections": [],
   "name": "bagging.ipynb",
   "provenance": []
  },
  "kernelspec": {
   "display_name": "Python 3",
   "language": "python",
   "name": "python3"
  },
  "language_info": {
   "codemirror_mode": {
    "name": "ipython",
    "version": 3
   },
   "file_extension": ".py",
   "mimetype": "text/x-python",
   "name": "python",
   "nbconvert_exporter": "python",
   "pygments_lexer": "ipython3",
   "version": "3.8.8"
  }
 },
 "nbformat": 4,
 "nbformat_minor": 1
}
