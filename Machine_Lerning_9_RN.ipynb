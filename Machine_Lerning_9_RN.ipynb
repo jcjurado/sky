{
 "cells": [
  {
   "cell_type": "markdown",
   "metadata": {
    "id": "RVXt1WP7SSx5"
   },
   "source": [
    "# Redes neuronales\n",
    "\n",
    "La librería que utilizaremos para definir nuestras redes neuronales es tensorflow 2.7.0: https://www.tensorflow.org/?hl=es-419\n",
    "\n"
   ]
  },
  {
   "cell_type": "code",
   "execution_count": 1,
   "metadata": {
    "id": "AN3FXyaxRyFM"
   },
   "outputs": [],
   "source": [
    "import tensorflow\n",
    "import numpy as np\n",
    "import matplotlib.pyplot as plt\n",
    "import seaborn as sns"
   ]
  },
  {
   "cell_type": "code",
   "execution_count": 2,
   "metadata": {
    "colab": {
     "base_uri": "https://localhost:8080/",
     "height": 35
    },
    "executionInfo": {
     "elapsed": 23,
     "status": "ok",
     "timestamp": 1636930840752,
     "user": {
      "displayName": "Federico Baiocco",
      "photoUrl": "https://lh3.googleusercontent.com/a-/AOh14Ghf2wyATB48QBNVeVnR-1Y2rw_O5uZLAvphY2Otz9c=s64",
      "userId": "14260194928165318342"
     },
     "user_tz": 180
    },
    "id": "YaRGANbSULr_",
    "outputId": "79853221-6207-4daf-e560-462cd88343eb"
   },
   "outputs": [
    {
     "data": {
      "text/plain": [
       "'2.3.0'"
      ]
     },
     "execution_count": 2,
     "metadata": {},
     "output_type": "execute_result"
    }
   ],
   "source": [
    "tensorflow.__version__"
   ]
  },
  {
   "cell_type": "markdown",
   "metadata": {
    "id": "mve2FalFUUIc"
   },
   "source": [
    "Los pasos básicos a seguir con tensorflow son:\n",
    "\n",
    "1. Definimos un modelo: indicamos cantidad y tipos de neuronas.\n",
    "2. Compilamos el modelo: indicamos función de costo y optimizador.\n",
    "3. Entrenamos el modelo: cantidad de iteraciones (epochs) y otros parámetros.\n",
    "\n",
    "Vamos a comenzar trabajando con un dataset sintético simplemente para conocer como trabaja tensorflow.\n",
    "\n",
    "La siguiente celda simplemente arma el dataset sintético."
   ]
  },
  {
   "cell_type": "code",
   "execution_count": 4,
   "metadata": {
    "colab": {
     "base_uri": "https://localhost:8080/"
    },
    "executionInfo": {
     "elapsed": 21,
     "status": "ok",
     "timestamp": 1636930840752,
     "user": {
      "displayName": "Federico Baiocco",
      "photoUrl": "https://lh3.googleusercontent.com/a-/AOh14Ghf2wyATB48QBNVeVnR-1Y2rw_O5uZLAvphY2Otz9c=s64",
      "userId": "14260194928165318342"
     },
     "user_tz": 180
    },
    "id": "CmANKR_RUNWN",
    "outputId": "bdcd1032-27cd-4b7e-8297-c231ba448e9b"
   },
   "outputs": [],
   "source": [
    "from sklearn.datasets import make_blobs, make_moons\n",
    "X, y = make_blobs(n_samples=1000, centers=2, n_features=2,\n",
    "                  random_state=0)\n",
    "\n",
    "X, y = make_moons(n_samples=1000, random_state=0)"
   ]
  },
  {
   "cell_type": "code",
   "execution_count": 5,
   "metadata": {
    "colab": {
     "base_uri": "https://localhost:8080/"
    },
    "executionInfo": {
     "elapsed": 19,
     "status": "ok",
     "timestamp": 1636930840753,
     "user": {
      "displayName": "Federico Baiocco",
      "photoUrl": "https://lh3.googleusercontent.com/a-/AOh14Ghf2wyATB48QBNVeVnR-1Y2rw_O5uZLAvphY2Otz9c=s64",
      "userId": "14260194928165318342"
     },
     "user_tz": 180
    },
    "id": "w9r4Y7zmVaXz",
    "outputId": "98571b60-5738-490e-cd61-b69224768c35"
   },
   "outputs": [
    {
     "name": "stdout",
     "output_type": "stream",
     "text": [
      "(1000, 2)\n",
      "(1000,)\n"
     ]
    }
   ],
   "source": [
    "print(X.shape)\n",
    "print(y.shape)"
   ]
  },
  {
   "cell_type": "code",
   "execution_count": 6,
   "metadata": {
    "colab": {
     "base_uri": "https://localhost:8080/",
     "height": 265
    },
    "executionInfo": {
     "elapsed": 642,
     "status": "ok",
     "timestamp": 1636930841378,
     "user": {
      "displayName": "Federico Baiocco",
      "photoUrl": "https://lh3.googleusercontent.com/a-/AOh14Ghf2wyATB48QBNVeVnR-1Y2rw_O5uZLAvphY2Otz9c=s64",
      "userId": "14260194928165318342"
     },
     "user_tz": 180
    },
    "id": "yuqshqTJVce_",
    "outputId": "93def65a-b3fe-49b7-b077-7bfeaa99735b"
   },
   "outputs": [
    {
     "data": {
      "image/png": "[encoded data removed]",
      "text/plain": [
       "<Figure size 432x288 with 1 Axes>"
      ]
     },
     "metadata": {
      "needs_background": "light"
     },
     "output_type": "display_data"
    }
   ],
   "source": [
    "sns.scatterplot(x = X[:,0], y = X[:,1], hue = y)\n",
    "plt.show()"
   ]
  },
  {
   "cell_type": "markdown",
   "metadata": {
    "id": "ZqKIZIsjW29L"
   },
   "source": [
    "Unas de las maneras de definir una red neuronal en tensorflow keras es Sequential.\n",
    "\n",
    "En sequential, lo que hacemos es definir el modelo de la siguiente manera:"
   ]
  },
  {
   "cell_type": "code",
   "execution_count": 7,
   "metadata": {
    "id": "vhWyi6W0XEeH"
   },
   "outputs": [],
   "source": [
    "from tensorflow.keras import Sequential\n",
    "from tensorflow.keras.layers import Dense"
   ]
  },
  {
   "cell_type": "code",
   "execution_count": 8,
   "metadata": {
    "id": "bpO9Lt6KVepz"
   },
   "outputs": [],
   "source": [
    "model = Sequential()\n",
    "model.add(Dense(10, activation='relu'))\n",
    "model.add(Dense(1, activation='sigmoid'))"
   ]
  },
  {
   "cell_type": "markdown",
   "metadata": {
    "id": "I3J0CHEpXVsU"
   },
   "source": [
    "Lo primero que hicimos fué definir el modelo sequential.\n",
    "\n",
    "Una vez definido, le vamos agregando capas. En este caso, primero agregamos una capa de 10 neuronas (Dense) con función de activación relu.\n",
    "\n",
    "Luego, una capa con 1 sola neurona y la función de activación sigmoid.\n",
    "\n",
    "Tenemos 1 sola capa de salida con sigmoid y esto significa que nuestra salida sera un valor entre 0 y 1.\n",
    "\n",
    "Ahora debemos definir un optimizador y compilar nuestro modelo:\n",
    "\n",
    "Uno de los optimizadores más utilizado es Adam."
   ]
  },
  {
   "cell_type": "code",
   "execution_count": 9,
   "metadata": {
    "id": "CxY3uUeVYoHc"
   },
   "outputs": [],
   "source": [
    "from tensorflow.keras.optimizers import Adam"
   ]
  },
  {
   "cell_type": "code",
   "execution_count": 10,
   "metadata": {
    "colab": {
     "base_uri": "https://localhost:8080/"
    },
    "executionInfo": {
     "elapsed": 8,
     "status": "ok",
     "timestamp": 1636930841380,
     "user": {
      "displayName": "Federico Baiocco",
      "photoUrl": "https://lh3.googleusercontent.com/a-/AOh14Ghf2wyATB48QBNVeVnR-1Y2rw_O5uZLAvphY2Otz9c=s64",
      "userId": "14260194928165318342"
     },
     "user_tz": 180
    },
    "id": "4Anp9xweXDU-",
    "outputId": "1cdc9662-b30a-424c-f483-4422c99bd14e"
   },
   "outputs": [],
   "source": [
    "optimizer = Adam(lr=0.001)"
   ]
  },
  {
   "cell_type": "markdown",
   "metadata": {
    "id": "whEdw2P8Yw_3"
   },
   "source": [
    "Al compliar el modelo, debemos especificar la loss function y podemos también, definir una métrica.\n",
    "\n",
    "En este caso utilizaremos como loss function: binary_crossentropy.\n",
    "\n",
    "Binary crossentropy es la loss function más común para problemas de clasificación binaria.\n",
    "\n",
    "Lo que hace es comparar nuestras predicciones contra el resultado real y penaliza según la distancia que hay entre el resultado esperado y nuestras predicciones."
   ]
  },
  {
   "cell_type": "code",
   "execution_count": 11,
   "metadata": {
    "id": "O-yvo4-5Y0Pf"
   },
   "outputs": [],
   "source": [
    "model.compile(optimizer=optimizer, loss='binary_crossentropy',metrics=['accuracy'])"
   ]
  },
  {
   "cell_type": "markdown",
   "metadata": {
    "id": "jc7EBuHmaTwP"
   },
   "source": [
    "Ahora ya podemos entrenar nuestro modelo.\n",
    "\n",
    "Podemos ir guardando los resultados en una variable (history) para futuro análisis.\n",
    "\n",
    "¿Qué son epochs?"
   ]
  },
  {
   "cell_type": "code",
   "execution_count": 12,
   "metadata": {
    "colab": {
     "base_uri": "https://localhost:8080/"
    },
    "executionInfo": {
     "elapsed": 21528,
     "status": "ok",
     "timestamp": 1636930862902,
     "user": {
      "displayName": "Federico Baiocco",
      "photoUrl": "https://lh3.googleusercontent.com/a-/AOh14Ghf2wyATB48QBNVeVnR-1Y2rw_O5uZLAvphY2Otz9c=s64",
      "userId": "14260194928165318342"
     },
     "user_tz": 180
    },
    "id": "t-KeSllEY0br",
    "outputId": "87941769-7748-4e2a-af2c-a348e58ca5bd"
   },
   "outputs": [
    {
     "name": "stdout",
     "output_type": "stream",
     "text": [
      "Epoch 1/250\n",
      " 1/24 [>.............................] - ETA: 0s - loss: 0.7199 - accuracy: 0.3750WARNING:tensorflow:Callbacks method `on_test_batch_end` is slow compared to the batch time (batch time: 0.0000s vs `on_test_batch_end` time: 0.0010s). Check your callbacks.\n",
      "24/24 [==============================] - 0s 10ms/step - loss: 0.7062 - accuracy: 0.5160 - val_loss: 0.6994 - val_accuracy: 0.5360\n",
      "Epoch 2/250\n",
      "24/24 [==============================] - 0s 5ms/step - loss: 0.6791 - accuracy: 0.5707 - val_loss: 0.6763 - val_accuracy: 0.5480\n",
      "Epoch 3/250\n",
      "24/24 [==============================] - 0s 5ms/step - loss: 0.6564 - accuracy: 0.5840 - val_loss: 0.6559 - val_accuracy: 0.5520\n",
      "Epoch 4/250\n",
      "24/24 [==============================] - 0s 4ms/step - loss: 0.6356 - accuracy: 0.5773 - val_loss: 0.6372 - val_accuracy: 0.5520\n",
      "Epoch 5/250\n",
      "24/24 [==============================] - 0s 4ms/step - loss: 0.6161 - accuracy: 0.6107 - val_loss: 0.6191 - val_accuracy: 0.6840\n",
      "Epoch 6/250\n",
      "24/24 [==============================] - 0s 4ms/step - loss: 0.5975 - accuracy: 0.7507 - val_loss: 0.6023 - val_accuracy: 0.7520\n",
      "Epoch 7/250\n",
      "24/24 [==============================] - 0s 4ms/step - loss: 0.5798 - accuracy: 0.7893 - val_loss: 0.5865 - val_accuracy: 0.7720\n",
      "Epoch 8/250\n",
      "24/24 [==============================] - 0s 4ms/step - loss: 0.5629 - accuracy: 0.7947 - val_loss: 0.5699 - val_accuracy: 0.7760\n",
      "Epoch 9/250\n",
      "24/24 [==============================] - 0s 5ms/step - loss: 0.5445 - accuracy: 0.8053 - val_loss: 0.5529 - val_accuracy: 0.7800\n",
      "Epoch 10/250\n",
      "24/24 [==============================] - 0s 4ms/step - loss: 0.5255 - accuracy: 0.8080 - val_loss: 0.5343 - val_accuracy: 0.7720\n",
      "Epoch 11/250\n",
      "24/24 [==============================] - 0s 5ms/step - loss: 0.5041 - accuracy: 0.8067 - val_loss: 0.5144 - val_accuracy: 0.7800\n",
      "Epoch 12/250\n",
      "24/24 [==============================] - 0s 4ms/step - loss: 0.4822 - accuracy: 0.8080 - val_loss: 0.4928 - val_accuracy: 0.7680\n",
      "Epoch 13/250\n",
      "24/24 [==============================] - 0s 4ms/step - loss: 0.4596 - accuracy: 0.8067 - val_loss: 0.4711 - val_accuracy: 0.7760\n",
      "Epoch 14/250\n",
      "24/24 [==============================] - 0s 5ms/step - loss: 0.4382 - accuracy: 0.8120 - val_loss: 0.4500 - val_accuracy: 0.7920\n",
      "Epoch 15/250\n",
      "24/24 [==============================] - 0s 4ms/step - loss: 0.4184 - accuracy: 0.8133 - val_loss: 0.4291 - val_accuracy: 0.8080\n",
      "Epoch 16/250\n",
      "24/24 [==============================] - 0s 2ms/step - loss: 0.3994 - accuracy: 0.8227 - val_loss: 0.4088 - val_accuracy: 0.8080\n",
      "Epoch 17/250\n",
      "24/24 [==============================] - 0s 2ms/step - loss: 0.3814 - accuracy: 0.8307 - val_loss: 0.3887 - val_accuracy: 0.8240\n",
      "Epoch 18/250\n",
      "24/24 [==============================] - 0s 2ms/step - loss: 0.3646 - accuracy: 0.8360 - val_loss: 0.3720 - val_accuracy: 0.8360\n",
      "Epoch 19/250\n",
      "24/24 [==============================] - 0s 2ms/step - loss: 0.3509 - accuracy: 0.8413 - val_loss: 0.3586 - val_accuracy: 0.8440\n",
      "Epoch 20/250\n",
      "24/24 [==============================] - 0s 2ms/step - loss: 0.3393 - accuracy: 0.8453 - val_loss: 0.3461 - val_accuracy: 0.8520\n",
      "Epoch 21/250\n",
      "24/24 [==============================] - 0s 2ms/step - loss: 0.3290 - accuracy: 0.8467 - val_loss: 0.3349 - val_accuracy: 0.8520\n",
      "Epoch 22/250\n",
      "24/24 [==============================] - 0s 2ms/step - loss: 0.3199 - accuracy: 0.8507 - val_loss: 0.3252 - val_accuracy: 0.8520\n",
      "Epoch 23/250\n",
      "24/24 [==============================] - 0s 2ms/step - loss: 0.3118 - accuracy: 0.8533 - val_loss: 0.3166 - val_accuracy: 0.8520\n",
      "Epoch 24/250\n",
      "24/24 [==============================] - 0s 2ms/step - loss: 0.3043 - accuracy: 0.8587 - val_loss: 0.3082 - val_accuracy: 0.8520\n",
      "Epoch 25/250\n",
      "24/24 [==============================] - 0s 2ms/step - loss: 0.2976 - accuracy: 0.8600 - val_loss: 0.3007 - val_accuracy: 0.8560\n",
      "Epoch 26/250\n",
      "24/24 [==============================] - 0s 2ms/step - loss: 0.2915 - accuracy: 0.8613 - val_loss: 0.2937 - val_accuracy: 0.8600\n",
      "Epoch 27/250\n",
      "24/24 [==============================] - 0s 2ms/step - loss: 0.2858 - accuracy: 0.8653 - val_loss: 0.2872 - val_accuracy: 0.8600\n",
      "Epoch 28/250\n",
      "24/24 [==============================] - 0s 2ms/step - loss: 0.2806 - accuracy: 0.8667 - val_loss: 0.2813 - val_accuracy: 0.8640\n",
      "Epoch 29/250\n",
      "24/24 [==============================] - 0s 2ms/step - loss: 0.2758 - accuracy: 0.8680 - val_loss: 0.2756 - val_accuracy: 0.8680\n",
      "Epoch 30/250\n",
      "24/24 [==============================] - 0s 2ms/step - loss: 0.2713 - accuracy: 0.8707 - val_loss: 0.2703 - val_accuracy: 0.8680\n",
      "Epoch 31/250\n",
      "24/24 [==============================] - 0s 2ms/step - loss: 0.2671 - accuracy: 0.8733 - val_loss: 0.2654 - val_accuracy: 0.8720\n",
      "Epoch 32/250\n",
      "24/24 [==============================] - 0s 2ms/step - loss: 0.2632 - accuracy: 0.8747 - val_loss: 0.2607 - val_accuracy: 0.8720\n",
      "Epoch 33/250\n",
      "24/24 [==============================] - 0s 2ms/step - loss: 0.2596 - accuracy: 0.8747 - val_loss: 0.2564 - val_accuracy: 0.8800\n",
      "Epoch 34/250\n",
      "24/24 [==============================] - 0s 2ms/step - loss: 0.2564 - accuracy: 0.8760 - val_loss: 0.2525 - val_accuracy: 0.8800\n",
      "Epoch 35/250\n",
      "24/24 [==============================] - 0s 2ms/step - loss: 0.2531 - accuracy: 0.8787 - val_loss: 0.2483 - val_accuracy: 0.8800\n",
      "Epoch 36/250\n",
      "24/24 [==============================] - 0s 2ms/step - loss: 0.2501 - accuracy: 0.8813 - val_loss: 0.2447 - val_accuracy: 0.8800\n",
      "Epoch 37/250\n",
      "24/24 [==============================] - 0s 2ms/step - loss: 0.2472 - accuracy: 0.8827 - val_loss: 0.2414 - val_accuracy: 0.8840\n",
      "Epoch 38/250\n",
      "24/24 [==============================] - 0s 2ms/step - loss: 0.2446 - accuracy: 0.8827 - val_loss: 0.2384 - val_accuracy: 0.8880\n",
      "Epoch 39/250\n",
      "24/24 [==============================] - 0s 2ms/step - loss: 0.2421 - accuracy: 0.8827 - val_loss: 0.2351 - val_accuracy: 0.8880\n",
      "Epoch 40/250\n",
      "24/24 [==============================] - 0s 2ms/step - loss: 0.2400 - accuracy: 0.8853 - val_loss: 0.2323 - val_accuracy: 0.8920\n",
      "Epoch 41/250\n",
      "24/24 [==============================] - 0s 2ms/step - loss: 0.2376 - accuracy: 0.8853 - val_loss: 0.2299 - val_accuracy: 0.8960\n",
      "Epoch 42/250\n",
      "24/24 [==============================] - 0s 2ms/step - loss: 0.2356 - accuracy: 0.8853 - val_loss: 0.2274 - val_accuracy: 0.9000\n",
      "Epoch 43/250\n",
      "24/24 [==============================] - 0s 2ms/step - loss: 0.2336 - accuracy: 0.8867 - val_loss: 0.2246 - val_accuracy: 0.9000\n",
      "Epoch 44/250\n",
      "24/24 [==============================] - 0s 1ms/step - loss: 0.2317 - accuracy: 0.8867 - val_loss: 0.2224 - val_accuracy: 0.9000\n",
      "Epoch 45/250\n",
      "24/24 [==============================] - 0s 2ms/step - loss: 0.2299 - accuracy: 0.8893 - val_loss: 0.2198 - val_accuracy: 0.9000\n",
      "Epoch 46/250\n",
      "24/24 [==============================] - 0s 2ms/step - loss: 0.2282 - accuracy: 0.8907 - val_loss: 0.2176 - val_accuracy: 0.9000\n",
      "Epoch 47/250\n",
      "24/24 [==============================] - 0s 2ms/step - loss: 0.2269 - accuracy: 0.8920 - val_loss: 0.2157 - val_accuracy: 0.9000\n",
      "Epoch 48/250\n",
      "24/24 [==============================] - 0s 2ms/step - loss: 0.2253 - accuracy: 0.8933 - val_loss: 0.2144 - val_accuracy: 0.9000\n",
      "Epoch 49/250\n",
      "24/24 [==============================] - 0s 2ms/step - loss: 0.2237 - accuracy: 0.8947 - val_loss: 0.2121 - val_accuracy: 0.9000\n",
      "Epoch 50/250\n",
      "24/24 [==============================] - 0s 2ms/step - loss: 0.2225 - accuracy: 0.8947 - val_loss: 0.2101 - val_accuracy: 0.9080\n",
      "Epoch 51/250\n",
      "24/24 [==============================] - 0s 2ms/step - loss: 0.2211 - accuracy: 0.8947 - val_loss: 0.2085 - val_accuracy: 0.9080\n",
      "Epoch 52/250\n",
      "24/24 [==============================] - 0s 2ms/step - loss: 0.2199 - accuracy: 0.8947 - val_loss: 0.2072 - val_accuracy: 0.9080\n",
      "Epoch 53/250\n",
      "24/24 [==============================] - 0s 2ms/step - loss: 0.2188 - accuracy: 0.8960 - val_loss: 0.2061 - val_accuracy: 0.9080\n",
      "Epoch 54/250\n",
      "24/24 [==============================] - 0s 2ms/step - loss: 0.2176 - accuracy: 0.8960 - val_loss: 0.2043 - val_accuracy: 0.9080\n",
      "Epoch 55/250\n",
      "24/24 [==============================] - 0s 2ms/step - loss: 0.2165 - accuracy: 0.8973 - val_loss: 0.2029 - val_accuracy: 0.9080\n",
      "Epoch 56/250\n",
      "24/24 [==============================] - 0s 2ms/step - loss: 0.2154 - accuracy: 0.8973 - val_loss: 0.2013 - val_accuracy: 0.9120\n"
     ]
    },
    {
     "name": "stdout",
     "output_type": "stream",
     "text": [
      "Epoch 57/250\n",
      "24/24 [==============================] - 0s 2ms/step - loss: 0.2145 - accuracy: 0.8987 - val_loss: 0.1996 - val_accuracy: 0.9160\n",
      "Epoch 58/250\n",
      "24/24 [==============================] - 0s 1ms/step - loss: 0.2135 - accuracy: 0.9000 - val_loss: 0.1992 - val_accuracy: 0.9080\n",
      "Epoch 59/250\n",
      "24/24 [==============================] - 0s 2ms/step - loss: 0.2126 - accuracy: 0.9013 - val_loss: 0.1980 - val_accuracy: 0.9080\n",
      "Epoch 60/250\n",
      "24/24 [==============================] - 0s 2ms/step - loss: 0.2123 - accuracy: 0.8973 - val_loss: 0.1955 - val_accuracy: 0.9160\n",
      "Epoch 61/250\n",
      "24/24 [==============================] - 0s 2ms/step - loss: 0.2107 - accuracy: 0.8987 - val_loss: 0.1950 - val_accuracy: 0.9160\n",
      "Epoch 62/250\n",
      "24/24 [==============================] - 0s 2ms/step - loss: 0.2096 - accuracy: 0.9000 - val_loss: 0.1942 - val_accuracy: 0.9160\n",
      "Epoch 63/250\n",
      "24/24 [==============================] - 0s 2ms/step - loss: 0.2091 - accuracy: 0.8987 - val_loss: 0.1931 - val_accuracy: 0.9200\n",
      "Epoch 64/250\n",
      "24/24 [==============================] - 0s 2ms/step - loss: 0.2079 - accuracy: 0.9000 - val_loss: 0.1922 - val_accuracy: 0.9160\n",
      "Epoch 65/250\n",
      "24/24 [==============================] - 0s 2ms/step - loss: 0.2070 - accuracy: 0.9013 - val_loss: 0.1912 - val_accuracy: 0.9200\n",
      "Epoch 66/250\n",
      "24/24 [==============================] - 0s 2ms/step - loss: 0.2063 - accuracy: 0.9027 - val_loss: 0.1904 - val_accuracy: 0.9160\n",
      "Epoch 67/250\n",
      "24/24 [==============================] - 0s 2ms/step - loss: 0.2052 - accuracy: 0.9013 - val_loss: 0.1886 - val_accuracy: 0.9200\n",
      "Epoch 68/250\n",
      "24/24 [==============================] - 0s 2ms/step - loss: 0.2044 - accuracy: 0.8987 - val_loss: 0.1872 - val_accuracy: 0.9200\n",
      "Epoch 69/250\n",
      "24/24 [==============================] - 0s 2ms/step - loss: 0.2036 - accuracy: 0.8987 - val_loss: 0.1867 - val_accuracy: 0.9200\n",
      "Epoch 70/250\n",
      "24/24 [==============================] - 0s 2ms/step - loss: 0.2028 - accuracy: 0.9000 - val_loss: 0.1855 - val_accuracy: 0.9200\n",
      "Epoch 71/250\n",
      "24/24 [==============================] - 0s 2ms/step - loss: 0.2025 - accuracy: 0.9000 - val_loss: 0.1840 - val_accuracy: 0.9160\n",
      "Epoch 72/250\n",
      "24/24 [==============================] - 0s 2ms/step - loss: 0.2017 - accuracy: 0.9040 - val_loss: 0.1846 - val_accuracy: 0.9200\n",
      "Epoch 73/250\n",
      "24/24 [==============================] - 0s 2ms/step - loss: 0.2006 - accuracy: 0.9027 - val_loss: 0.1822 - val_accuracy: 0.9200\n",
      "Epoch 74/250\n",
      "24/24 [==============================] - 0s 2ms/step - loss: 0.1994 - accuracy: 0.9013 - val_loss: 0.1818 - val_accuracy: 0.9200\n",
      "Epoch 75/250\n",
      "24/24 [==============================] - 0s 2ms/step - loss: 0.1987 - accuracy: 0.9040 - val_loss: 0.1808 - val_accuracy: 0.9200\n",
      "Epoch 76/250\n",
      "24/24 [==============================] - 0s 2ms/step - loss: 0.1980 - accuracy: 0.9067 - val_loss: 0.1810 - val_accuracy: 0.9200\n",
      "Epoch 77/250\n",
      "24/24 [==============================] - 0s 2ms/step - loss: 0.1974 - accuracy: 0.9053 - val_loss: 0.1788 - val_accuracy: 0.9200\n",
      "Epoch 78/250\n",
      "24/24 [==============================] - 0s 2ms/step - loss: 0.1960 - accuracy: 0.9053 - val_loss: 0.1786 - val_accuracy: 0.9200\n",
      "Epoch 79/250\n",
      "24/24 [==============================] - 0s 2ms/step - loss: 0.1954 - accuracy: 0.9080 - val_loss: 0.1775 - val_accuracy: 0.9200\n",
      "Epoch 80/250\n",
      "24/24 [==============================] - 0s 2ms/step - loss: 0.1943 - accuracy: 0.9053 - val_loss: 0.1759 - val_accuracy: 0.9200\n",
      "Epoch 81/250\n",
      "24/24 [==============================] - 0s 2ms/step - loss: 0.1939 - accuracy: 0.9027 - val_loss: 0.1746 - val_accuracy: 0.9200\n",
      "Epoch 82/250\n",
      "24/24 [==============================] - 0s 2ms/step - loss: 0.1928 - accuracy: 0.9067 - val_loss: 0.1746 - val_accuracy: 0.9200\n",
      "Epoch 83/250\n",
      "24/24 [==============================] - 0s 1ms/step - loss: 0.1916 - accuracy: 0.9080 - val_loss: 0.1734 - val_accuracy: 0.9200\n",
      "Epoch 84/250\n",
      "24/24 [==============================] - 0s 2ms/step - loss: 0.1907 - accuracy: 0.9067 - val_loss: 0.1718 - val_accuracy: 0.9200\n",
      "Epoch 85/250\n",
      "24/24 [==============================] - 0s 2ms/step - loss: 0.1898 - accuracy: 0.9067 - val_loss: 0.1710 - val_accuracy: 0.9200\n",
      "Epoch 86/250\n",
      "24/24 [==============================] - 0s 2ms/step - loss: 0.1888 - accuracy: 0.9080 - val_loss: 0.1704 - val_accuracy: 0.9240\n",
      "Epoch 87/250\n",
      "24/24 [==============================] - 0s 2ms/step - loss: 0.1881 - accuracy: 0.9107 - val_loss: 0.1696 - val_accuracy: 0.9240\n",
      "Epoch 88/250\n",
      "24/24 [==============================] - 0s 2ms/step - loss: 0.1869 - accuracy: 0.9120 - val_loss: 0.1683 - val_accuracy: 0.9240\n",
      "Epoch 89/250\n",
      "24/24 [==============================] - 0s 2ms/step - loss: 0.1865 - accuracy: 0.9093 - val_loss: 0.1667 - val_accuracy: 0.9200\n",
      "Epoch 90/250\n",
      "24/24 [==============================] - 0s 2ms/step - loss: 0.1852 - accuracy: 0.9133 - val_loss: 0.1664 - val_accuracy: 0.9240\n",
      "Epoch 91/250\n",
      "24/24 [==============================] - 0s 2ms/step - loss: 0.1844 - accuracy: 0.9120 - val_loss: 0.1655 - val_accuracy: 0.9240\n",
      "Epoch 92/250\n",
      "24/24 [==============================] - 0s 2ms/step - loss: 0.1831 - accuracy: 0.9120 - val_loss: 0.1641 - val_accuracy: 0.9240\n",
      "Epoch 93/250\n",
      "24/24 [==============================] - 0s 2ms/step - loss: 0.1823 - accuracy: 0.9133 - val_loss: 0.1630 - val_accuracy: 0.9240\n",
      "Epoch 94/250\n",
      "24/24 [==============================] - 0s 2ms/step - loss: 0.1813 - accuracy: 0.9133 - val_loss: 0.1629 - val_accuracy: 0.9280\n",
      "Epoch 95/250\n",
      "24/24 [==============================] - 0s 2ms/step - loss: 0.1803 - accuracy: 0.9147 - val_loss: 0.1617 - val_accuracy: 0.9280\n",
      "Epoch 96/250\n",
      "24/24 [==============================] - 0s 2ms/step - loss: 0.1793 - accuracy: 0.9147 - val_loss: 0.1607 - val_accuracy: 0.9280\n",
      "Epoch 97/250\n",
      "24/24 [==============================] - 0s 2ms/step - loss: 0.1787 - accuracy: 0.9147 - val_loss: 0.1589 - val_accuracy: 0.9240\n",
      "Epoch 98/250\n",
      "24/24 [==============================] - 0s 2ms/step - loss: 0.1775 - accuracy: 0.9160 - val_loss: 0.1587 - val_accuracy: 0.9280\n",
      "Epoch 99/250\n",
      "24/24 [==============================] - 0s 2ms/step - loss: 0.1762 - accuracy: 0.9187 - val_loss: 0.1574 - val_accuracy: 0.9280\n",
      "Epoch 100/250\n",
      "24/24 [==============================] - 0s 2ms/step - loss: 0.1752 - accuracy: 0.9187 - val_loss: 0.1562 - val_accuracy: 0.9280\n",
      "Epoch 101/250\n",
      "24/24 [==============================] - 0s 2ms/step - loss: 0.1742 - accuracy: 0.9173 - val_loss: 0.1554 - val_accuracy: 0.9280\n",
      "Epoch 102/250\n",
      "24/24 [==============================] - 0s 2ms/step - loss: 0.1730 - accuracy: 0.9200 - val_loss: 0.1550 - val_accuracy: 0.9280\n",
      "Epoch 103/250\n",
      "24/24 [==============================] - 0s 1ms/step - loss: 0.1720 - accuracy: 0.9227 - val_loss: 0.1538 - val_accuracy: 0.9280\n",
      "Epoch 104/250\n",
      "24/24 [==============================] - 0s 1ms/step - loss: 0.1711 - accuracy: 0.9227 - val_loss: 0.1529 - val_accuracy: 0.9320\n",
      "Epoch 105/250\n",
      "24/24 [==============================] - 0s 1ms/step - loss: 0.1699 - accuracy: 0.9240 - val_loss: 0.1516 - val_accuracy: 0.9320\n",
      "Epoch 106/250\n",
      "24/24 [==============================] - 0s 2ms/step - loss: 0.1689 - accuracy: 0.9227 - val_loss: 0.1500 - val_accuracy: 0.9320\n",
      "Epoch 107/250\n",
      "24/24 [==============================] - 0s 1ms/step - loss: 0.1678 - accuracy: 0.9240 - val_loss: 0.1492 - val_accuracy: 0.9360\n",
      "Epoch 108/250\n",
      "24/24 [==============================] - 0s 2ms/step - loss: 0.1668 - accuracy: 0.9227 - val_loss: 0.1481 - val_accuracy: 0.9360\n",
      "Epoch 109/250\n",
      "24/24 [==============================] - 0s 2ms/step - loss: 0.1657 - accuracy: 0.9227 - val_loss: 0.1473 - val_accuracy: 0.9360\n",
      "Epoch 110/250\n",
      "24/24 [==============================] - 0s 2ms/step - loss: 0.1648 - accuracy: 0.9267 - val_loss: 0.1466 - val_accuracy: 0.9360\n",
      "Epoch 111/250\n",
      "24/24 [==============================] - 0s 2ms/step - loss: 0.1634 - accuracy: 0.9267 - val_loss: 0.1453 - val_accuracy: 0.9360\n",
      "Epoch 112/250\n",
      "24/24 [==============================] - 0s 2ms/step - loss: 0.1622 - accuracy: 0.9293 - val_loss: 0.1441 - val_accuracy: 0.9360\n",
      "Epoch 113/250\n",
      "24/24 [==============================] - 0s 2ms/step - loss: 0.1613 - accuracy: 0.9280 - val_loss: 0.1433 - val_accuracy: 0.9360\n",
      "Epoch 114/250\n"
     ]
    },
    {
     "name": "stdout",
     "output_type": "stream",
     "text": [
      "24/24 [==============================] - 0s 2ms/step - loss: 0.1602 - accuracy: 0.9280 - val_loss: 0.1423 - val_accuracy: 0.9360\n",
      "Epoch 115/250\n",
      "24/24 [==============================] - 0s 2ms/step - loss: 0.1589 - accuracy: 0.9307 - val_loss: 0.1409 - val_accuracy: 0.9360\n",
      "Epoch 116/250\n",
      "24/24 [==============================] - 0s 2ms/step - loss: 0.1577 - accuracy: 0.9320 - val_loss: 0.1400 - val_accuracy: 0.9360\n",
      "Epoch 117/250\n",
      "24/24 [==============================] - 0s 2ms/step - loss: 0.1566 - accuracy: 0.9307 - val_loss: 0.1394 - val_accuracy: 0.9360\n",
      "Epoch 118/250\n",
      "24/24 [==============================] - 0s 2ms/step - loss: 0.1556 - accuracy: 0.9320 - val_loss: 0.1386 - val_accuracy: 0.9360\n",
      "Epoch 119/250\n",
      "24/24 [==============================] - 0s 2ms/step - loss: 0.1546 - accuracy: 0.9333 - val_loss: 0.1373 - val_accuracy: 0.9360\n",
      "Epoch 120/250\n",
      "24/24 [==============================] - 0s 2ms/step - loss: 0.1538 - accuracy: 0.9307 - val_loss: 0.1355 - val_accuracy: 0.9440\n",
      "Epoch 121/250\n",
      "24/24 [==============================] - 0s 2ms/step - loss: 0.1521 - accuracy: 0.9333 - val_loss: 0.1351 - val_accuracy: 0.9400\n",
      "Epoch 122/250\n",
      "24/24 [==============================] - 0s 2ms/step - loss: 0.1510 - accuracy: 0.9333 - val_loss: 0.1339 - val_accuracy: 0.9440\n",
      "Epoch 123/250\n",
      "24/24 [==============================] - 0s 2ms/step - loss: 0.1501 - accuracy: 0.9333 - val_loss: 0.1327 - val_accuracy: 0.9480\n",
      "Epoch 124/250\n",
      "24/24 [==============================] - 0s 2ms/step - loss: 0.1488 - accuracy: 0.9347 - val_loss: 0.1321 - val_accuracy: 0.9440\n",
      "Epoch 125/250\n",
      "24/24 [==============================] - 0s 2ms/step - loss: 0.1477 - accuracy: 0.9347 - val_loss: 0.1308 - val_accuracy: 0.9480\n",
      "Epoch 126/250\n",
      "24/24 [==============================] - 0s 2ms/step - loss: 0.1466 - accuracy: 0.9333 - val_loss: 0.1295 - val_accuracy: 0.9480\n",
      "Epoch 127/250\n",
      "24/24 [==============================] - 0s 2ms/step - loss: 0.1457 - accuracy: 0.9360 - val_loss: 0.1285 - val_accuracy: 0.9480\n",
      "Epoch 128/250\n",
      "24/24 [==============================] - 0s 2ms/step - loss: 0.1446 - accuracy: 0.9347 - val_loss: 0.1282 - val_accuracy: 0.9480\n",
      "Epoch 129/250\n",
      "24/24 [==============================] - 0s 1ms/step - loss: 0.1435 - accuracy: 0.9360 - val_loss: 0.1265 - val_accuracy: 0.9480\n",
      "Epoch 130/250\n",
      "24/24 [==============================] - 0s 2ms/step - loss: 0.1422 - accuracy: 0.9400 - val_loss: 0.1260 - val_accuracy: 0.9480\n",
      "Epoch 131/250\n",
      "24/24 [==============================] - 0s 2ms/step - loss: 0.1412 - accuracy: 0.9400 - val_loss: 0.1244 - val_accuracy: 0.9480\n",
      "Epoch 132/250\n",
      "24/24 [==============================] - 0s 2ms/step - loss: 0.1399 - accuracy: 0.9400 - val_loss: 0.1238 - val_accuracy: 0.9480\n",
      "Epoch 133/250\n",
      "24/24 [==============================] - 0s 1ms/step - loss: 0.1389 - accuracy: 0.9387 - val_loss: 0.1233 - val_accuracy: 0.9480\n",
      "Epoch 134/250\n",
      "24/24 [==============================] - 0s 2ms/step - loss: 0.1377 - accuracy: 0.9413 - val_loss: 0.1215 - val_accuracy: 0.9480\n",
      "Epoch 135/250\n",
      "24/24 [==============================] - 0s 2ms/step - loss: 0.1366 - accuracy: 0.9427 - val_loss: 0.1204 - val_accuracy: 0.9480\n",
      "Epoch 136/250\n",
      "24/24 [==============================] - 0s 2ms/step - loss: 0.1354 - accuracy: 0.9427 - val_loss: 0.1198 - val_accuracy: 0.9480\n",
      "Epoch 137/250\n",
      "24/24 [==============================] - 0s 2ms/step - loss: 0.1343 - accuracy: 0.9440 - val_loss: 0.1185 - val_accuracy: 0.9480\n",
      "Epoch 138/250\n",
      "24/24 [==============================] - 0s 2ms/step - loss: 0.1332 - accuracy: 0.9440 - val_loss: 0.1177 - val_accuracy: 0.9480\n",
      "Epoch 139/250\n",
      "24/24 [==============================] - 0s 2ms/step - loss: 0.1321 - accuracy: 0.9440 - val_loss: 0.1165 - val_accuracy: 0.9520\n",
      "Epoch 140/250\n",
      "24/24 [==============================] - 0s 2ms/step - loss: 0.1312 - accuracy: 0.9440 - val_loss: 0.1152 - val_accuracy: 0.9520\n",
      "Epoch 141/250\n",
      "24/24 [==============================] - 0s 2ms/step - loss: 0.1300 - accuracy: 0.9453 - val_loss: 0.1143 - val_accuracy: 0.9520\n",
      "Epoch 142/250\n",
      "24/24 [==============================] - 0s 2ms/step - loss: 0.1288 - accuracy: 0.9453 - val_loss: 0.1136 - val_accuracy: 0.9520\n",
      "Epoch 143/250\n",
      "24/24 [==============================] - 0s 2ms/step - loss: 0.1279 - accuracy: 0.9467 - val_loss: 0.1130 - val_accuracy: 0.9520\n",
      "Epoch 144/250\n",
      "24/24 [==============================] - 0s 2ms/step - loss: 0.1270 - accuracy: 0.9467 - val_loss: 0.1118 - val_accuracy: 0.9520\n",
      "Epoch 145/250\n",
      "24/24 [==============================] - 0s 2ms/step - loss: 0.1258 - accuracy: 0.9480 - val_loss: 0.1110 - val_accuracy: 0.9520\n",
      "Epoch 146/250\n",
      "24/24 [==============================] - 0s 2ms/step - loss: 0.1248 - accuracy: 0.9480 - val_loss: 0.1097 - val_accuracy: 0.9520\n",
      "Epoch 147/250\n",
      "24/24 [==============================] - 0s 2ms/step - loss: 0.1236 - accuracy: 0.9493 - val_loss: 0.1088 - val_accuracy: 0.9520\n",
      "Epoch 148/250\n",
      "24/24 [==============================] - 0s 2ms/step - loss: 0.1228 - accuracy: 0.9480 - val_loss: 0.1082 - val_accuracy: 0.9560\n",
      "Epoch 149/250\n",
      "24/24 [==============================] - 0s 2ms/step - loss: 0.1217 - accuracy: 0.9493 - val_loss: 0.1072 - val_accuracy: 0.9560\n",
      "Epoch 150/250\n",
      "24/24 [==============================] - 0s 2ms/step - loss: 0.1206 - accuracy: 0.9507 - val_loss: 0.1058 - val_accuracy: 0.9600\n",
      "Epoch 151/250\n",
      "24/24 [==============================] - 0s 2ms/step - loss: 0.1198 - accuracy: 0.9507 - val_loss: 0.1048 - val_accuracy: 0.9600\n",
      "Epoch 152/250\n",
      "24/24 [==============================] - 0s 2ms/step - loss: 0.1185 - accuracy: 0.9507 - val_loss: 0.1041 - val_accuracy: 0.9600\n",
      "Epoch 153/250\n",
      "24/24 [==============================] - 0s 2ms/step - loss: 0.1179 - accuracy: 0.9520 - val_loss: 0.1028 - val_accuracy: 0.9600\n",
      "Epoch 154/250\n",
      "24/24 [==============================] - 0s 2ms/step - loss: 0.1168 - accuracy: 0.9533 - val_loss: 0.1026 - val_accuracy: 0.9600\n",
      "Epoch 155/250\n",
      "24/24 [==============================] - 0s 1ms/step - loss: 0.1156 - accuracy: 0.9533 - val_loss: 0.1011 - val_accuracy: 0.9600\n",
      "Epoch 156/250\n",
      "24/24 [==============================] - 0s 2ms/step - loss: 0.1146 - accuracy: 0.9520 - val_loss: 0.1007 - val_accuracy: 0.9600\n",
      "Epoch 157/250\n",
      "24/24 [==============================] - 0s 2ms/step - loss: 0.1137 - accuracy: 0.9560 - val_loss: 0.0991 - val_accuracy: 0.9600\n",
      "Epoch 158/250\n",
      "24/24 [==============================] - 0s 2ms/step - loss: 0.1125 - accuracy: 0.9573 - val_loss: 0.0987 - val_accuracy: 0.9600\n",
      "Epoch 159/250\n",
      "24/24 [==============================] - 0s 2ms/step - loss: 0.1117 - accuracy: 0.9547 - val_loss: 0.0979 - val_accuracy: 0.9600\n",
      "Epoch 160/250\n",
      "24/24 [==============================] - 0s 2ms/step - loss: 0.1107 - accuracy: 0.9547 - val_loss: 0.0971 - val_accuracy: 0.9640\n",
      "Epoch 161/250\n",
      "24/24 [==============================] - 0s 2ms/step - loss: 0.1099 - accuracy: 0.9573 - val_loss: 0.0959 - val_accuracy: 0.9640\n",
      "Epoch 162/250\n",
      "24/24 [==============================] - 0s 2ms/step - loss: 0.1090 - accuracy: 0.9573 - val_loss: 0.0947 - val_accuracy: 0.9680\n",
      "Epoch 163/250\n",
      "24/24 [==============================] - 0s 2ms/step - loss: 0.1081 - accuracy: 0.9573 - val_loss: 0.0945 - val_accuracy: 0.9640\n",
      "Epoch 164/250\n",
      "24/24 [==============================] - 0s 2ms/step - loss: 0.1067 - accuracy: 0.9587 - val_loss: 0.0930 - val_accuracy: 0.9680\n",
      "Epoch 165/250\n",
      "24/24 [==============================] - 0s 2ms/step - loss: 0.1059 - accuracy: 0.9600 - val_loss: 0.0922 - val_accuracy: 0.9680\n",
      "Epoch 166/250\n",
      "24/24 [==============================] - 0s 2ms/step - loss: 0.1050 - accuracy: 0.9587 - val_loss: 0.0916 - val_accuracy: 0.9680\n",
      "Epoch 167/250\n",
      "24/24 [==============================] - 0s 2ms/step - loss: 0.1040 - accuracy: 0.9600 - val_loss: 0.0905 - val_accuracy: 0.9680\n",
      "Epoch 168/250\n",
      "24/24 [==============================] - 0s 2ms/step - loss: 0.1033 - accuracy: 0.9613 - val_loss: 0.0898 - val_accuracy: 0.9720\n",
      "Epoch 169/250\n",
      "24/24 [==============================] - 0s 2ms/step - loss: 0.1022 - accuracy: 0.9613 - val_loss: 0.0887 - val_accuracy: 0.9720\n",
      "Epoch 170/250\n",
      "24/24 [==============================] - 0s 2ms/step - loss: 0.1012 - accuracy: 0.9613 - val_loss: 0.0880 - val_accuracy: 0.9720\n",
      "Epoch 171/250\n"
     ]
    },
    {
     "name": "stdout",
     "output_type": "stream",
     "text": [
      "24/24 [==============================] - 0s 2ms/step - loss: 0.1003 - accuracy: 0.9613 - val_loss: 0.0870 - val_accuracy: 0.9760\n",
      "Epoch 172/250\n",
      "24/24 [==============================] - 0s 2ms/step - loss: 0.0994 - accuracy: 0.9613 - val_loss: 0.0863 - val_accuracy: 0.9760\n",
      "Epoch 173/250\n",
      "24/24 [==============================] - 0s 2ms/step - loss: 0.0984 - accuracy: 0.9627 - val_loss: 0.0854 - val_accuracy: 0.9800\n",
      "Epoch 174/250\n",
      "24/24 [==============================] - 0s 2ms/step - loss: 0.0978 - accuracy: 0.9627 - val_loss: 0.0845 - val_accuracy: 0.9800\n",
      "Epoch 175/250\n",
      "24/24 [==============================] - 0s 2ms/step - loss: 0.0967 - accuracy: 0.9627 - val_loss: 0.0840 - val_accuracy: 0.9800\n",
      "Epoch 176/250\n",
      "24/24 [==============================] - 0s 2ms/step - loss: 0.0959 - accuracy: 0.9640 - val_loss: 0.0830 - val_accuracy: 0.9840\n",
      "Epoch 177/250\n",
      "24/24 [==============================] - 0s 2ms/step - loss: 0.0950 - accuracy: 0.9640 - val_loss: 0.0823 - val_accuracy: 0.9840\n",
      "Epoch 178/250\n",
      "24/24 [==============================] - 0s 2ms/step - loss: 0.0942 - accuracy: 0.9653 - val_loss: 0.0813 - val_accuracy: 0.9840\n",
      "Epoch 179/250\n",
      "24/24 [==============================] - 0s 2ms/step - loss: 0.0932 - accuracy: 0.9653 - val_loss: 0.0807 - val_accuracy: 0.9880\n",
      "Epoch 180/250\n",
      "24/24 [==============================] - 0s 2ms/step - loss: 0.0923 - accuracy: 0.9640 - val_loss: 0.0799 - val_accuracy: 0.9880\n",
      "Epoch 181/250\n",
      "24/24 [==============================] - 0s 2ms/step - loss: 0.0915 - accuracy: 0.9653 - val_loss: 0.0789 - val_accuracy: 0.9880\n",
      "Epoch 182/250\n",
      "24/24 [==============================] - 0s 2ms/step - loss: 0.0907 - accuracy: 0.9667 - val_loss: 0.0782 - val_accuracy: 0.9880\n",
      "Epoch 183/250\n",
      "24/24 [==============================] - 0s 2ms/step - loss: 0.0898 - accuracy: 0.9667 - val_loss: 0.0774 - val_accuracy: 0.9880\n",
      "Epoch 184/250\n",
      "24/24 [==============================] - 0s 2ms/step - loss: 0.0890 - accuracy: 0.9680 - val_loss: 0.0766 - val_accuracy: 0.9880\n",
      "Epoch 185/250\n",
      "24/24 [==============================] - 0s 2ms/step - loss: 0.0882 - accuracy: 0.9707 - val_loss: 0.0762 - val_accuracy: 0.9880\n",
      "Epoch 186/250\n",
      "24/24 [==============================] - 0s 2ms/step - loss: 0.0874 - accuracy: 0.9693 - val_loss: 0.0750 - val_accuracy: 0.9920\n",
      "Epoch 187/250\n",
      "24/24 [==============================] - 0s 2ms/step - loss: 0.0864 - accuracy: 0.9707 - val_loss: 0.0745 - val_accuracy: 0.9880\n",
      "Epoch 188/250\n",
      "24/24 [==============================] - 0s 2ms/step - loss: 0.0859 - accuracy: 0.9720 - val_loss: 0.0735 - val_accuracy: 0.9920\n",
      "Epoch 189/250\n",
      "24/24 [==============================] - 0s 2ms/step - loss: 0.0848 - accuracy: 0.9707 - val_loss: 0.0731 - val_accuracy: 0.9920\n",
      "Epoch 190/250\n",
      "24/24 [==============================] - 0s 2ms/step - loss: 0.0841 - accuracy: 0.9720 - val_loss: 0.0722 - val_accuracy: 0.9920\n",
      "Epoch 191/250\n",
      "24/24 [==============================] - 0s 2ms/step - loss: 0.0833 - accuracy: 0.9720 - val_loss: 0.0716 - val_accuracy: 0.9920\n",
      "Epoch 192/250\n",
      "24/24 [==============================] - 0s 2ms/step - loss: 0.0824 - accuracy: 0.9733 - val_loss: 0.0709 - val_accuracy: 0.9920\n",
      "Epoch 193/250\n",
      "24/24 [==============================] - 0s 2ms/step - loss: 0.0816 - accuracy: 0.9733 - val_loss: 0.0701 - val_accuracy: 0.9920\n",
      "Epoch 194/250\n",
      "24/24 [==============================] - 0s 1ms/step - loss: 0.0810 - accuracy: 0.9747 - val_loss: 0.0693 - val_accuracy: 0.9920\n",
      "Epoch 195/250\n",
      "24/24 [==============================] - 0s 1ms/step - loss: 0.0802 - accuracy: 0.9760 - val_loss: 0.0685 - val_accuracy: 0.9920\n",
      "Epoch 196/250\n",
      "24/24 [==============================] - 0s 1ms/step - loss: 0.0793 - accuracy: 0.9760 - val_loss: 0.0680 - val_accuracy: 0.9920\n",
      "Epoch 197/250\n",
      "24/24 [==============================] - 0s 2ms/step - loss: 0.0786 - accuracy: 0.9760 - val_loss: 0.0673 - val_accuracy: 0.9920\n",
      "Epoch 198/250\n",
      "24/24 [==============================] - 0s 1ms/step - loss: 0.0778 - accuracy: 0.9773 - val_loss: 0.0666 - val_accuracy: 0.9920\n",
      "Epoch 199/250\n",
      "24/24 [==============================] - 0s 1ms/step - loss: 0.0772 - accuracy: 0.9773 - val_loss: 0.0657 - val_accuracy: 0.9920\n",
      "Epoch 200/250\n",
      "24/24 [==============================] - 0s 2ms/step - loss: 0.0764 - accuracy: 0.9787 - val_loss: 0.0653 - val_accuracy: 0.9920\n",
      "Epoch 201/250\n",
      "24/24 [==============================] - 0s 1ms/step - loss: 0.0757 - accuracy: 0.9787 - val_loss: 0.0647 - val_accuracy: 0.9920\n",
      "Epoch 202/250\n",
      "24/24 [==============================] - 0s 2ms/step - loss: 0.0749 - accuracy: 0.9813 - val_loss: 0.0640 - val_accuracy: 0.9920\n",
      "Epoch 203/250\n",
      "24/24 [==============================] - 0s 2ms/step - loss: 0.0742 - accuracy: 0.9813 - val_loss: 0.0630 - val_accuracy: 0.9920\n",
      "Epoch 204/250\n",
      "24/24 [==============================] - 0s 2ms/step - loss: 0.0735 - accuracy: 0.9827 - val_loss: 0.0625 - val_accuracy: 0.9920\n",
      "Epoch 205/250\n",
      "24/24 [==============================] - 0s 2ms/step - loss: 0.0729 - accuracy: 0.9827 - val_loss: 0.0622 - val_accuracy: 0.9920\n",
      "Epoch 206/250\n",
      "24/24 [==============================] - 0s 2ms/step - loss: 0.0720 - accuracy: 0.9840 - val_loss: 0.0611 - val_accuracy: 0.9920\n",
      "Epoch 207/250\n",
      "24/24 [==============================] - 0s 2ms/step - loss: 0.0714 - accuracy: 0.9840 - val_loss: 0.0607 - val_accuracy: 0.9920\n",
      "Epoch 208/250\n",
      "24/24 [==============================] - 0s 2ms/step - loss: 0.0706 - accuracy: 0.9853 - val_loss: 0.0600 - val_accuracy: 0.9920\n",
      "Epoch 209/250\n",
      "24/24 [==============================] - 0s 2ms/step - loss: 0.0701 - accuracy: 0.9853 - val_loss: 0.0593 - val_accuracy: 0.9920\n",
      "Epoch 210/250\n",
      "24/24 [==============================] - 0s 2ms/step - loss: 0.0692 - accuracy: 0.9867 - val_loss: 0.0588 - val_accuracy: 0.9920\n",
      "Epoch 211/250\n",
      "24/24 [==============================] - 0s 2ms/step - loss: 0.0688 - accuracy: 0.9853 - val_loss: 0.0583 - val_accuracy: 0.9920\n",
      "Epoch 212/250\n",
      "24/24 [==============================] - 0s 2ms/step - loss: 0.0679 - accuracy: 0.9867 - val_loss: 0.0575 - val_accuracy: 0.9960\n",
      "Epoch 213/250\n",
      "24/24 [==============================] - 0s 2ms/step - loss: 0.0673 - accuracy: 0.9867 - val_loss: 0.0570 - val_accuracy: 0.9960\n",
      "Epoch 214/250\n",
      "24/24 [==============================] - 0s 2ms/step - loss: 0.0668 - accuracy: 0.9880 - val_loss: 0.0562 - val_accuracy: 0.9960\n",
      "Epoch 215/250\n",
      "24/24 [==============================] - 0s 2ms/step - loss: 0.0660 - accuracy: 0.9867 - val_loss: 0.0558 - val_accuracy: 0.9960\n",
      "Epoch 216/250\n",
      "24/24 [==============================] - 0s 2ms/step - loss: 0.0654 - accuracy: 0.9880 - val_loss: 0.0550 - val_accuracy: 1.0000\n",
      "Epoch 217/250\n",
      "24/24 [==============================] - 0s 2ms/step - loss: 0.0650 - accuracy: 0.9880 - val_loss: 0.0548 - val_accuracy: 0.9960\n",
      "Epoch 218/250\n",
      "24/24 [==============================] - 0s 1ms/step - loss: 0.0640 - accuracy: 0.9880 - val_loss: 0.0539 - val_accuracy: 1.0000\n",
      "Epoch 219/250\n",
      "24/24 [==============================] - 0s 2ms/step - loss: 0.0634 - accuracy: 0.9880 - val_loss: 0.0534 - val_accuracy: 1.0000\n",
      "Epoch 220/250\n",
      "24/24 [==============================] - 0s 1ms/step - loss: 0.0628 - accuracy: 0.9880 - val_loss: 0.0528 - val_accuracy: 1.0000\n",
      "Epoch 221/250\n",
      "24/24 [==============================] - 0s 2ms/step - loss: 0.0623 - accuracy: 0.9893 - val_loss: 0.0525 - val_accuracy: 1.0000\n",
      "Epoch 222/250\n",
      "24/24 [==============================] - 0s 2ms/step - loss: 0.0615 - accuracy: 0.9893 - val_loss: 0.0517 - val_accuracy: 1.0000\n",
      "Epoch 223/250\n",
      "24/24 [==============================] - 0s 2ms/step - loss: 0.0610 - accuracy: 0.9907 - val_loss: 0.0512 - val_accuracy: 1.0000\n",
      "Epoch 224/250\n",
      "24/24 [==============================] - 0s 2ms/step - loss: 0.0603 - accuracy: 0.9907 - val_loss: 0.0507 - val_accuracy: 1.0000\n",
      "Epoch 225/250\n",
      "24/24 [==============================] - 0s 2ms/step - loss: 0.0597 - accuracy: 0.9907 - val_loss: 0.0503 - val_accuracy: 1.0000\n",
      "Epoch 226/250\n",
      "24/24 [==============================] - 0s 2ms/step - loss: 0.0591 - accuracy: 0.9907 - val_loss: 0.0496 - val_accuracy: 1.0000\n",
      "Epoch 227/250\n",
      "24/24 [==============================] - 0s 2ms/step - loss: 0.0585 - accuracy: 0.9920 - val_loss: 0.0490 - val_accuracy: 1.0000\n",
      "Epoch 228/250\n"
     ]
    },
    {
     "name": "stdout",
     "output_type": "stream",
     "text": [
      "24/24 [==============================] - 0s 2ms/step - loss: 0.0579 - accuracy: 0.9920 - val_loss: 0.0485 - val_accuracy: 1.0000\n",
      "Epoch 229/250\n",
      "24/24 [==============================] - 0s 2ms/step - loss: 0.0574 - accuracy: 0.9920 - val_loss: 0.0482 - val_accuracy: 1.0000\n",
      "Epoch 230/250\n",
      "24/24 [==============================] - 0s 2ms/step - loss: 0.0568 - accuracy: 0.9920 - val_loss: 0.0476 - val_accuracy: 1.0000\n",
      "Epoch 231/250\n",
      "24/24 [==============================] - 0s 2ms/step - loss: 0.0562 - accuracy: 0.9933 - val_loss: 0.0470 - val_accuracy: 1.0000\n",
      "Epoch 232/250\n",
      "24/24 [==============================] - 0s 2ms/step - loss: 0.0557 - accuracy: 0.9920 - val_loss: 0.0466 - val_accuracy: 1.0000\n",
      "Epoch 233/250\n",
      "24/24 [==============================] - 0s 2ms/step - loss: 0.0551 - accuracy: 0.9933 - val_loss: 0.0460 - val_accuracy: 1.0000\n",
      "Epoch 234/250\n",
      "24/24 [==============================] - 0s 2ms/step - loss: 0.0546 - accuracy: 0.9947 - val_loss: 0.0456 - val_accuracy: 1.0000\n",
      "Epoch 235/250\n",
      "24/24 [==============================] - 0s 2ms/step - loss: 0.0541 - accuracy: 0.9920 - val_loss: 0.0452 - val_accuracy: 1.0000\n",
      "Epoch 236/250\n",
      "24/24 [==============================] - 0s 2ms/step - loss: 0.0535 - accuracy: 0.9947 - val_loss: 0.0445 - val_accuracy: 1.0000\n",
      "Epoch 237/250\n",
      "24/24 [==============================] - 0s 2ms/step - loss: 0.0530 - accuracy: 0.9960 - val_loss: 0.0440 - val_accuracy: 1.0000\n",
      "Epoch 238/250\n",
      "24/24 [==============================] - 0s 2ms/step - loss: 0.0525 - accuracy: 0.9947 - val_loss: 0.0436 - val_accuracy: 1.0000\n",
      "Epoch 239/250\n",
      "24/24 [==============================] - 0s 2ms/step - loss: 0.0519 - accuracy: 0.9960 - val_loss: 0.0431 - val_accuracy: 1.0000\n",
      "Epoch 240/250\n",
      "24/24 [==============================] - 0s 1ms/step - loss: 0.0513 - accuracy: 0.9960 - val_loss: 0.0427 - val_accuracy: 1.0000\n",
      "Epoch 241/250\n",
      "24/24 [==============================] - 0s 2ms/step - loss: 0.0508 - accuracy: 0.9960 - val_loss: 0.0423 - val_accuracy: 1.0000\n",
      "Epoch 242/250\n",
      "24/24 [==============================] - 0s 1ms/step - loss: 0.0506 - accuracy: 0.9987 - val_loss: 0.0418 - val_accuracy: 1.0000\n",
      "Epoch 243/250\n",
      "24/24 [==============================] - 0s 2ms/step - loss: 0.0499 - accuracy: 0.9973 - val_loss: 0.0415 - val_accuracy: 1.0000\n",
      "Epoch 244/250\n",
      "24/24 [==============================] - 0s 2ms/step - loss: 0.0495 - accuracy: 0.9960 - val_loss: 0.0409 - val_accuracy: 1.0000\n",
      "Epoch 245/250\n",
      "24/24 [==============================] - 0s 2ms/step - loss: 0.0489 - accuracy: 0.9973 - val_loss: 0.0405 - val_accuracy: 1.0000\n",
      "Epoch 246/250\n",
      "24/24 [==============================] - 0s 2ms/step - loss: 0.0483 - accuracy: 0.9973 - val_loss: 0.0401 - val_accuracy: 1.0000\n",
      "Epoch 247/250\n",
      "24/24 [==============================] - 0s 2ms/step - loss: 0.0479 - accuracy: 0.9973 - val_loss: 0.0397 - val_accuracy: 1.0000\n",
      "Epoch 248/250\n",
      "24/24 [==============================] - 0s 1ms/step - loss: 0.0474 - accuracy: 0.9987 - val_loss: 0.0392 - val_accuracy: 1.0000\n",
      "Epoch 249/250\n",
      "24/24 [==============================] - 0s 2ms/step - loss: 0.0469 - accuracy: 1.0000 - val_loss: 0.0387 - val_accuracy: 1.0000\n",
      "Epoch 250/250\n",
      "24/24 [==============================] - 0s 2ms/step - loss: 0.0467 - accuracy: 0.9987 - val_loss: 0.0385 - val_accuracy: 1.0000\n"
     ]
    }
   ],
   "source": [
    "history = model.fit(X, y, epochs=250, validation_split=0.25)"
   ]
  },
  {
   "cell_type": "code",
   "execution_count": 13,
   "metadata": {
    "colab": {
     "base_uri": "https://localhost:8080/"
    },
    "executionInfo": {
     "elapsed": 22,
     "status": "ok",
     "timestamp": 1636930862904,
     "user": {
      "displayName": "Federico Baiocco",
      "photoUrl": "https://lh3.googleusercontent.com/a-/AOh14Ghf2wyATB48QBNVeVnR-1Y2rw_O5uZLAvphY2Otz9c=s64",
      "userId": "14260194928165318342"
     },
     "user_tz": 180
    },
    "id": "4MTY-bSoadq2",
    "outputId": "335e18fd-8769-47b7-ea5a-b47514d5815d"
   },
   "outputs": [
    {
     "name": "stdout",
     "output_type": "stream",
     "text": [
      "Model: \"sequential\"\n",
      "_________________________________________________________________\n",
      "Layer (type)                 Output Shape              Param #   \n",
      "=================================================================\n",
      "dense (Dense)                (None, 10)                30        \n",
      "_________________________________________________________________\n",
      "dense_1 (Dense)              (None, 1)                 11        \n",
      "=================================================================\n",
      "Total params: 41\n",
      "Trainable params: 41\n",
      "Non-trainable params: 0\n",
      "_________________________________________________________________\n"
     ]
    }
   ],
   "source": [
    "model.summary()"
   ]
  },
  {
   "cell_type": "markdown",
   "metadata": {
    "id": "vQ5IDPCrarcl"
   },
   "source": [
    "Podemos analizar nuestra variable history:"
   ]
  },
  {
   "cell_type": "code",
   "execution_count": 14,
   "metadata": {
    "colab": {
     "base_uri": "https://localhost:8080/"
    },
    "executionInfo": {
     "elapsed": 20,
     "status": "ok",
     "timestamp": 1636930862906,
     "user": {
      "displayName": "Federico Baiocco",
      "photoUrl": "https://lh3.googleusercontent.com/a-/AOh14Ghf2wyATB48QBNVeVnR-1Y2rw_O5uZLAvphY2Otz9c=s64",
      "userId": "14260194928165318342"
     },
     "user_tz": 180
    },
    "id": "vSeMijAsapEd",
    "outputId": "cd225942-1037-4733-a258-e47c3d6b4d88"
   },
   "outputs": [
    {
     "name": "stdout",
     "output_type": "stream",
     "text": [
      "dict_keys(['loss', 'accuracy', 'val_loss', 'val_accuracy'])\n"
     ]
    }
   ],
   "source": [
    "print(history.history.keys())"
   ]
  },
  {
   "cell_type": "code",
   "execution_count": 15,
   "metadata": {
    "colab": {
     "base_uri": "https://localhost:8080/",
     "height": 573
    },
    "executionInfo": {
     "elapsed": 646,
     "status": "ok",
     "timestamp": 1636930863534,
     "user": {
      "displayName": "Federico Baiocco",
      "photoUrl": "https://lh3.googleusercontent.com/a-/AOh14Ghf2wyATB48QBNVeVnR-1Y2rw_O5uZLAvphY2Otz9c=s64",
      "userId": "14260194928165318342"
     },
     "user_tz": 180
    },
    "id": "04xIikP7atXT",
    "outputId": "19f2bdcb-d4a0-43ad-d52e-cfa37e3eebbf"
   },
   "outputs": [
    {
     "data": {
      "image/png": "[encoded data removed]",
      "text/plain": [
       "<Figure size 432x288 with 1 Axes>"
      ]
     },
     "metadata": {
      "needs_background": "light"
     },
     "output_type": "display_data"
    },
    {
     "data": {
      "image/png": "[encoded data removed]",
      "text/plain": [
       "<Figure size 432x288 with 1 Axes>"
      ]
     },
     "metadata": {
      "needs_background": "light"
     },
     "output_type": "display_data"
    }
   ],
   "source": [
    "plt.plot(history.history['accuracy'])\n",
    "plt.plot(history.history['val_accuracy'])\n",
    "plt.title('Model accuracy')\n",
    "plt.ylabel('Accuracy')\n",
    "plt.xlabel('Epoch')\n",
    "plt.legend(['Train', 'Test'], loc='upper left')\n",
    "plt.show()\n",
    "\n",
    "plt.plot(history.history['loss'])\n",
    "plt.plot(history.history['val_loss'])\n",
    "plt.title('Model loss')\n",
    "plt.ylabel('Loss')\n",
    "plt.xlabel('Epoch')\n",
    "plt.legend(['Train', 'Test'], loc='upper left')\n",
    "plt.show()"
   ]
  },
  {
   "cell_type": "markdown",
   "metadata": {
    "id": "0JCOuR46a6jL"
   },
   "source": [
    "¿ Por qué loss baja y accuracy sube ?"
   ]
  },
  {
   "cell_type": "markdown",
   "metadata": {
    "id": "zLD7nG5YbHTz"
   },
   "source": [
    "El siguiente código plotea las fronteras de decisión."
   ]
  },
  {
   "cell_type": "code",
   "execution_count": 16,
   "metadata": {
    "colab": {
     "base_uri": "https://localhost:8080/",
     "height": 374
    },
    "executionInfo": {
     "elapsed": 1462,
     "status": "ok",
     "timestamp": 1636930864995,
     "user": {
      "displayName": "Federico Baiocco",
      "photoUrl": "https://lh3.googleusercontent.com/a-/AOh14Ghf2wyATB48QBNVeVnR-1Y2rw_O5uZLAvphY2Otz9c=s64",
      "userId": "14260194928165318342"
     },
     "user_tz": 180
    },
    "id": "DjCoXkjFazKS",
    "outputId": "6fea3cd5-676d-4a64-ce6b-488a0f4e4e35"
   },
   "outputs": [
    {
     "data": {
      "image/png": "[encoded data removed]",
      "text/plain": [
       "<Figure size 720x432 with 1 Axes>"
      ]
     },
     "metadata": {
      "needs_background": "light"
     },
     "output_type": "display_data"
    }
   ],
   "source": [
    "plt.figure(figsize = (10,6))\n",
    "\n",
    "ax = sns.scatterplot(x = X[:,0], y = X[:,1], hue = y)\n",
    "xlim = ax.get_xlim()\n",
    "ylim = ax.get_ylim()\n",
    "xx, yy = np.meshgrid(np.linspace(*xlim, num=200),\n",
    "                      np.linspace(*ylim, num=200))\n",
    "Z = model.predict(np.c_[xx.ravel(), yy.ravel()]).reshape(xx.shape)\n",
    "contours = ax.contourf(xx, yy, Z, levels = 10, alpha=0.3, cmap = 'plasma')\n",
    "plt.show()"
   ]
  },
  {
   "cell_type": "markdown",
   "metadata": {
    "id": "WeSK9qALbNcR"
   },
   "source": [
    "#### Ejercicio\n",
    "\n",
    "Volver a entrenar una red neuronal y graficar las fronteras de decisión (lo mismo que ya hicimos) pero esta vez agregar una capa más con 10 neuronas.\n",
    "\n",
    "Es decir, debemos tener 2 capas de 10 neuronas con Relu y luego una capa de 1 neurona con softmax."
   ]
  },
  {
   "cell_type": "code",
   "execution_count": 17,
   "metadata": {
    "executionInfo": {
     "elapsed": 3,
     "status": "ok",
     "timestamp": 1636932718182,
     "user": {
      "displayName": "Federico Baiocco",
      "photoUrl": "https://lh3.googleusercontent.com/a-/AOh14Ghf2wyATB48QBNVeVnR-1Y2rw_O5uZLAvphY2Otz9c=s64",
      "userId": "14260194928165318342"
     },
     "user_tz": 180
    },
    "id": "CSXXMHtdbD4q"
   },
   "outputs": [],
   "source": [
    "model = Sequential()\n",
    "model.add(Dense(10, activation='relu'))\n",
    "model.add(Dense(10, activation='relu'))\n",
    "model.add(Dense(1, activation='sigmoid'))"
   ]
  },
  {
   "cell_type": "code",
   "execution_count": 18,
   "metadata": {},
   "outputs": [],
   "source": [
    "model.compile(optimizer=optimizer, loss='binary_crossentropy',metrics=['accuracy'])"
   ]
  },
  {
   "cell_type": "code",
   "execution_count": 19,
   "metadata": {},
   "outputs": [
    {
     "name": "stdout",
     "output_type": "stream",
     "text": [
      "Epoch 1/250\n",
      "24/24 [==============================] - 0s 6ms/step - loss: 0.5748 - accuracy: 0.6587 - val_loss: 0.5018 - val_accuracy: 0.7800\n",
      "Epoch 2/250\n",
      "24/24 [==============================] - 0s 2ms/step - loss: 0.4215 - accuracy: 0.8373 - val_loss: 0.3585 - val_accuracy: 0.8640\n",
      "Epoch 3/250\n",
      "24/24 [==============================] - 0s 2ms/step - loss: 0.3100 - accuracy: 0.8760 - val_loss: 0.2663 - val_accuracy: 0.8800\n",
      "Epoch 4/250\n",
      "24/24 [==============================] - 0s 2ms/step - loss: 0.2567 - accuracy: 0.8880 - val_loss: 0.2268 - val_accuracy: 0.8920\n",
      "Epoch 5/250\n",
      "24/24 [==============================] - 0s 2ms/step - loss: 0.2300 - accuracy: 0.8933 - val_loss: 0.2042 - val_accuracy: 0.9000\n",
      "Epoch 6/250\n",
      "24/24 [==============================] - 0s 2ms/step - loss: 0.2136 - accuracy: 0.8947 - val_loss: 0.1863 - val_accuracy: 0.9160\n",
      "Epoch 7/250\n",
      "24/24 [==============================] - 0s 2ms/step - loss: 0.2030 - accuracy: 0.9053 - val_loss: 0.1748 - val_accuracy: 0.9240\n",
      "Epoch 8/250\n",
      "24/24 [==============================] - 0s 2ms/step - loss: 0.1881 - accuracy: 0.9040 - val_loss: 0.1601 - val_accuracy: 0.9360\n",
      "Epoch 9/250\n",
      "24/24 [==============================] - 0s 2ms/step - loss: 0.1732 - accuracy: 0.9240 - val_loss: 0.1487 - val_accuracy: 0.9400\n",
      "Epoch 10/250\n",
      "24/24 [==============================] - 0s 2ms/step - loss: 0.1620 - accuracy: 0.9360 - val_loss: 0.1356 - val_accuracy: 0.9520\n",
      "Epoch 11/250\n",
      "24/24 [==============================] - 0s 2ms/step - loss: 0.1492 - accuracy: 0.9440 - val_loss: 0.1237 - val_accuracy: 0.9600\n",
      "Epoch 12/250\n",
      "24/24 [==============================] - 0s 2ms/step - loss: 0.1371 - accuracy: 0.9520 - val_loss: 0.1137 - val_accuracy: 0.9680\n",
      "Epoch 13/250\n",
      "24/24 [==============================] - 0s 2ms/step - loss: 0.1273 - accuracy: 0.9587 - val_loss: 0.1037 - val_accuracy: 0.9720\n",
      "Epoch 14/250\n",
      "24/24 [==============================] - 0s 2ms/step - loss: 0.1174 - accuracy: 0.9667 - val_loss: 0.0949 - val_accuracy: 0.9760\n",
      "Epoch 15/250\n",
      "24/24 [==============================] - 0s 1ms/step - loss: 0.1088 - accuracy: 0.9720 - val_loss: 0.0863 - val_accuracy: 0.9760\n",
      "Epoch 16/250\n",
      "24/24 [==============================] - 0s 2ms/step - loss: 0.1004 - accuracy: 0.9693 - val_loss: 0.0793 - val_accuracy: 0.9840\n",
      "Epoch 17/250\n",
      "24/24 [==============================] - 0s 2ms/step - loss: 0.0933 - accuracy: 0.9733 - val_loss: 0.0727 - val_accuracy: 0.9880\n",
      "Epoch 18/250\n",
      "24/24 [==============================] - 0s 2ms/step - loss: 0.0847 - accuracy: 0.9760 - val_loss: 0.0659 - val_accuracy: 0.9880\n",
      "Epoch 19/250\n",
      "24/24 [==============================] - 0s 2ms/step - loss: 0.0783 - accuracy: 0.9760 - val_loss: 0.0596 - val_accuracy: 0.9920\n",
      "Epoch 20/250\n",
      "24/24 [==============================] - 0s 2ms/step - loss: 0.0716 - accuracy: 0.9813 - val_loss: 0.0544 - val_accuracy: 0.9920\n",
      "Epoch 21/250\n",
      "24/24 [==============================] - 0s 2ms/step - loss: 0.0660 - accuracy: 0.9813 - val_loss: 0.0498 - val_accuracy: 0.9920\n",
      "Epoch 22/250\n",
      "24/24 [==============================] - 0s 2ms/step - loss: 0.0608 - accuracy: 0.9840 - val_loss: 0.0455 - val_accuracy: 0.9920\n",
      "Epoch 23/250\n",
      "24/24 [==============================] - 0s 2ms/step - loss: 0.0557 - accuracy: 0.9880 - val_loss: 0.0410 - val_accuracy: 1.0000\n",
      "Epoch 24/250\n",
      "24/24 [==============================] - ETA: 0s - loss: 0.0348 - accuracy: 1.00 - 0s 2ms/step - loss: 0.0514 - accuracy: 0.9880 - val_loss: 0.0380 - val_accuracy: 0.9960\n",
      "Epoch 25/250\n",
      "24/24 [==============================] - 0s 2ms/step - loss: 0.0466 - accuracy: 0.9920 - val_loss: 0.0340 - val_accuracy: 1.0000\n",
      "Epoch 26/250\n",
      "24/24 [==============================] - 0s 2ms/step - loss: 0.0426 - accuracy: 0.9933 - val_loss: 0.0312 - val_accuracy: 1.0000\n",
      "Epoch 27/250\n",
      "24/24 [==============================] - 0s 2ms/step - loss: 0.0389 - accuracy: 0.9933 - val_loss: 0.0285 - val_accuracy: 1.0000\n",
      "Epoch 28/250\n",
      "24/24 [==============================] - 0s 2ms/step - loss: 0.0358 - accuracy: 0.9960 - val_loss: 0.0261 - val_accuracy: 1.0000\n",
      "Epoch 29/250\n",
      "24/24 [==============================] - 0s 2ms/step - loss: 0.0329 - accuracy: 0.9987 - val_loss: 0.0240 - val_accuracy: 1.0000\n",
      "Epoch 30/250\n",
      "24/24 [==============================] - 0s 2ms/step - loss: 0.0305 - accuracy: 1.0000 - val_loss: 0.0220 - val_accuracy: 1.0000\n",
      "Epoch 31/250\n",
      "24/24 [==============================] - 0s 2ms/step - loss: 0.0278 - accuracy: 1.0000 - val_loss: 0.0201 - val_accuracy: 1.0000\n",
      "Epoch 32/250\n",
      "24/24 [==============================] - 0s 2ms/step - loss: 0.0257 - accuracy: 1.0000 - val_loss: 0.0185 - val_accuracy: 1.0000\n",
      "Epoch 33/250\n",
      "24/24 [==============================] - 0s 2ms/step - loss: 0.0236 - accuracy: 1.0000 - val_loss: 0.0172 - val_accuracy: 1.0000\n",
      "Epoch 34/250\n",
      "24/24 [==============================] - 0s 2ms/step - loss: 0.0220 - accuracy: 1.0000 - val_loss: 0.0159 - val_accuracy: 1.0000\n",
      "Epoch 35/250\n",
      "24/24 [==============================] - 0s 2ms/step - loss: 0.0203 - accuracy: 1.0000 - val_loss: 0.0147 - val_accuracy: 1.0000\n",
      "Epoch 36/250\n",
      "24/24 [==============================] - 0s 2ms/step - loss: 0.0189 - accuracy: 1.0000 - val_loss: 0.0136 - val_accuracy: 1.0000\n",
      "Epoch 37/250\n",
      "24/24 [==============================] - 0s 2ms/step - loss: 0.0176 - accuracy: 1.0000 - val_loss: 0.0127 - val_accuracy: 1.0000\n",
      "Epoch 38/250\n",
      "24/24 [==============================] - 0s 2ms/step - loss: 0.0164 - accuracy: 1.0000 - val_loss: 0.0118 - val_accuracy: 1.0000\n",
      "Epoch 39/250\n",
      "24/24 [==============================] - 0s 2ms/step - loss: 0.0153 - accuracy: 1.0000 - val_loss: 0.0111 - val_accuracy: 1.0000\n",
      "Epoch 40/250\n",
      "24/24 [==============================] - 0s 2ms/step - loss: 0.0144 - accuracy: 1.0000 - val_loss: 0.0103 - val_accuracy: 1.0000\n",
      "Epoch 41/250\n",
      "24/24 [==============================] - 0s 2ms/step - loss: 0.0135 - accuracy: 1.0000 - val_loss: 0.0097 - val_accuracy: 1.0000\n",
      "Epoch 42/250\n",
      "24/24 [==============================] - 0s 2ms/step - loss: 0.0127 - accuracy: 1.0000 - val_loss: 0.0091 - val_accuracy: 1.0000\n",
      "Epoch 43/250\n",
      "24/24 [==============================] - 0s 2ms/step - loss: 0.0119 - accuracy: 1.0000 - val_loss: 0.0086 - val_accuracy: 1.0000\n",
      "Epoch 44/250\n",
      "24/24 [==============================] - 0s 2ms/step - loss: 0.0112 - accuracy: 1.0000 - val_loss: 0.0081 - val_accuracy: 1.0000\n",
      "Epoch 45/250\n",
      "24/24 [==============================] - 0s 2ms/step - loss: 0.0107 - accuracy: 1.0000 - val_loss: 0.0076 - val_accuracy: 1.0000\n",
      "Epoch 46/250\n",
      "24/24 [==============================] - 0s 2ms/step - loss: 0.0101 - accuracy: 1.0000 - val_loss: 0.0072 - val_accuracy: 1.0000\n",
      "Epoch 47/250\n",
      "24/24 [==============================] - 0s 2ms/step - loss: 0.0095 - accuracy: 1.0000 - val_loss: 0.0068 - val_accuracy: 1.0000\n",
      "Epoch 48/250\n",
      "24/24 [==============================] - 0s 2ms/step - loss: 0.0090 - accuracy: 1.0000 - val_loss: 0.0064 - val_accuracy: 1.0000\n",
      "Epoch 49/250\n",
      "24/24 [==============================] - 0s 2ms/step - loss: 0.0085 - accuracy: 1.0000 - val_loss: 0.0061 - val_accuracy: 1.0000\n",
      "Epoch 50/250\n",
      "24/24 [==============================] - 0s 2ms/step - loss: 0.0081 - accuracy: 1.0000 - val_loss: 0.0058 - val_accuracy: 1.0000\n",
      "Epoch 51/250\n",
      "24/24 [==============================] - 0s 2ms/step - loss: 0.0077 - accuracy: 1.0000 - val_loss: 0.0055 - val_accuracy: 1.0000\n",
      "Epoch 52/250\n",
      "24/24 [==============================] - 0s 2ms/step - loss: 0.0074 - accuracy: 1.0000 - val_loss: 0.0052 - val_accuracy: 1.0000\n",
      "Epoch 53/250\n",
      "24/24 [==============================] - 0s 2ms/step - loss: 0.0070 - accuracy: 1.0000 - val_loss: 0.0050 - val_accuracy: 1.0000\n",
      "Epoch 54/250\n",
      "24/24 [==============================] - 0s 2ms/step - loss: 0.0067 - accuracy: 1.0000 - val_loss: 0.0048 - val_accuracy: 1.0000\n",
      "Epoch 55/250\n",
      "24/24 [==============================] - 0s 2ms/step - loss: 0.0064 - accuracy: 1.0000 - val_loss: 0.0045 - val_accuracy: 1.0000\n",
      "Epoch 56/250\n",
      "24/24 [==============================] - 0s 2ms/step - loss: 0.0061 - accuracy: 1.0000 - val_loss: 0.0043 - val_accuracy: 1.0000\n",
      "Epoch 57/250\n",
      "24/24 [==============================] - 0s 2ms/step - loss: 0.0059 - accuracy: 1.0000 - val_loss: 0.0041 - val_accuracy: 1.0000\n",
      "Epoch 58/250\n"
     ]
    },
    {
     "name": "stdout",
     "output_type": "stream",
     "text": [
      "24/24 [==============================] - 0s 2ms/step - loss: 0.0056 - accuracy: 1.0000 - val_loss: 0.0039 - val_accuracy: 1.0000\n",
      "Epoch 59/250\n",
      "24/24 [==============================] - 0s 2ms/step - loss: 0.0054 - accuracy: 1.0000 - val_loss: 0.0038 - val_accuracy: 1.0000\n",
      "Epoch 60/250\n",
      "24/24 [==============================] - 0s 2ms/step - loss: 0.0051 - accuracy: 1.0000 - val_loss: 0.0036 - val_accuracy: 1.0000\n",
      "Epoch 61/250\n",
      "24/24 [==============================] - 0s 2ms/step - loss: 0.0050 - accuracy: 1.0000 - val_loss: 0.0034 - val_accuracy: 1.0000\n",
      "Epoch 62/250\n",
      "24/24 [==============================] - 0s 2ms/step - loss: 0.0047 - accuracy: 1.0000 - val_loss: 0.0033 - val_accuracy: 1.0000\n",
      "Epoch 63/250\n",
      "24/24 [==============================] - 0s 2ms/step - loss: 0.0046 - accuracy: 1.0000 - val_loss: 0.0032 - val_accuracy: 1.0000\n",
      "Epoch 64/250\n",
      "24/24 [==============================] - 0s 2ms/step - loss: 0.0044 - accuracy: 1.0000 - val_loss: 0.0030 - val_accuracy: 1.0000\n",
      "Epoch 65/250\n",
      "24/24 [==============================] - 0s 2ms/step - loss: 0.0042 - accuracy: 1.0000 - val_loss: 0.0029 - val_accuracy: 1.0000\n",
      "Epoch 66/250\n",
      "24/24 [==============================] - 0s 2ms/step - loss: 0.0041 - accuracy: 1.0000 - val_loss: 0.0028 - val_accuracy: 1.0000\n",
      "Epoch 67/250\n",
      "24/24 [==============================] - 0s 2ms/step - loss: 0.0039 - accuracy: 1.0000 - val_loss: 0.0027 - val_accuracy: 1.0000\n",
      "Epoch 68/250\n",
      "24/24 [==============================] - 0s 2ms/step - loss: 0.0038 - accuracy: 1.0000 - val_loss: 0.0026 - val_accuracy: 1.0000\n",
      "Epoch 69/250\n",
      "24/24 [==============================] - 0s 2ms/step - loss: 0.0036 - accuracy: 1.0000 - val_loss: 0.0025 - val_accuracy: 1.0000\n",
      "Epoch 70/250\n",
      "24/24 [==============================] - 0s 2ms/step - loss: 0.0035 - accuracy: 1.0000 - val_loss: 0.0024 - val_accuracy: 1.0000\n",
      "Epoch 71/250\n",
      "24/24 [==============================] - 0s 2ms/step - loss: 0.0034 - accuracy: 1.0000 - val_loss: 0.0023 - val_accuracy: 1.0000\n",
      "Epoch 72/250\n",
      "24/24 [==============================] - 0s 2ms/step - loss: 0.0033 - accuracy: 1.0000 - val_loss: 0.0022 - val_accuracy: 1.0000\n",
      "Epoch 73/250\n",
      "24/24 [==============================] - 0s 2ms/step - loss: 0.0031 - accuracy: 1.0000 - val_loss: 0.0022 - val_accuracy: 1.0000\n",
      "Epoch 74/250\n",
      "24/24 [==============================] - 0s 2ms/step - loss: 0.0030 - accuracy: 1.0000 - val_loss: 0.0021 - val_accuracy: 1.0000\n",
      "Epoch 75/250\n",
      "24/24 [==============================] - 0s 2ms/step - loss: 0.0029 - accuracy: 1.0000 - val_loss: 0.0020 - val_accuracy: 1.0000\n",
      "Epoch 76/250\n",
      "24/24 [==============================] - 0s 2ms/step - loss: 0.0029 - accuracy: 1.0000 - val_loss: 0.0020 - val_accuracy: 1.0000\n",
      "Epoch 77/250\n",
      "24/24 [==============================] - 0s 2ms/step - loss: 0.0028 - accuracy: 1.0000 - val_loss: 0.0019 - val_accuracy: 1.0000\n",
      "Epoch 78/250\n",
      "24/24 [==============================] - 0s 2ms/step - loss: 0.0027 - accuracy: 1.0000 - val_loss: 0.0018 - val_accuracy: 1.0000\n",
      "Epoch 79/250\n",
      "24/24 [==============================] - 0s 2ms/step - loss: 0.0026 - accuracy: 1.0000 - val_loss: 0.0018 - val_accuracy: 1.0000\n",
      "Epoch 80/250\n",
      "24/24 [==============================] - 0s 2ms/step - loss: 0.0025 - accuracy: 1.0000 - val_loss: 0.0017 - val_accuracy: 1.0000\n",
      "Epoch 81/250\n",
      "24/24 [==============================] - 0s 2ms/step - loss: 0.0024 - accuracy: 1.0000 - val_loss: 0.0016 - val_accuracy: 1.0000\n",
      "Epoch 82/250\n",
      "24/24 [==============================] - 0s 2ms/step - loss: 0.0024 - accuracy: 1.0000 - val_loss: 0.0016 - val_accuracy: 1.0000\n",
      "Epoch 83/250\n",
      "24/24 [==============================] - 0s 2ms/step - loss: 0.0023 - accuracy: 1.0000 - val_loss: 0.0015 - val_accuracy: 1.0000\n",
      "Epoch 84/250\n",
      "24/24 [==============================] - 0s 2ms/step - loss: 0.0022 - accuracy: 1.0000 - val_loss: 0.0015 - val_accuracy: 1.0000\n",
      "Epoch 85/250\n",
      "24/24 [==============================] - 0s 2ms/step - loss: 0.0022 - accuracy: 1.0000 - val_loss: 0.0015 - val_accuracy: 1.0000\n",
      "Epoch 86/250\n",
      "24/24 [==============================] - 0s 2ms/step - loss: 0.0021 - accuracy: 1.0000 - val_loss: 0.0014 - val_accuracy: 1.0000\n",
      "Epoch 87/250\n",
      "24/24 [==============================] - 0s 2ms/step - loss: 0.0020 - accuracy: 1.0000 - val_loss: 0.0014 - val_accuracy: 1.0000\n",
      "Epoch 88/250\n",
      "24/24 [==============================] - 0s 2ms/step - loss: 0.0020 - accuracy: 1.0000 - val_loss: 0.0013 - val_accuracy: 1.0000\n",
      "Epoch 89/250\n",
      "24/24 [==============================] - 0s 2ms/step - loss: 0.0019 - accuracy: 1.0000 - val_loss: 0.0013 - val_accuracy: 1.0000\n",
      "Epoch 90/250\n",
      "24/24 [==============================] - 0s 2ms/step - loss: 0.0019 - accuracy: 1.0000 - val_loss: 0.0013 - val_accuracy: 1.0000\n",
      "Epoch 91/250\n",
      "24/24 [==============================] - 0s 2ms/step - loss: 0.0018 - accuracy: 1.0000 - val_loss: 0.0012 - val_accuracy: 1.0000\n",
      "Epoch 92/250\n",
      "24/24 [==============================] - 0s 2ms/step - loss: 0.0018 - accuracy: 1.0000 - val_loss: 0.0012 - val_accuracy: 1.0000\n",
      "Epoch 93/250\n",
      "24/24 [==============================] - 0s 2ms/step - loss: 0.0017 - accuracy: 1.0000 - val_loss: 0.0011 - val_accuracy: 1.0000\n",
      "Epoch 94/250\n",
      "24/24 [==============================] - 0s 2ms/step - loss: 0.0017 - accuracy: 1.0000 - val_loss: 0.0011 - val_accuracy: 1.0000\n",
      "Epoch 95/250\n",
      "24/24 [==============================] - 0s 2ms/step - loss: 0.0016 - accuracy: 1.0000 - val_loss: 0.0011 - val_accuracy: 1.0000\n",
      "Epoch 96/250\n",
      "24/24 [==============================] - 0s 2ms/step - loss: 0.0016 - accuracy: 1.0000 - val_loss: 0.0011 - val_accuracy: 1.0000\n",
      "Epoch 97/250\n",
      "24/24 [==============================] - 0s 2ms/step - loss: 0.0015 - accuracy: 1.0000 - val_loss: 0.0010 - val_accuracy: 1.0000\n",
      "Epoch 98/250\n",
      "24/24 [==============================] - 0s 2ms/step - loss: 0.0015 - accuracy: 1.0000 - val_loss: 0.0010 - val_accuracy: 1.0000\n",
      "Epoch 99/250\n",
      "24/24 [==============================] - 0s 2ms/step - loss: 0.0015 - accuracy: 1.0000 - val_loss: 9.7374e-04 - val_accuracy: 1.0000\n",
      "Epoch 100/250\n",
      "24/24 [==============================] - 0s 2ms/step - loss: 0.0014 - accuracy: 1.0000 - val_loss: 9.5307e-04 - val_accuracy: 1.0000\n",
      "Epoch 101/250\n",
      "24/24 [==============================] - 0s 2ms/step - loss: 0.0014 - accuracy: 1.0000 - val_loss: 9.2912e-04 - val_accuracy: 1.0000\n",
      "Epoch 102/250\n",
      "24/24 [==============================] - 0s 2ms/step - loss: 0.0014 - accuracy: 1.0000 - val_loss: 9.0214e-04 - val_accuracy: 1.0000\n",
      "Epoch 103/250\n",
      "24/24 [==============================] - 0s 2ms/step - loss: 0.0013 - accuracy: 1.0000 - val_loss: 8.7733e-04 - val_accuracy: 1.0000\n",
      "Epoch 104/250\n",
      "24/24 [==============================] - 0s 2ms/step - loss: 0.0013 - accuracy: 1.0000 - val_loss: 8.5561e-04 - val_accuracy: 1.0000\n",
      "Epoch 105/250\n",
      "24/24 [==============================] - 0s 2ms/step - loss: 0.0013 - accuracy: 1.0000 - val_loss: 8.3190e-04 - val_accuracy: 1.0000\n",
      "Epoch 106/250\n",
      "24/24 [==============================] - 0s 2ms/step - loss: 0.0012 - accuracy: 1.0000 - val_loss: 8.1282e-04 - val_accuracy: 1.0000\n",
      "Epoch 107/250\n",
      "24/24 [==============================] - 0s 2ms/step - loss: 0.0012 - accuracy: 1.0000 - val_loss: 7.8973e-04 - val_accuracy: 1.0000\n",
      "Epoch 108/250\n",
      "24/24 [==============================] - 0s 2ms/step - loss: 0.0012 - accuracy: 1.0000 - val_loss: 7.7113e-04 - val_accuracy: 1.0000\n",
      "Epoch 109/250\n",
      "24/24 [==============================] - 0s 2ms/step - loss: 0.0011 - accuracy: 1.0000 - val_loss: 7.5052e-04 - val_accuracy: 1.0000\n",
      "Epoch 110/250\n",
      "24/24 [==============================] - 0s 2ms/step - loss: 0.0011 - accuracy: 1.0000 - val_loss: 7.3423e-04 - val_accuracy: 1.0000\n",
      "Epoch 111/250\n",
      "24/24 [==============================] - 0s 2ms/step - loss: 0.0011 - accuracy: 1.0000 - val_loss: 7.1549e-04 - val_accuracy: 1.0000\n",
      "Epoch 112/250\n",
      "24/24 [==============================] - 0s 2ms/step - loss: 0.0011 - accuracy: 1.0000 - val_loss: 6.9732e-04 - val_accuracy: 1.0000\n",
      "Epoch 113/250\n",
      "24/24 [==============================] - 0s 2ms/step - loss: 0.0010 - accuracy: 1.0000 - val_loss: 6.8013e-04 - val_accuracy: 1.0000\n",
      "Epoch 114/250\n",
      "24/24 [==============================] - 0s 2ms/step - loss: 0.0010 - accuracy: 1.0000 - val_loss: 6.6319e-04 - val_accuracy: 1.0000\n",
      "Epoch 115/250\n"
     ]
    },
    {
     "name": "stdout",
     "output_type": "stream",
     "text": [
      "24/24 [==============================] - 0s 2ms/step - loss: 9.9788e-04 - accuracy: 1.0000 - val_loss: 6.4915e-04 - val_accuracy: 1.0000\n",
      "Epoch 116/250\n",
      "24/24 [==============================] - 0s 2ms/step - loss: 9.7141e-04 - accuracy: 1.0000 - val_loss: 6.3012e-04 - val_accuracy: 1.0000\n",
      "Epoch 117/250\n",
      "24/24 [==============================] - 0s 2ms/step - loss: 9.5109e-04 - accuracy: 1.0000 - val_loss: 6.1645e-04 - val_accuracy: 1.0000\n",
      "Epoch 118/250\n",
      "24/24 [==============================] - 0s 2ms/step - loss: 9.2916e-04 - accuracy: 1.0000 - val_loss: 6.0430e-04 - val_accuracy: 1.0000\n",
      "Epoch 119/250\n",
      "24/24 [==============================] - 0s 2ms/step - loss: 9.0934e-04 - accuracy: 1.0000 - val_loss: 5.9078e-04 - val_accuracy: 1.0000\n",
      "Epoch 120/250\n",
      "24/24 [==============================] - 0s 2ms/step - loss: 8.8994e-04 - accuracy: 1.0000 - val_loss: 5.7601e-04 - val_accuracy: 1.0000\n",
      "Epoch 121/250\n",
      "24/24 [==============================] - 0s 1ms/step - loss: 8.6943e-04 - accuracy: 1.0000 - val_loss: 5.6343e-04 - val_accuracy: 1.0000\n",
      "Epoch 122/250\n",
      "24/24 [==============================] - 0s 2ms/step - loss: 8.5033e-04 - accuracy: 1.0000 - val_loss: 5.4885e-04 - val_accuracy: 1.0000\n",
      "Epoch 123/250\n",
      "24/24 [==============================] - 0s 2ms/step - loss: 8.3330e-04 - accuracy: 1.0000 - val_loss: 5.3714e-04 - val_accuracy: 1.0000\n",
      "Epoch 124/250\n",
      "24/24 [==============================] - 0s 2ms/step - loss: 8.1469e-04 - accuracy: 1.0000 - val_loss: 5.2403e-04 - val_accuracy: 1.0000\n",
      "Epoch 125/250\n",
      "24/24 [==============================] - 0s 2ms/step - loss: 7.9785e-04 - accuracy: 1.0000 - val_loss: 5.1339e-04 - val_accuracy: 1.0000\n",
      "Epoch 126/250\n",
      "24/24 [==============================] - 0s 2ms/step - loss: 7.7998e-04 - accuracy: 1.0000 - val_loss: 5.0206e-04 - val_accuracy: 1.0000\n",
      "Epoch 127/250\n",
      "24/24 [==============================] - 0s 2ms/step - loss: 7.6503e-04 - accuracy: 1.0000 - val_loss: 4.9067e-04 - val_accuracy: 1.0000\n",
      "Epoch 128/250\n",
      "24/24 [==============================] - 0s 2ms/step - loss: 7.4811e-04 - accuracy: 1.0000 - val_loss: 4.8047e-04 - val_accuracy: 1.0000\n",
      "Epoch 129/250\n",
      "24/24 [==============================] - 0s 2ms/step - loss: 7.3346e-04 - accuracy: 1.0000 - val_loss: 4.6911e-04 - val_accuracy: 1.0000\n",
      "Epoch 130/250\n",
      "24/24 [==============================] - 0s 2ms/step - loss: 7.1688e-04 - accuracy: 1.0000 - val_loss: 4.5982e-04 - val_accuracy: 1.0000\n",
      "Epoch 131/250\n",
      "24/24 [==============================] - 0s 2ms/step - loss: 7.0293e-04 - accuracy: 1.0000 - val_loss: 4.4998e-04 - val_accuracy: 1.0000\n",
      "Epoch 132/250\n",
      "24/24 [==============================] - 0s 2ms/step - loss: 6.8857e-04 - accuracy: 1.0000 - val_loss: 4.3848e-04 - val_accuracy: 1.0000\n",
      "Epoch 133/250\n",
      "24/24 [==============================] - 0s 2ms/step - loss: 6.7578e-04 - accuracy: 1.0000 - val_loss: 4.3091e-04 - val_accuracy: 1.0000\n",
      "Epoch 134/250\n",
      "24/24 [==============================] - 0s 2ms/step - loss: 6.5914e-04 - accuracy: 1.0000 - val_loss: 4.2107e-04 - val_accuracy: 1.0000\n",
      "Epoch 135/250\n",
      "24/24 [==============================] - 0s 2ms/step - loss: 6.4513e-04 - accuracy: 1.0000 - val_loss: 4.1383e-04 - val_accuracy: 1.0000\n",
      "Epoch 136/250\n",
      "24/24 [==============================] - 0s 2ms/step - loss: 6.3191e-04 - accuracy: 1.0000 - val_loss: 4.0438e-04 - val_accuracy: 1.0000\n",
      "Epoch 137/250\n",
      "24/24 [==============================] - 0s 2ms/step - loss: 6.1896e-04 - accuracy: 1.0000 - val_loss: 3.9810e-04 - val_accuracy: 1.0000\n",
      "Epoch 138/250\n",
      "24/24 [==============================] - 0s 2ms/step - loss: 6.0694e-04 - accuracy: 1.0000 - val_loss: 3.8963e-04 - val_accuracy: 1.0000\n",
      "Epoch 139/250\n",
      "24/24 [==============================] - 0s 3ms/step - loss: 5.9380e-04 - accuracy: 1.0000 - val_loss: 3.8002e-04 - val_accuracy: 1.0000\n",
      "Epoch 140/250\n",
      "24/24 [==============================] - 0s 2ms/step - loss: 5.8211e-04 - accuracy: 1.0000 - val_loss: 3.7074e-04 - val_accuracy: 1.0000\n",
      "Epoch 141/250\n",
      "24/24 [==============================] - 0s 1ms/step - loss: 5.7008e-04 - accuracy: 1.0000 - val_loss: 3.6530e-04 - val_accuracy: 1.0000\n",
      "Epoch 142/250\n",
      "24/24 [==============================] - 0s 2ms/step - loss: 5.5965e-04 - accuracy: 1.0000 - val_loss: 3.5792e-04 - val_accuracy: 1.0000\n",
      "Epoch 143/250\n",
      "24/24 [==============================] - 0s 2ms/step - loss: 5.4750e-04 - accuracy: 1.0000 - val_loss: 3.4961e-04 - val_accuracy: 1.0000\n",
      "Epoch 144/250\n",
      "24/24 [==============================] - 0s 2ms/step - loss: 5.3743e-04 - accuracy: 1.0000 - val_loss: 3.4127e-04 - val_accuracy: 1.0000\n",
      "Epoch 145/250\n",
      "24/24 [==============================] - 0s 2ms/step - loss: 5.2703e-04 - accuracy: 1.0000 - val_loss: 3.3354e-04 - val_accuracy: 1.0000\n",
      "Epoch 146/250\n",
      "24/24 [==============================] - 0s 2ms/step - loss: 5.1700e-04 - accuracy: 1.0000 - val_loss: 3.2924e-04 - val_accuracy: 1.0000\n",
      "Epoch 147/250\n",
      "24/24 [==============================] - 0s 2ms/step - loss: 5.0694e-04 - accuracy: 1.0000 - val_loss: 3.2234e-04 - val_accuracy: 1.0000\n",
      "Epoch 148/250\n",
      "24/24 [==============================] - 0s 2ms/step - loss: 4.9673e-04 - accuracy: 1.0000 - val_loss: 3.1522e-04 - val_accuracy: 1.0000\n",
      "Epoch 149/250\n",
      "24/24 [==============================] - 0s 2ms/step - loss: 4.8826e-04 - accuracy: 1.0000 - val_loss: 3.0776e-04 - val_accuracy: 1.0000\n",
      "Epoch 150/250\n",
      "24/24 [==============================] - 0s 2ms/step - loss: 4.7934e-04 - accuracy: 1.0000 - val_loss: 3.0233e-04 - val_accuracy: 1.0000\n",
      "Epoch 151/250\n",
      "24/24 [==============================] - 0s 2ms/step - loss: 4.6949e-04 - accuracy: 1.0000 - val_loss: 2.9569e-04 - val_accuracy: 1.0000\n",
      "Epoch 152/250\n",
      "24/24 [==============================] - 0s 2ms/step - loss: 4.6067e-04 - accuracy: 1.0000 - val_loss: 2.9036e-04 - val_accuracy: 1.0000\n",
      "Epoch 153/250\n",
      "24/24 [==============================] - 0s 2ms/step - loss: 4.5225e-04 - accuracy: 1.0000 - val_loss: 2.8370e-04 - val_accuracy: 1.0000\n",
      "Epoch 154/250\n",
      "24/24 [==============================] - 0s 2ms/step - loss: 4.4310e-04 - accuracy: 1.0000 - val_loss: 2.7813e-04 - val_accuracy: 1.0000\n",
      "Epoch 155/250\n",
      "24/24 [==============================] - 0s 2ms/step - loss: 4.3435e-04 - accuracy: 1.0000 - val_loss: 2.7244e-04 - val_accuracy: 1.0000\n",
      "Epoch 156/250\n",
      "24/24 [==============================] - 0s 2ms/step - loss: 4.2669e-04 - accuracy: 1.0000 - val_loss: 2.6757e-04 - val_accuracy: 1.0000\n",
      "Epoch 157/250\n",
      "24/24 [==============================] - 0s 2ms/step - loss: 4.1857e-04 - accuracy: 1.0000 - val_loss: 2.6182e-04 - val_accuracy: 1.0000\n",
      "Epoch 158/250\n",
      "24/24 [==============================] - 0s 2ms/step - loss: 4.1041e-04 - accuracy: 1.0000 - val_loss: 2.5592e-04 - val_accuracy: 1.0000\n",
      "Epoch 159/250\n",
      "24/24 [==============================] - 0s 2ms/step - loss: 4.0276e-04 - accuracy: 1.0000 - val_loss: 2.5122e-04 - val_accuracy: 1.0000\n",
      "Epoch 160/250\n",
      "24/24 [==============================] - 0s 2ms/step - loss: 3.9559e-04 - accuracy: 1.0000 - val_loss: 2.4816e-04 - val_accuracy: 1.0000\n",
      "Epoch 161/250\n",
      "24/24 [==============================] - 0s 2ms/step - loss: 3.8772e-04 - accuracy: 1.0000 - val_loss: 2.4305e-04 - val_accuracy: 1.0000\n",
      "Epoch 162/250\n",
      "24/24 [==============================] - 0s 2ms/step - loss: 3.8154e-04 - accuracy: 1.0000 - val_loss: 2.3805e-04 - val_accuracy: 1.0000\n",
      "Epoch 163/250\n",
      "24/24 [==============================] - 0s 2ms/step - loss: 3.7407e-04 - accuracy: 1.0000 - val_loss: 2.3220e-04 - val_accuracy: 1.0000\n",
      "Epoch 164/250\n",
      "24/24 [==============================] - 0s 2ms/step - loss: 3.6811e-04 - accuracy: 1.0000 - val_loss: 2.2865e-04 - val_accuracy: 1.0000\n",
      "Epoch 165/250\n",
      "24/24 [==============================] - 0s 2ms/step - loss: 3.6043e-04 - accuracy: 1.0000 - val_loss: 2.2391e-04 - val_accuracy: 1.0000\n",
      "Epoch 166/250\n",
      "24/24 [==============================] - 0s 2ms/step - loss: 3.5460e-04 - accuracy: 1.0000 - val_loss: 2.2017e-04 - val_accuracy: 1.0000\n",
      "Epoch 167/250\n",
      "24/24 [==============================] - 0s 2ms/step - loss: 3.4715e-04 - accuracy: 1.0000 - val_loss: 2.1559e-04 - val_accuracy: 1.0000\n",
      "Epoch 168/250\n",
      "24/24 [==============================] - 0s 2ms/step - loss: 3.4121e-04 - accuracy: 1.0000 - val_loss: 2.1135e-04 - val_accuracy: 1.0000\n",
      "Epoch 169/250\n"
     ]
    },
    {
     "name": "stdout",
     "output_type": "stream",
     "text": [
      "24/24 [==============================] - 0s 2ms/step - loss: 3.3564e-04 - accuracy: 1.0000 - val_loss: 2.0677e-04 - val_accuracy: 1.0000\n",
      "Epoch 170/250\n",
      "24/24 [==============================] - 0s 2ms/step - loss: 3.2951e-04 - accuracy: 1.0000 - val_loss: 2.0405e-04 - val_accuracy: 1.0000\n",
      "Epoch 171/250\n",
      "24/24 [==============================] - 0s 2ms/step - loss: 3.2388e-04 - accuracy: 1.0000 - val_loss: 1.9972e-04 - val_accuracy: 1.0000\n",
      "Epoch 172/250\n",
      "24/24 [==============================] - 0s 2ms/step - loss: 3.1762e-04 - accuracy: 1.0000 - val_loss: 1.9626e-04 - val_accuracy: 1.0000\n",
      "Epoch 173/250\n",
      "24/24 [==============================] - 0s 2ms/step - loss: 3.1184e-04 - accuracy: 1.0000 - val_loss: 1.9280e-04 - val_accuracy: 1.0000\n",
      "Epoch 174/250\n",
      "24/24 [==============================] - 0s 2ms/step - loss: 3.0677e-04 - accuracy: 1.0000 - val_loss: 1.8928e-04 - val_accuracy: 1.0000\n",
      "Epoch 175/250\n",
      "24/24 [==============================] - 0s 2ms/step - loss: 3.0151e-04 - accuracy: 1.0000 - val_loss: 1.8516e-04 - val_accuracy: 1.0000\n",
      "Epoch 176/250\n",
      "24/24 [==============================] - 0s 2ms/step - loss: 2.9617e-04 - accuracy: 1.0000 - val_loss: 1.8213e-04 - val_accuracy: 1.0000\n",
      "Epoch 177/250\n",
      "24/24 [==============================] - 0s 2ms/step - loss: 2.9062e-04 - accuracy: 1.0000 - val_loss: 1.7941e-04 - val_accuracy: 1.0000\n",
      "Epoch 178/250\n",
      "24/24 [==============================] - 0s 2ms/step - loss: 2.8576e-04 - accuracy: 1.0000 - val_loss: 1.7580e-04 - val_accuracy: 1.0000\n",
      "Epoch 179/250\n",
      "24/24 [==============================] - 0s 2ms/step - loss: 2.8069e-04 - accuracy: 1.0000 - val_loss: 1.7250e-04 - val_accuracy: 1.0000\n",
      "Epoch 180/250\n",
      "24/24 [==============================] - 0s 2ms/step - loss: 2.7612e-04 - accuracy: 1.0000 - val_loss: 1.6906e-04 - val_accuracy: 1.0000\n",
      "Epoch 181/250\n",
      "24/24 [==============================] - 0s 2ms/step - loss: 2.7103e-04 - accuracy: 1.0000 - val_loss: 1.6652e-04 - val_accuracy: 1.0000\n",
      "Epoch 182/250\n",
      "24/24 [==============================] - 0s 2ms/step - loss: 2.6619e-04 - accuracy: 1.0000 - val_loss: 1.6353e-04 - val_accuracy: 1.0000\n",
      "Epoch 183/250\n",
      "24/24 [==============================] - 0s 2ms/step - loss: 2.6175e-04 - accuracy: 1.0000 - val_loss: 1.6054e-04 - val_accuracy: 1.0000\n",
      "Epoch 184/250\n",
      "24/24 [==============================] - 0s 1ms/step - loss: 2.5781e-04 - accuracy: 1.0000 - val_loss: 1.5716e-04 - val_accuracy: 1.0000\n",
      "Epoch 185/250\n",
      "24/24 [==============================] - 0s 2ms/step - loss: 2.5323e-04 - accuracy: 1.0000 - val_loss: 1.5514e-04 - val_accuracy: 1.0000\n",
      "Epoch 186/250\n",
      "24/24 [==============================] - 0s 2ms/step - loss: 2.4871e-04 - accuracy: 1.0000 - val_loss: 1.5178e-04 - val_accuracy: 1.0000\n",
      "Epoch 187/250\n",
      "24/24 [==============================] - 0s 2ms/step - loss: 2.4427e-04 - accuracy: 1.0000 - val_loss: 1.4954e-04 - val_accuracy: 1.0000\n",
      "Epoch 188/250\n",
      "24/24 [==============================] - 0s 2ms/step - loss: 2.4030e-04 - accuracy: 1.0000 - val_loss: 1.4681e-04 - val_accuracy: 1.0000\n",
      "Epoch 189/250\n",
      "24/24 [==============================] - 0s 2ms/step - loss: 2.3588e-04 - accuracy: 1.0000 - val_loss: 1.4387e-04 - val_accuracy: 1.0000\n",
      "Epoch 190/250\n",
      "24/24 [==============================] - 0s 2ms/step - loss: 2.3212e-04 - accuracy: 1.0000 - val_loss: 1.4157e-04 - val_accuracy: 1.0000\n",
      "Epoch 191/250\n",
      "24/24 [==============================] - 0s 2ms/step - loss: 2.2825e-04 - accuracy: 1.0000 - val_loss: 1.3892e-04 - val_accuracy: 1.0000\n",
      "Epoch 192/250\n",
      "24/24 [==============================] - 0s 2ms/step - loss: 2.2443e-04 - accuracy: 1.0000 - val_loss: 1.3713e-04 - val_accuracy: 1.0000\n",
      "Epoch 193/250\n",
      "24/24 [==============================] - 0s 2ms/step - loss: 2.2029e-04 - accuracy: 1.0000 - val_loss: 1.3435e-04 - val_accuracy: 1.0000\n",
      "Epoch 194/250\n",
      "24/24 [==============================] - 0s 2ms/step - loss: 2.1699e-04 - accuracy: 1.0000 - val_loss: 1.3139e-04 - val_accuracy: 1.0000\n",
      "Epoch 195/250\n",
      "24/24 [==============================] - 0s 2ms/step - loss: 2.1301e-04 - accuracy: 1.0000 - val_loss: 1.2937e-04 - val_accuracy: 1.0000\n",
      "Epoch 196/250\n",
      "24/24 [==============================] - 0s 2ms/step - loss: 2.0975e-04 - accuracy: 1.0000 - val_loss: 1.2740e-04 - val_accuracy: 1.0000\n",
      "Epoch 197/250\n",
      "24/24 [==============================] - 0s 2ms/step - loss: 2.0603e-04 - accuracy: 1.0000 - val_loss: 1.2469e-04 - val_accuracy: 1.0000\n",
      "Epoch 198/250\n",
      "24/24 [==============================] - 0s 2ms/step - loss: 2.0274e-04 - accuracy: 1.0000 - val_loss: 1.2232e-04 - val_accuracy: 1.0000\n",
      "Epoch 199/250\n",
      "24/24 [==============================] - 0s 2ms/step - loss: 1.9946e-04 - accuracy: 1.0000 - val_loss: 1.2101e-04 - val_accuracy: 1.0000\n",
      "Epoch 200/250\n",
      "24/24 [==============================] - 0s 2ms/step - loss: 1.9573e-04 - accuracy: 1.0000 - val_loss: 1.1841e-04 - val_accuracy: 1.0000\n",
      "Epoch 201/250\n",
      "24/24 [==============================] - 0s 2ms/step - loss: 1.9266e-04 - accuracy: 1.0000 - val_loss: 1.1641e-04 - val_accuracy: 1.0000\n",
      "Epoch 202/250\n",
      "24/24 [==============================] - 0s 2ms/step - loss: 1.8919e-04 - accuracy: 1.0000 - val_loss: 1.1466e-04 - val_accuracy: 1.0000\n",
      "Epoch 203/250\n",
      "24/24 [==============================] - 0s 2ms/step - loss: 1.8638e-04 - accuracy: 1.0000 - val_loss: 1.1230e-04 - val_accuracy: 1.0000\n",
      "Epoch 204/250\n",
      "24/24 [==============================] - 0s 2ms/step - loss: 1.8304e-04 - accuracy: 1.0000 - val_loss: 1.1069e-04 - val_accuracy: 1.0000\n",
      "Epoch 205/250\n",
      "24/24 [==============================] - 0s 2ms/step - loss: 1.7996e-04 - accuracy: 1.0000 - val_loss: 1.0877e-04 - val_accuracy: 1.0000\n",
      "Epoch 206/250\n",
      "24/24 [==============================] - 0s 2ms/step - loss: 1.7709e-04 - accuracy: 1.0000 - val_loss: 1.0707e-04 - val_accuracy: 1.0000\n",
      "Epoch 207/250\n",
      "24/24 [==============================] - 0s 2ms/step - loss: 1.7407e-04 - accuracy: 1.0000 - val_loss: 1.0517e-04 - val_accuracy: 1.0000\n",
      "Epoch 208/250\n",
      "24/24 [==============================] - ETA: 0s - loss: 1.0899e-04 - accuracy: 1.00 - 0s 2ms/step - loss: 1.7131e-04 - accuracy: 1.0000 - val_loss: 1.0289e-04 - val_accuracy: 1.0000\n",
      "Epoch 209/250\n",
      "24/24 [==============================] - 0s 2ms/step - loss: 1.6846e-04 - accuracy: 1.0000 - val_loss: 1.0114e-04 - val_accuracy: 1.0000\n",
      "Epoch 210/250\n",
      "24/24 [==============================] - 0s 2ms/step - loss: 1.6584e-04 - accuracy: 1.0000 - val_loss: 9.9638e-05 - val_accuracy: 1.0000\n",
      "Epoch 211/250\n",
      "24/24 [==============================] - 0s 2ms/step - loss: 1.6315e-04 - accuracy: 1.0000 - val_loss: 9.7894e-05 - val_accuracy: 1.0000\n",
      "Epoch 212/250\n",
      "24/24 [==============================] - 0s 2ms/step - loss: 1.6066e-04 - accuracy: 1.0000 - val_loss: 9.6066e-05 - val_accuracy: 1.0000\n",
      "Epoch 213/250\n",
      "24/24 [==============================] - 0s 2ms/step - loss: 1.5781e-04 - accuracy: 1.0000 - val_loss: 9.4879e-05 - val_accuracy: 1.0000\n",
      "Epoch 214/250\n",
      "24/24 [==============================] - 0s 2ms/step - loss: 1.5521e-04 - accuracy: 1.0000 - val_loss: 9.3113e-05 - val_accuracy: 1.0000\n",
      "Epoch 215/250\n",
      "24/24 [==============================] - 0s 2ms/step - loss: 1.5284e-04 - accuracy: 1.0000 - val_loss: 9.1531e-05 - val_accuracy: 1.0000\n",
      "Epoch 216/250\n",
      "24/24 [==============================] - 0s 2ms/step - loss: 1.5071e-04 - accuracy: 1.0000 - val_loss: 8.9564e-05 - val_accuracy: 1.0000\n",
      "Epoch 217/250\n",
      "24/24 [==============================] - 0s 2ms/step - loss: 1.4802e-04 - accuracy: 1.0000 - val_loss: 8.8118e-05 - val_accuracy: 1.0000\n",
      "Epoch 218/250\n",
      "24/24 [==============================] - 0s 2ms/step - loss: 1.4533e-04 - accuracy: 1.0000 - val_loss: 8.6893e-05 - val_accuracy: 1.0000\n",
      "Epoch 219/250\n",
      "24/24 [==============================] - 0s 2ms/step - loss: 1.4316e-04 - accuracy: 1.0000 - val_loss: 8.5256e-05 - val_accuracy: 1.0000\n",
      "Epoch 220/250\n",
      "24/24 [==============================] - 0s 2ms/step - loss: 1.4111e-04 - accuracy: 1.0000 - val_loss: 8.4236e-05 - val_accuracy: 1.0000\n",
      "Epoch 221/250\n",
      "24/24 [==============================] - 0s 2ms/step - loss: 1.3859e-04 - accuracy: 1.0000 - val_loss: 8.2544e-05 - val_accuracy: 1.0000\n",
      "Epoch 222/250\n",
      "24/24 [==============================] - 0s 2ms/step - loss: 1.3651e-04 - accuracy: 1.0000 - val_loss: 8.1417e-05 - val_accuracy: 1.0000\n",
      "Epoch 223/250\n"
     ]
    },
    {
     "name": "stdout",
     "output_type": "stream",
     "text": [
      "24/24 [==============================] - 0s 2ms/step - loss: 1.3406e-04 - accuracy: 1.0000 - val_loss: 8.0096e-05 - val_accuracy: 1.0000\n",
      "Epoch 224/250\n",
      "24/24 [==============================] - 0s 2ms/step - loss: 1.3230e-04 - accuracy: 1.0000 - val_loss: 7.8252e-05 - val_accuracy: 1.0000\n",
      "Epoch 225/250\n",
      "24/24 [==============================] - 0s 2ms/step - loss: 1.2996e-04 - accuracy: 1.0000 - val_loss: 7.7412e-05 - val_accuracy: 1.0000\n",
      "Epoch 226/250\n",
      "24/24 [==============================] - 0s 2ms/step - loss: 1.2786e-04 - accuracy: 1.0000 - val_loss: 7.6047e-05 - val_accuracy: 1.0000\n",
      "Epoch 227/250\n",
      "24/24 [==============================] - 0s 2ms/step - loss: 1.2604e-04 - accuracy: 1.0000 - val_loss: 7.4710e-05 - val_accuracy: 1.0000\n",
      "Epoch 228/250\n",
      "24/24 [==============================] - 0s 2ms/step - loss: 1.2386e-04 - accuracy: 1.0000 - val_loss: 7.3311e-05 - val_accuracy: 1.0000\n",
      "Epoch 229/250\n",
      "24/24 [==============================] - 0s 2ms/step - loss: 1.2196e-04 - accuracy: 1.0000 - val_loss: 7.2035e-05 - val_accuracy: 1.0000\n",
      "Epoch 230/250\n",
      "24/24 [==============================] - 0s 1ms/step - loss: 1.1997e-04 - accuracy: 1.0000 - val_loss: 7.1068e-05 - val_accuracy: 1.0000\n",
      "Epoch 231/250\n",
      "24/24 [==============================] - 0s 2ms/step - loss: 1.1822e-04 - accuracy: 1.0000 - val_loss: 7.0005e-05 - val_accuracy: 1.0000\n",
      "Epoch 232/250\n",
      "24/24 [==============================] - 0s 2ms/step - loss: 1.1634e-04 - accuracy: 1.0000 - val_loss: 6.8723e-05 - val_accuracy: 1.0000\n",
      "Epoch 233/250\n",
      "24/24 [==============================] - 0s 2ms/step - loss: 1.1462e-04 - accuracy: 1.0000 - val_loss: 6.7531e-05 - val_accuracy: 1.0000\n",
      "Epoch 234/250\n",
      "24/24 [==============================] - 0s 2ms/step - loss: 1.1274e-04 - accuracy: 1.0000 - val_loss: 6.6524e-05 - val_accuracy: 1.0000\n",
      "Epoch 235/250\n",
      "24/24 [==============================] - 0s 2ms/step - loss: 1.1100e-04 - accuracy: 1.0000 - val_loss: 6.5390e-05 - val_accuracy: 1.0000\n",
      "Epoch 236/250\n",
      "24/24 [==============================] - 0s 1ms/step - loss: 1.0937e-04 - accuracy: 1.0000 - val_loss: 6.4132e-05 - val_accuracy: 1.0000\n",
      "Epoch 237/250\n",
      "24/24 [==============================] - 0s 2ms/step - loss: 1.0766e-04 - accuracy: 1.0000 - val_loss: 6.3217e-05 - val_accuracy: 1.0000\n",
      "Epoch 238/250\n",
      "24/24 [==============================] - 0s 2ms/step - loss: 1.0631e-04 - accuracy: 1.0000 - val_loss: 6.2587e-05 - val_accuracy: 1.0000\n",
      "Epoch 239/250\n",
      "24/24 [==============================] - 0s 2ms/step - loss: 1.0428e-04 - accuracy: 1.0000 - val_loss: 6.1350e-05 - val_accuracy: 1.0000\n",
      "Epoch 240/250\n",
      "24/24 [==============================] - 0s 2ms/step - loss: 1.0259e-04 - accuracy: 1.0000 - val_loss: 6.0349e-05 - val_accuracy: 1.0000\n",
      "Epoch 241/250\n",
      "24/24 [==============================] - 0s 2ms/step - loss: 1.0125e-04 - accuracy: 1.0000 - val_loss: 5.9317e-05 - val_accuracy: 1.0000\n",
      "Epoch 242/250\n",
      "24/24 [==============================] - 0s 2ms/step - loss: 9.9553e-05 - accuracy: 1.0000 - val_loss: 5.8243e-05 - val_accuracy: 1.0000\n",
      "Epoch 243/250\n",
      "24/24 [==============================] - ETA: 0s - loss: 7.2296e-05 - accuracy: 1.00 - 0s 2ms/step - loss: 9.8172e-05 - accuracy: 1.0000 - val_loss: 5.7121e-05 - val_accuracy: 1.0000\n",
      "Epoch 244/250\n",
      "24/24 [==============================] - 0s 2ms/step - loss: 9.6626e-05 - accuracy: 1.0000 - val_loss: 5.6553e-05 - val_accuracy: 1.0000\n",
      "Epoch 245/250\n",
      "24/24 [==============================] - 0s 2ms/step - loss: 9.5306e-05 - accuracy: 1.0000 - val_loss: 5.5743e-05 - val_accuracy: 1.0000\n",
      "Epoch 246/250\n",
      "24/24 [==============================] - 0s 2ms/step - loss: 9.3524e-05 - accuracy: 1.0000 - val_loss: 5.4673e-05 - val_accuracy: 1.0000\n",
      "Epoch 247/250\n",
      "24/24 [==============================] - 0s 2ms/step - loss: 9.2121e-05 - accuracy: 1.0000 - val_loss: 5.3768e-05 - val_accuracy: 1.0000\n",
      "Epoch 248/250\n",
      "24/24 [==============================] - 0s 2ms/step - loss: 9.0780e-05 - accuracy: 1.0000 - val_loss: 5.2940e-05 - val_accuracy: 1.0000\n",
      "Epoch 249/250\n",
      "24/24 [==============================] - 0s 2ms/step - loss: 8.9344e-05 - accuracy: 1.0000 - val_loss: 5.2157e-05 - val_accuracy: 1.0000\n",
      "Epoch 250/250\n",
      "24/24 [==============================] - 0s 2ms/step - loss: 8.8100e-05 - accuracy: 1.0000 - val_loss: 5.1170e-05 - val_accuracy: 1.0000\n"
     ]
    }
   ],
   "source": [
    "history = model.fit(X, y, epochs=250, validation_split=0.25)"
   ]
  },
  {
   "cell_type": "code",
   "execution_count": 20,
   "metadata": {},
   "outputs": [
    {
     "data": {
      "image/png": "[encoded data removed]",
      "text/plain": [
       "<Figure size 720x432 with 1 Axes>"
      ]
     },
     "metadata": {
      "needs_background": "light"
     },
     "output_type": "display_data"
    }
   ],
   "source": [
    "plt.figure(figsize = (10,6))\n",
    "\n",
    "ax = sns.scatterplot(x = X[:,0], y = X[:,1], hue = y)\n",
    "xlim = ax.get_xlim()\n",
    "ylim = ax.get_ylim()\n",
    "xx, yy = np.meshgrid(np.linspace(*xlim, num=200),\n",
    "                      np.linspace(*ylim, num=200))\n",
    "Z = model.predict(np.c_[xx.ravel(), yy.ravel()]).reshape(xx.shape)\n",
    "contours = ax.contourf(xx, yy, Z, levels = 10, alpha=0.3, cmap = 'plasma')\n",
    "plt.show()"
   ]
  },
  {
   "cell_type": "markdown",
   "metadata": {
    "id": "2xj4HnPSb3vK"
   },
   "source": [
    "¿Cambió?\n",
    "\n",
    "Podemos ver que a medida que agregamos capas y neuronas (modelo más complejo) el modelo se adapta mejor a los datos (ojo con overfitting).\n",
    "\n",
    "\n",
    "# MNIST\n",
    "\n",
    "El dataset de MNIST es un dataset muy conocido. Consiste en dígitos escritos a mano. Muchas modelos de redes neuronales son probados primeros en este set. Pueden encontrar una descripción más detallada, y un ranking de modelos con su desempeño, en el siguiente link.\n",
    "\n",
    "https://en.wikipedia.org/wiki/MNIST_database\n",
    "\n",
    "Vamos a arrancar con una sola capa, con una activación `softmax`, ya que se trata de diez clases.\n",
    "\n",
    "En un problema de clasificación con más de 2 clases (no binario) en general utilizaremos softmax en la última capa.\n",
    "\n",
    "Softmax nos tira un valor entre 0 y 1 para cada uno de los valores de salida. Si sumamos todas las salidas siempre va a ser = 1"
   ]
  },
  {
   "cell_type": "code",
   "execution_count": 21,
   "metadata": {
    "id": "0CWWBE-od2mp"
   },
   "outputs": [],
   "source": [
    "from tensorflow.keras.datasets import mnist"
   ]
  },
  {
   "cell_type": "code",
   "execution_count": 22,
   "metadata": {
    "id": "-1OhMQ2gezam"
   },
   "outputs": [
    {
     "name": "stdout",
     "output_type": "stream",
     "text": [
      "Downloading data from https://storage.googleapis.com/tensorflow/tf-keras-datasets/mnist.npz\n",
      "11493376/11490434 [==============================] - 4s 0us/step\n"
     ]
    }
   ],
   "source": [
    "(X_train, y_train), (X_test, y_test) = mnist.load_data()"
   ]
  },
  {
   "cell_type": "code",
   "execution_count": 29,
   "metadata": {
    "colab": {
     "base_uri": "https://localhost:8080/",
     "height": 899
    },
    "executionInfo": {
     "elapsed": 638,
     "status": "ok",
     "timestamp": 1636930888009,
     "user": {
      "displayName": "Federico Baiocco",
      "photoUrl": "https://lh3.googleusercontent.com/a-/AOh14Ghf2wyATB48QBNVeVnR-1Y2rw_O5uZLAvphY2Otz9c=s64",
      "userId": "14260194928165318342"
     },
     "user_tz": 180
    },
    "id": "gYQytltyfJ_H",
    "outputId": "bcafe0d4-a5a0-4706-b2d3-c9baac36a596"
   },
   "outputs": [
    {
     "data": {
      "image/png": "[encoded data removed]",
      "text/plain": [
       "<Figure size 432x288 with 1 Axes>"
      ]
     },
     "metadata": {
      "needs_background": "light"
     },
     "output_type": "display_data"
    },
    {
     "data": {
      "image/png": "[encoded data removed]",
      "text/plain": [
       "<Figure size 432x288 with 1 Axes>"
      ]
     },
     "metadata": {
      "needs_background": "light"
     },
     "output_type": "display_data"
    },
    {
     "data": {
      "image/png": "[encoded data removed]",
      "text/plain": [
       "<Figure size 432x288 with 1 Axes>"
      ]
     },
     "metadata": {
      "needs_background": "light"
     },
     "output_type": "display_data"
    },
    {
     "data": {
      "image/png": "[encoded data removed]",
      "text/plain": [
       "<Figure size 432x288 with 1 Axes>"
      ]
     },
     "metadata": {
      "needs_background": "light"
     },
     "output_type": "display_data"
    },
    {
     "data": {
      "image/png": "[encoded data removed]",
      "text/plain": [
       "<Figure size 432x288 with 1 Axes>"
      ]
     },
     "metadata": {
      "needs_background": "light"
     },
     "output_type": "display_data"
    },
    {
     "data": {
      "image/png": "[encoded data removed]",
      "text/plain": [
       "<Figure size 432x288 with 1 Axes>"
      ]
     },
     "metadata": {
      "needs_background": "light"
     },
     "output_type": "display_data"
    },
    {
     "data": {
      "image/png": "[encoded data removed]",
      "text/plain": [
       "<Figure size 432x288 with 1 Axes>"
      ]
     },
     "metadata": {
      "needs_background": "light"
     },
     "output_type": "display_data"
    },
    {
     "data": {
      "image/png": "[encoded data removed]",
      "text/plain": [
       "<Figure size 432x288 with 1 Axes>"
      ]
     },
     "metadata": {
      "needs_background": "light"
     },
     "output_type": "display_data"
    },
    {
     "data": {
      "image/png": "[encoded data removed]",
      "text/plain": [
       "<Figure size 432x288 with 1 Axes>"
      ]
     },
     "metadata": {
      "needs_background": "light"
     },
     "output_type": "display_data"
    }
   ],
   "source": [
    "for i in range(9):  \n",
    "  plt.subplot(330 + 1 + i)\n",
    "  plt.imshow(X_train[i], cmap=plt.get_cmap('gray'))\n",
    "  plt.show()"
   ]
  },
  {
   "cell_type": "code",
   "execution_count": 30,
   "metadata": {
    "colab": {
     "base_uri": "https://localhost:8080/"
    },
    "executionInfo": {
     "elapsed": 480,
     "status": "ok",
     "timestamp": 1636930888485,
     "user": {
      "displayName": "Federico Baiocco",
      "photoUrl": "https://lh3.googleusercontent.com/a-/AOh14Ghf2wyATB48QBNVeVnR-1Y2rw_O5uZLAvphY2Otz9c=s64",
      "userId": "14260194928165318342"
     },
     "user_tz": 180
    },
    "id": "zpaz9PpeorRK",
    "outputId": "3444d15b-0189-48c5-b6b4-6da62489a37a"
   },
   "outputs": [
    {
     "data": {
      "text/plain": [
       "(60000, 28, 28)"
      ]
     },
     "execution_count": 30,
     "metadata": {},
     "output_type": "execute_result"
    }
   ],
   "source": [
    "X_train.shape"
   ]
  },
  {
   "cell_type": "code",
   "execution_count": 31,
   "metadata": {
    "colab": {
     "base_uri": "https://localhost:8080/"
    },
    "executionInfo": {
     "elapsed": 12,
     "status": "ok",
     "timestamp": 1636930888486,
     "user": {
      "displayName": "Federico Baiocco",
      "photoUrl": "https://lh3.googleusercontent.com/a-/AOh14Ghf2wyATB48QBNVeVnR-1Y2rw_O5uZLAvphY2Otz9c=s64",
      "userId": "14260194928165318342"
     },
     "user_tz": 180
    },
    "id": "nqC28OzSoYB7",
    "outputId": "47bbc878-701b-45c8-a5fd-decf71962e12"
   },
   "outputs": [
    {
     "data": {
      "text/plain": [
       "(60000,)"
      ]
     },
     "execution_count": 31,
     "metadata": {},
     "output_type": "execute_result"
    }
   ],
   "source": [
    "y_train.shape"
   ]
  },
  {
   "cell_type": "markdown",
   "metadata": {
    "id": "r4xlk5YfqMsS"
   },
   "source": [
    "Veamos en que formato está y:"
   ]
  },
  {
   "cell_type": "code",
   "execution_count": 34,
   "metadata": {
    "colab": {
     "base_uri": "https://localhost:8080/"
    },
    "executionInfo": {
     "elapsed": 10,
     "status": "ok",
     "timestamp": 1636930888486,
     "user": {
      "displayName": "Federico Baiocco",
      "photoUrl": "https://lh3.googleusercontent.com/a-/AOh14Ghf2wyATB48QBNVeVnR-1Y2rw_O5uZLAvphY2Otz9c=s64",
      "userId": "14260194928165318342"
     },
     "user_tz": 180
    },
    "id": "pJIlJv_YqPlN",
    "outputId": "5eb49dde-51c9-4554-f7b5-99cca8c3abfc"
   },
   "outputs": [
    {
     "data": {
      "text/plain": [
       "array([5, 0, 4, ..., 5, 6, 8], dtype=uint8)"
      ]
     },
     "execution_count": 34,
     "metadata": {},
     "output_type": "execute_result"
    }
   ],
   "source": [
    "y_train[:5]"
   ]
  },
  {
   "cell_type": "markdown",
   "metadata": {
    "id": "EeUjkgs9qRit"
   },
   "source": [
    "Necesitamos convertir esto a un vector de one hot para entrenar nuestra red neuronal.\n",
    "\n",
    "EJERCICIO:\n",
    "\n",
    "Aplicar one hot encoder a y (train y test)"
   ]
  },
  {
   "cell_type": "code",
   "execution_count": 37,
   "metadata": {
    "executionInfo": {
     "elapsed": 304,
     "status": "ok",
     "timestamp": 1636932736701,
     "user": {
      "displayName": "Federico Baiocco",
      "photoUrl": "https://lh3.googleusercontent.com/a-/AOh14Ghf2wyATB48QBNVeVnR-1Y2rw_O5uZLAvphY2Otz9c=s64",
      "userId": "14260194928165318342"
     },
     "user_tz": 180
    },
    "id": "NWr3o960rixO"
   },
   "outputs": [],
   "source": [
    "from sklearn.preprocessing import OneHotEncoder\n",
    "ohe = OneHotEncoder(handle_unknown='ignore', sparse=False)\n",
    "ohe.fit(y_train.reshape(-1,1))\n",
    "\n",
    "y_train = ohe.fit_transform(y_train.reshape(-1, 1))\n",
    "y_test = ohe.transform(y_test.reshape(-1, 1))"
   ]
  },
  {
   "cell_type": "code",
   "execution_count": 38,
   "metadata": {
    "colab": {
     "base_uri": "https://localhost:8080/"
    },
    "executionInfo": {
     "elapsed": 347,
     "status": "ok",
     "timestamp": 1636931124699,
     "user": {
      "displayName": "Federico Baiocco",
      "photoUrl": "https://lh3.googleusercontent.com/a-/AOh14Ghf2wyATB48QBNVeVnR-1Y2rw_O5uZLAvphY2Otz9c=s64",
      "userId": "14260194928165318342"
     },
     "user_tz": 180
    },
    "id": "ajJWmfFOsjG4",
    "outputId": "efb638e7-f469-4afc-cb12-412727be6327"
   },
   "outputs": [
    {
     "data": {
      "text/plain": [
       "(60000, 10)"
      ]
     },
     "execution_count": 38,
     "metadata": {},
     "output_type": "execute_result"
    }
   ],
   "source": [
    "y_train.shape"
   ]
  },
  {
   "cell_type": "code",
   "execution_count": 39,
   "metadata": {
    "colab": {
     "base_uri": "https://localhost:8080/"
    },
    "executionInfo": {
     "elapsed": 536,
     "status": "ok",
     "timestamp": 1636931132493,
     "user": {
      "displayName": "Federico Baiocco",
      "photoUrl": "https://lh3.googleusercontent.com/a-/AOh14Ghf2wyATB48QBNVeVnR-1Y2rw_O5uZLAvphY2Otz9c=s64",
      "userId": "14260194928165318342"
     },
     "user_tz": 180
    },
    "id": "Dukq_FXossLG",
    "outputId": "08d4e94f-9452-42ce-df75-facc49d55055"
   },
   "outputs": [
    {
     "data": {
      "text/plain": [
       "(10000, 10)"
      ]
     },
     "execution_count": 39,
     "metadata": {},
     "output_type": "execute_result"
    }
   ],
   "source": [
    "y_test.shape"
   ]
  },
  {
   "cell_type": "markdown",
   "metadata": {
    "id": "R3SUjBIbpctB"
   },
   "source": [
    "Cada imagen tiene un tamaño de 28x28. Por lo tanto, debemos \"aplanarlas\" y convertirlas en una lista de 1 dimensión. Las capas densas esperan recibir una entrada de 1 dimensión.\n",
    "\n",
    "En tensorflow, podemos utilizar una capa \"flatten\" para esto."
   ]
  },
  {
   "cell_type": "code",
   "execution_count": 40,
   "metadata": {
    "id": "_aVPOnUgqAeI"
   },
   "outputs": [],
   "source": [
    "from tensorflow.keras.layers import Flatten"
   ]
  },
  {
   "cell_type": "markdown",
   "metadata": {
    "id": "EY15NKgSrCb4"
   },
   "source": [
    "EJERCICIO:\n",
    "\n",
    "Definir un modelo que tenga como entrada una capa del tipo Flatten. (definir input_shape).\n",
    "\n",
    "Luego una capa densa de 128 neuronas y Relu.\n",
    "\n",
    "Finalmente, la capa de salida. ¿De qué tipo será? ¿Cantidad de neuronas? ¿Función de activación?"
   ]
  },
  {
   "cell_type": "code",
   "execution_count": 42,
   "metadata": {
    "id": "voRYdrDBpdcI"
   },
   "outputs": [],
   "source": [
    "model = Sequential([\n",
    "    Flatten(input_shape=(28, 28)),\n",
    "    Dense(128, activation='relu'),\n",
    "    Dense(10, activation='softmax')\n",
    "])"
   ]
  },
  {
   "cell_type": "markdown",
   "metadata": {
    "id": "eJA0sskYsxCU"
   },
   "source": [
    "Ahora compilar el modelo.\n",
    "\n",
    "Utilizar como optimizer adam (lr de 0.0003), categorical_crossentropy como loss y accuracy como métrica."
   ]
  },
  {
   "cell_type": "code",
   "execution_count": 43,
   "metadata": {
    "colab": {
     "base_uri": "https://localhost:8080/"
    },
    "executionInfo": {
     "elapsed": 3,
     "status": "ok",
     "timestamp": 1636932124863,
     "user": {
      "displayName": "Federico Baiocco",
      "photoUrl": "https://lh3.googleusercontent.com/a-/AOh14Ghf2wyATB48QBNVeVnR-1Y2rw_O5uZLAvphY2Otz9c=s64",
      "userId": "14260194928165318342"
     },
     "user_tz": 180
    },
    "id": "Q-4FO2iUvVlz",
    "outputId": "ddc8f2c0-06e1-4a9e-c86d-7b52505860b6"
   },
   "outputs": [],
   "source": [
    "optimizer = Adam(lr=0.0003)"
   ]
  },
  {
   "cell_type": "code",
   "execution_count": 44,
   "metadata": {
    "id": "5zR6-EV7qG0j"
   },
   "outputs": [],
   "source": [
    "model.compile(optimizer=optimizer, loss='categorical_crossentropy',metrics=['accuracy'])"
   ]
  },
  {
   "cell_type": "code",
   "execution_count": 45,
   "metadata": {
    "colab": {
     "base_uri": "https://localhost:8080/"
    },
    "executionInfo": {
     "elapsed": 4,
     "status": "ok",
     "timestamp": 1636932125340,
     "user": {
      "displayName": "Federico Baiocco",
      "photoUrl": "https://lh3.googleusercontent.com/a-/AOh14Ghf2wyATB48QBNVeVnR-1Y2rw_O5uZLAvphY2Otz9c=s64",
      "userId": "14260194928165318342"
     },
     "user_tz": 180
    },
    "id": "rdMH3JWHufXz",
    "outputId": "9834d015-d6ee-441c-8982-5c2d518afbeb"
   },
   "outputs": [
    {
     "name": "stdout",
     "output_type": "stream",
     "text": [
      "Model: \"sequential_3\"\n",
      "_________________________________________________________________\n",
      "Layer (type)                 Output Shape              Param #   \n",
      "=================================================================\n",
      "flatten_1 (Flatten)          (None, 784)               0         \n",
      "_________________________________________________________________\n",
      "dense_7 (Dense)              (None, 128)               100480    \n",
      "_________________________________________________________________\n",
      "dense_8 (Dense)              (None, 10)                1290      \n",
      "=================================================================\n",
      "Total params: 101,770\n",
      "Trainable params: 101,770\n",
      "Non-trainable params: 0\n",
      "_________________________________________________________________\n"
     ]
    }
   ],
   "source": [
    "model.summary()"
   ]
  },
  {
   "cell_type": "markdown",
   "metadata": {
    "id": "ushRlOw9tBB7"
   },
   "source": [
    "Entrenar por 10 epocas. Setear un validation split de 10%. Recuerden guardar los resultados en la variable \"history\""
   ]
  },
  {
   "cell_type": "code",
   "execution_count": 46,
   "metadata": {
    "executionInfo": {
     "elapsed": 338,
     "status": "ok",
     "timestamp": 1636932763120,
     "user": {
      "displayName": "Federico Baiocco",
      "photoUrl": "https://lh3.googleusercontent.com/a-/AOh14Ghf2wyATB48QBNVeVnR-1Y2rw_O5uZLAvphY2Otz9c=s64",
      "userId": "14260194928165318342"
     },
     "user_tz": 180
    },
    "id": "hRfS_5UGs4Jg"
   },
   "outputs": [
    {
     "name": "stdout",
     "output_type": "stream",
     "text": [
      "Epoch 1/10\n",
      "1688/1688 [==============================] - 2s 1ms/step - loss: 5.1586 - accuracy: 0.8646 - val_loss: 1.6066 - val_accuracy: 0.9273\n",
      "Epoch 2/10\n",
      "1688/1688 [==============================] - 2s 1ms/step - loss: 1.2519 - accuracy: 0.9298 - val_loss: 0.8466 - val_accuracy: 0.9440\n",
      "Epoch 3/10\n",
      "1688/1688 [==============================] - 2s 1ms/step - loss: 0.6584 - accuracy: 0.9457 - val_loss: 0.6320 - val_accuracy: 0.9477\n",
      "Epoch 4/10\n",
      "1688/1688 [==============================] - 2s 1ms/step - loss: 0.4144 - accuracy: 0.9546 - val_loss: 0.4640 - val_accuracy: 0.9555\n",
      "Epoch 5/10\n",
      "1688/1688 [==============================] - 2s 1ms/step - loss: 0.3064 - accuracy: 0.9601 - val_loss: 0.4087 - val_accuracy: 0.9572\n",
      "Epoch 6/10\n",
      "1688/1688 [==============================] - 2s 1ms/step - loss: 0.2160 - accuracy: 0.9657 - val_loss: 0.3561 - val_accuracy: 0.9617\n",
      "Epoch 7/10\n",
      "1688/1688 [==============================] - 2s 1ms/step - loss: 0.1733 - accuracy: 0.9689 - val_loss: 0.3708 - val_accuracy: 0.9580\n",
      "Epoch 8/10\n",
      "1688/1688 [==============================] - 2s 1ms/step - loss: 0.1526 - accuracy: 0.9715 - val_loss: 0.3244 - val_accuracy: 0.9637\n",
      "Epoch 9/10\n",
      "1688/1688 [==============================] - 2s 1ms/step - loss: 0.1229 - accuracy: 0.9761 - val_loss: 0.3397 - val_accuracy: 0.9607\n",
      "Epoch 10/10\n",
      "1688/1688 [==============================] - 2s 1ms/step - loss: 0.1115 - accuracy: 0.9765 - val_loss: 0.2954 - val_accuracy: 0.9615\n"
     ]
    }
   ],
   "source": [
    "history = model.fit(X_train, y_train, epochs=10, validation_split=0.1)"
   ]
  },
  {
   "cell_type": "markdown",
   "metadata": {
    "id": "gyPAUPrluTAd"
   },
   "source": [
    "Ploteamos las métricas:"
   ]
  },
  {
   "cell_type": "code",
   "execution_count": 47,
   "metadata": {
    "executionInfo": {
     "elapsed": 257,
     "status": "ok",
     "timestamp": 1636932766103,
     "user": {
      "displayName": "Federico Baiocco",
      "photoUrl": "https://lh3.googleusercontent.com/a-/AOh14Ghf2wyATB48QBNVeVnR-1Y2rw_O5uZLAvphY2Otz9c=s64",
      "userId": "14260194928165318342"
     },
     "user_tz": 180
    },
    "id": "9MxltQk3tDE9"
   },
   "outputs": [
    {
     "data": {
      "image/png": "[encoded data removed]",
      "text/plain": [
       "<Figure size 432x288 with 1 Axes>"
      ]
     },
     "metadata": {
      "needs_background": "light"
     },
     "output_type": "display_data"
    },
    {
     "data": {
      "image/png": "[encoded data removed]",
      "text/plain": [
       "<Figure size 432x288 with 1 Axes>"
      ]
     },
     "metadata": {
      "needs_background": "light"
     },
     "output_type": "display_data"
    }
   ],
   "source": [
    "plt.plot(history.history['accuracy'])\n",
    "plt.plot(history.history['val_accuracy'])\n",
    "plt.title('Model accuracy')\n",
    "plt.ylabel('Accuracy')\n",
    "plt.xlabel('Epoch')\n",
    "plt.legend(['Train', 'Test'], loc='upper left')\n",
    "plt.show()\n",
    "\n",
    "plt.plot(history.history['loss'])\n",
    "plt.plot(history.history['val_loss'])\n",
    "plt.title('Model loss')\n",
    "plt.ylabel('Loss')\n",
    "plt.xlabel('Epoch')\n",
    "plt.legend(['Train', 'Test'], loc='upper left')\n",
    "plt.show()"
   ]
  },
  {
   "cell_type": "markdown",
   "metadata": {
    "id": "64QqTGUVxLAe"
   },
   "source": [
    "Con nuestra red neuronal podemos hacer predicciones igual que siempre:"
   ]
  },
  {
   "cell_type": "code",
   "execution_count": 48,
   "metadata": {
    "id": "nzY2mGOvuUdC"
   },
   "outputs": [],
   "source": [
    "predictions = model.predict(X_test)"
   ]
  },
  {
   "cell_type": "code",
   "execution_count": 54,
   "metadata": {
    "colab": {
     "base_uri": "https://localhost:8080/"
    },
    "executionInfo": {
     "elapsed": 411,
     "status": "ok",
     "timestamp": 1636932498213,
     "user": {
      "displayName": "Federico Baiocco",
      "photoUrl": "https://lh3.googleusercontent.com/a-/AOh14Ghf2wyATB48QBNVeVnR-1Y2rw_O5uZLAvphY2Otz9c=s64",
      "userId": "14260194928165318342"
     },
     "user_tz": 180
    },
    "id": "9_tpGuN6x4W-",
    "outputId": "a7e9c8a7-4444-4a35-84dc-26d983934d79"
   },
   "outputs": [
    {
     "data": {
      "text/plain": [
       "array([0.0000000e+00, 0.0000000e+00, 1.0718256e-36, 5.2315713e-17,\n",
       "       0.0000000e+00, 1.0759725e-34, 0.0000000e+00, 1.0000000e+00,\n",
       "       7.7066688e-33, 2.1299325e-26], dtype=float32)"
      ]
     },
     "execution_count": 54,
     "metadata": {},
     "output_type": "execute_result"
    }
   ],
   "source": [
    "predictions[0]"
   ]
  },
  {
   "cell_type": "markdown",
   "metadata": {
    "id": "cJJrXzWcx9LH"
   },
   "source": [
    "Vemos que no son números enteros sino que son probabilidades y entre todas suman 1."
   ]
  },
  {
   "cell_type": "code",
   "execution_count": 50,
   "metadata": {
    "colab": {
     "base_uri": "https://localhost:8080/"
    },
    "executionInfo": {
     "elapsed": 411,
     "status": "ok",
     "timestamp": 1636932573374,
     "user": {
      "displayName": "Federico Baiocco",
      "photoUrl": "https://lh3.googleusercontent.com/a-/AOh14Ghf2wyATB48QBNVeVnR-1Y2rw_O5uZLAvphY2Otz9c=s64",
      "userId": "14260194928165318342"
     },
     "user_tz": 180
    },
    "id": "Y5jSY9WjyBKL",
    "outputId": "c52ae27f-0600-45d7-ab04-1bd633ee1b24"
   },
   "outputs": [
    {
     "data": {
      "text/plain": [
       "7"
      ]
     },
     "execution_count": 50,
     "metadata": {},
     "output_type": "execute_result"
    }
   ],
   "source": [
    "predictions[0].argmax()"
   ]
  },
  {
   "cell_type": "code",
   "execution_count": 51,
   "metadata": {
    "colab": {
     "base_uri": "https://localhost:8080/"
    },
    "executionInfo": {
     "elapsed": 410,
     "status": "ok",
     "timestamp": 1636932620886,
     "user": {
      "displayName": "Federico Baiocco",
      "photoUrl": "https://lh3.googleusercontent.com/a-/AOh14Ghf2wyATB48QBNVeVnR-1Y2rw_O5uZLAvphY2Otz9c=s64",
      "userId": "14260194928165318342"
     },
     "user_tz": 180
    },
    "id": "-1mWSJqfyPLw",
    "outputId": "068874a2-b24b-4b6e-e790-089708901a5b"
   },
   "outputs": [
    {
     "data": {
      "text/plain": [
       "7"
      ]
     },
     "execution_count": 51,
     "metadata": {},
     "output_type": "execute_result"
    }
   ],
   "source": [
    "y_test[0].argmax()"
   ]
  },
  {
   "cell_type": "markdown",
   "metadata": {
    "id": "9b09kF08xvgw"
   },
   "source": [
    "Podemos evaluar:"
   ]
  },
  {
   "cell_type": "code",
   "execution_count": 52,
   "metadata": {
    "id": "YidG_l-ixXdA"
   },
   "outputs": [
    {
     "name": "stdout",
     "output_type": "stream",
     "text": [
      "313/313 - 0s - loss: 0.3863 - accuracy: 0.9545\n",
      "\n",
      "Test accuracy: 0.9545000195503235\n"
     ]
    }
   ],
   "source": [
    "test_loss, test_acc = model.evaluate(X_test,  y_test, verbose=2)\n",
    "\n",
    "print('\\nTest accuracy:', test_acc)"
   ]
  },
  {
   "cell_type": "code",
   "execution_count": null,
   "metadata": {},
   "outputs": [],
   "source": []
  }
 ],
 "metadata": {
  "colab": {
   "authorship_tag": "ABX9TyP68/WYrQUnmMfs6ZeDfaBz",
   "collapsed_sections": [],
   "name": "RN.ipynb",
   "provenance": []
  },
  "kernelspec": {
   "display_name": "Python 3",
   "language": "python",
   "name": "python3"
  },
  "language_info": {
   "codemirror_mode": {
    "name": "ipython",
    "version": 3
   },
   "file_extension": ".py",
   "mimetype": "text/x-python",
   "name": "python",
   "nbconvert_exporter": "python",
   "pygments_lexer": "ipython3",
   "version": "3.8.8"
  }
 },
 "nbformat": 4,
 "nbformat_minor": 1
}
